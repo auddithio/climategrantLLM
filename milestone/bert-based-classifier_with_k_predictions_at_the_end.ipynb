{
 "cells": [
  {
   "cell_type": "code",
   "execution_count": 1,
   "metadata": {},
   "outputs": [],
   "source": [
    "import os\n",
    "import torch\n",
    "from torch import nn\n",
    "from torch.utils.data import DataLoader, Dataset\n",
    "from sklearn.model_selection import train_test_split\n",
    "from sklearn.metrics import accuracy_score, classification_report\n",
    "import pandas as pd\n",
    "from transformers import BertTokenizer, BertModel, AdamW, get_linear_schedule_with_warmup\n",
    "\n",
    "\n",
    "import torch\n",
    "from tqdm.notebook import tqdm\n",
    "\n",
    "from transformers import BertTokenizer\n",
    "from torch.utils.data import TensorDataset\n",
    "\n",
    "from transformers import BertForSequenceClassification\n"
   ]
  },
  {
   "attachments": {},
   "cell_type": "markdown",
   "metadata": {},
   "source": [
    "# Helper Function"
   ]
  },
  {
   "cell_type": "code",
   "execution_count": 2,
   "metadata": {},
   "outputs": [],
   "source": [
    "import re\n",
    "def remove_numbers(text):\n",
    "    if isinstance(text, str):\n",
    "        return re.sub(r'\\d+', '', text)\n",
    "    return text\n",
    "\n",
    "\n",
    "def remove_year(string):\n",
    "    return re.sub(r'\\s20\\d{2}(\\s|\\-\\d{2})?', ' ', string)"
   ]
  },
  {
   "attachments": {},
   "cell_type": "markdown",
   "metadata": {},
   "source": [
    "# Import Data "
   ]
  },
  {
   "cell_type": "code",
   "execution_count": 3,
   "metadata": {},
   "outputs": [
    {
     "name": "stdout",
     "output_type": "stream",
     "text": [
      "79\n",
      "55\n"
     ]
    },
    {
     "name": "stderr",
     "output_type": "stream",
     "text": [
      "/var/folders/zn/y177ccm95vncshh465c0l2200000gn/T/ipykernel_43610/2104849965.py:13: SettingWithCopyWarning: \n",
      "A value is trying to be set on a copy of a slice from a DataFrame.\n",
      "Try using .loc[row_indexer,col_indexer] = value instead\n",
      "\n",
      "See the caveats in the documentation: https://pandas.pydata.org/pandas-docs/stable/user_guide/indexing.html#returning-a-view-versus-a-copy\n",
      "  clean_dataset['description'] = clean_dataset['description'].apply(remove_numbers)\n",
      "/var/folders/zn/y177ccm95vncshh465c0l2200000gn/T/ipykernel_43610/2104849965.py:14: SettingWithCopyWarning: \n",
      "A value is trying to be set on a copy of a slice from a DataFrame.\n",
      "Try using .loc[row_indexer,col_indexer] = value instead\n",
      "\n",
      "See the caveats in the documentation: https://pandas.pydata.org/pandas-docs/stable/user_guide/indexing.html#returning-a-view-versus-a-copy\n",
      "  clean_dataset['opportunitytitle'] = clean_dataset['opportunitytitle'].apply(remove_numbers)\n"
     ]
    }
   ],
   "source": [
    "\n",
    "dataset = pd.read_csv('/Users/bhumikornkongtaveelert/Documents/Spring 2024/CS 224N/final project/BERT-based classifier/BIL Launchpad Case studies - Sheet1.csv')\n",
    "\n",
    "\"\"\"\n",
    "Cleaning the data:\n",
    "- only include columns we will use: 'Project Name', 'Project Description', 'Applicants', 'opportunitytitle', 'description'\n",
    "- drop column with missing information\n",
    "- currently, the grant opportunities include years, i will omit this from their title to group recurring grants together\n",
    "\"\"\"\n",
    "dataset = dataset[['Project Name', 'Project Description', 'Applicants', 'opportunitytitle', 'description']]\n",
    "clean_dataset = dataset.dropna()\n",
    "print(len(clean_dataset['opportunitytitle'].unique()))\n",
    "# print(dataset['opportunitytitle'].unique())\n",
    "clean_dataset['description'] = clean_dataset['description'].apply(remove_numbers)\n",
    "clean_dataset['opportunitytitle'] = clean_dataset['opportunitytitle'].apply(remove_numbers)\n",
    "\n",
    "print(len(clean_dataset['opportunitytitle'].unique()))\n",
    "# print(dataset['opportunitytitle'].unique())"
   ]
  },
  {
   "attachments": {},
   "cell_type": "markdown",
   "metadata": {},
   "source": [
    "# Experiment 1: Classification of project <> grant name (multi-class text classification) (ignore description of program)"
   ]
  },
  {
   "cell_type": "code",
   "execution_count": 14,
   "metadata": {},
   "outputs": [
    {
     "name": "stderr",
     "output_type": "stream",
     "text": [
      "/var/folders/zn/y177ccm95vncshh465c0l2200000gn/T/ipykernel_43610/3795575931.py:3: SettingWithCopyWarning: \n",
      "A value is trying to be set on a copy of a slice from a DataFrame.\n",
      "Try using .loc[row_indexer,col_indexer] = value instead\n",
      "\n",
      "See the caveats in the documentation: https://pandas.pydata.org/pandas-docs/stable/user_guide/indexing.html#returning-a-view-versus-a-copy\n",
      "  simple_df['project_profile'] =  simple_df['Applicants'] + ': ' + simple_df['Project Description'] + ' ' + simple_df['Project Name']\n",
      "/var/folders/zn/y177ccm95vncshh465c0l2200000gn/T/ipykernel_43610/3795575931.py:12: FutureWarning: Downcasting behavior in `replace` is deprecated and will be removed in a future version. To retain the old behavior, explicitly call `result.infer_objects(copy=False)`. To opt-in to the future behavior, set `pd.set_option('future.no_silent_downcasting', True)`\n",
      "  simple_df['label'] = simple_df['opportunitytitle'].replace(label_dict)\n"
     ]
    },
    {
     "data": {
      "text/html": [
       "<div>\n",
       "<style scoped>\n",
       "    .dataframe tbody tr th:only-of-type {\n",
       "        vertical-align: middle;\n",
       "    }\n",
       "\n",
       "    .dataframe tbody tr th {\n",
       "        vertical-align: top;\n",
       "    }\n",
       "\n",
       "    .dataframe thead th {\n",
       "        text-align: right;\n",
       "    }\n",
       "</style>\n",
       "<table border=\"1\" class=\"dataframe\">\n",
       "  <thead>\n",
       "    <tr style=\"text-align: right;\">\n",
       "      <th></th>\n",
       "      <th></th>\n",
       "      <th>project_profile</th>\n",
       "    </tr>\n",
       "    <tr>\n",
       "      <th>opportunitytitle</th>\n",
       "      <th>label</th>\n",
       "      <th></th>\n",
       "    </tr>\n",
       "  </thead>\n",
       "  <tbody>\n",
       "    <tr>\n",
       "      <th>Competitive Funding Opportunity: Pilot Program for Transit-Oriented Development (TOD) Planning</th>\n",
       "      <th>14</th>\n",
       "      <td>20</td>\n",
       "    </tr>\n",
       "    <tr>\n",
       "      <th>Tribal Transportation Program Safety Fund</th>\n",
       "      <th>8</th>\n",
       "      <td>175</td>\n",
       "    </tr>\n",
       "    <tr>\n",
       "      <th>*FY  Notice of Funding Opportunity: Bipartisan Infrastructure Law (BIL) Airport Terminal Program (ATP) Grants</th>\n",
       "      <th>33</th>\n",
       "      <td>187</td>\n",
       "    </tr>\n",
       "    <tr>\n",
       "      <th>*FY  Notice of Funding Opportunity: Bipartisan Infrastructure Law (BIL) FAA Contract Tower (FCT) Competitive Grant Program</th>\n",
       "      <th>36</th>\n",
       "      <td>53</td>\n",
       "    </tr>\n",
       "    <tr>\n",
       "      <th>*Grants for Buses and Bus Facilities Program</th>\n",
       "      <th>54</th>\n",
       "      <td>2</td>\n",
       "    </tr>\n",
       "    <tr>\n",
       "      <th>*INFRA Grants</th>\n",
       "      <th>12</th>\n",
       "      <td>20</td>\n",
       "    </tr>\n",
       "    <tr>\n",
       "      <th>Advanced Transportation Technologies and  Innovative Mobility Deployment (ATTIMD) Program</th>\n",
       "      <th>17</th>\n",
       "      <td>8</td>\n",
       "    </tr>\n",
       "    <tr>\n",
       "      <th>Bridge Investment Program - Planning, Bridge Projects, and Large Bridge Projects</th>\n",
       "      <th>19</th>\n",
       "      <td>37</td>\n",
       "    </tr>\n",
       "    <tr>\n",
       "      <th>FY  Competitive Funding Opportunity:  Public Transportation on Indian Reservations Program; Tribal Transit Program</th>\n",
       "      <th>15</th>\n",
       "      <td>39</td>\n",
       "    </tr>\n",
       "    <tr>\n",
       "      <th>FY  Competitive Funding Opportunity: Airport Improvement Program Discretionary Grants</th>\n",
       "      <th>1</th>\n",
       "      <td>1086</td>\n",
       "    </tr>\n",
       "    <tr>\n",
       "      <th>FY  Competitive Funding Opportunity: All Stations Accessibility Program</th>\n",
       "      <th>21</th>\n",
       "      <td>15</td>\n",
       "    </tr>\n",
       "    <tr>\n",
       "      <th>FY  Competitive Funding Opportunity: Areas of Persistent Poverty Program</th>\n",
       "      <th>45</th>\n",
       "      <td>47</td>\n",
       "    </tr>\n",
       "    <tr>\n",
       "      <th>FY  Competitive Funding Opportunity: Buses and Bus Facilities Competitive Program</th>\n",
       "      <th>22</th>\n",
       "      <td>49</td>\n",
       "    </tr>\n",
       "    <tr>\n",
       "      <th>FY  Competitive Funding Opportunity: Electric or Low-Emitting Ferry Pilot Program</th>\n",
       "      <th>23</th>\n",
       "      <td>15</td>\n",
       "    </tr>\n",
       "    <tr>\n",
       "      <th>FY  Competitive Funding Opportunity: Ferry Service for Rural Communities Program</th>\n",
       "      <th>46</th>\n",
       "      <td>6</td>\n",
       "    </tr>\n",
       "    <tr>\n",
       "      <th>FY  Competitive Funding Opportunity: Passenger Ferry Grant Program</th>\n",
       "      <th>4</th>\n",
       "      <td>35</td>\n",
       "    </tr>\n",
       "    <tr>\n",
       "      <th>FY  Competitive Funding Opportunity: Public Transportation on Indian Reservations Program</th>\n",
       "      <th>11</th>\n",
       "      <td>25</td>\n",
       "    </tr>\n",
       "    <tr>\n",
       "      <th>FY  Competitive Funding Opportunity: Public Transportation on Indian Reservations Program; Tribal Transit Program</th>\n",
       "      <th>25</th>\n",
       "      <td>25</td>\n",
       "    </tr>\n",
       "    <tr>\n",
       "      <th>FY  Competitive Funding Opportunity: Rail Vehicle Replacement Grant Program (RAIL)</th>\n",
       "      <th>53</th>\n",
       "      <td>6</td>\n",
       "    </tr>\n",
       "    <tr>\n",
       "      <th>FY  Competitive Funding Opportunity; Buses and Bus Facilities Program</th>\n",
       "      <th>43</th>\n",
       "      <td>47</td>\n",
       "    </tr>\n",
       "    <tr>\n",
       "      <th>FY  Competitive Funding Opportunity; Low or No Emission Grant Program</th>\n",
       "      <th>20</th>\n",
       "      <td>100</td>\n",
       "    </tr>\n",
       "    <tr>\n",
       "      <th>FY  Competitive Funding Opportunity; Low or No Emission Vehicle Program</th>\n",
       "      <th>44</th>\n",
       "      <td>83</td>\n",
       "    </tr>\n",
       "    <tr>\n",
       "      <th>FY  National Infrastructure Investments</th>\n",
       "      <th>30</th>\n",
       "      <td>328</td>\n",
       "    </tr>\n",
       "    <tr>\n",
       "      <th>FY  Natural Gas Distribution Infrastructure Safety and Modernization Grant</th>\n",
       "      <th>31</th>\n",
       "      <td>37</td>\n",
       "    </tr>\n",
       "    <tr>\n",
       "      <th>FY  Notice of Funding Opportunity for Small Shipyard Grants</th>\n",
       "      <th>48</th>\n",
       "      <td>27</td>\n",
       "    </tr>\n",
       "    <tr>\n",
       "      <th>FY  Notice of Funding Opportunity: Bipartisan Infrastructure Law (BIL) Airport Terminal Program (ATP) Grants</th>\n",
       "      <th>0</th>\n",
       "      <td>168</td>\n",
       "    </tr>\n",
       "    <tr>\n",
       "      <th>FY  Pilot Program for Transit-Oriented Development (TOD) Planning</th>\n",
       "      <th>24</th>\n",
       "      <td>19</td>\n",
       "    </tr>\n",
       "    <tr>\n",
       "      <th>FY  and FY  Competitive Funding Opportunity: Competitive Grants for Rail Vehicle Replacement Program (Rail Program)</th>\n",
       "      <th>18</th>\n",
       "      <td>6</td>\n",
       "    </tr>\n",
       "    <tr>\n",
       "      <th>FY Consolidated Rail Infrastructure and Safety Improvements Grant Program</th>\n",
       "      <th>26</th>\n",
       "      <td>70</td>\n",
       "    </tr>\n",
       "    <tr>\n",
       "      <th>FY Corridor Identification and Development Grant Program</th>\n",
       "      <th>27</th>\n",
       "      <td>69</td>\n",
       "    </tr>\n",
       "    <tr>\n",
       "      <th>FY Federal-State Partnership for Intercity Passenger Rail Grant Program for projects not located on the Northeast Corridor</th>\n",
       "      <th>28</th>\n",
       "      <td>10</td>\n",
       "    </tr>\n",
       "    <tr>\n",
       "      <th>FY Railroad Crossing Elimination Grant Program</th>\n",
       "      <th>37</th>\n",
       "      <td>63</td>\n",
       "    </tr>\n",
       "    <tr>\n",
       "      <th>FY Tribal Transportation Program Safety Fund (TTPSF)</th>\n",
       "      <th>16</th>\n",
       "      <td>58</td>\n",
       "    </tr>\n",
       "    <tr>\n",
       "      <th>FY- Federal-State Partnership for Intercity Passenger Rail Grant Program for projects located on the Northeast Corridor</th>\n",
       "      <th>41</th>\n",
       "      <td>25</td>\n",
       "    </tr>\n",
       "    <tr>\n",
       "      <th>Fiscal Year  Competitive Funding Opportunity; Grants for Buses and Bus Facilities Program</th>\n",
       "      <th>13</th>\n",
       "      <td>70</td>\n",
       "    </tr>\n",
       "    <tr>\n",
       "      <th>Fiscal Year  National Culvert Removal, Replacement, and Restoration Grant Program (Culvert AOP Program)</th>\n",
       "      <th>29</th>\n",
       "      <td>59</td>\n",
       "    </tr>\n",
       "    <tr>\n",
       "      <th>Fiscal Years - Wildlife Crossings Pilot Program (WCPP)</th>\n",
       "      <th>42</th>\n",
       "      <td>19</td>\n",
       "    </tr>\n",
       "    <tr>\n",
       "      <th>Grants for Buses and Bus Facilities Program</th>\n",
       "      <th>2</th>\n",
       "      <td>189</td>\n",
       "    </tr>\n",
       "    <tr>\n",
       "      <th>INFRA Grants</th>\n",
       "      <th>7</th>\n",
       "      <td>188</td>\n",
       "    </tr>\n",
       "    <tr>\n",
       "      <th>Low or No Emission Program (Low-No Program)</th>\n",
       "      <th>9</th>\n",
       "      <td>90</td>\n",
       "    </tr>\n",
       "    <tr>\n",
       "      <th>Mega Grants</th>\n",
       "      <th>34</th>\n",
       "      <td>20</td>\n",
       "    </tr>\n",
       "    <tr>\n",
       "      <th>Neighborhood Access and Equity (NAE) Program</th>\n",
       "      <th>47</th>\n",
       "      <td>139</td>\n",
       "    </tr>\n",
       "    <tr>\n",
       "      <th>Passenger Ferry Grant Program</th>\n",
       "      <th>10</th>\n",
       "      <td>12</td>\n",
       "    </tr>\n",
       "    <tr>\n",
       "      <th>Pilot Program for Transit-Oriented Development (TOD) Planning</th>\n",
       "      <th>5</th>\n",
       "      <td>33</td>\n",
       "    </tr>\n",
       "    <tr>\n",
       "      <th>Public Transportation on Indian Reservations Program</th>\n",
       "      <th>6</th>\n",
       "      <td>39</td>\n",
       "    </tr>\n",
       "    <tr>\n",
       "      <th>Reconnecting Communities Pilot Discretionary Grant Program</th>\n",
       "      <th>38</th>\n",
       "      <td>45</td>\n",
       "    </tr>\n",
       "    <tr>\n",
       "      <th>Rural Surface Transportation Grant Progam</th>\n",
       "      <th>52</th>\n",
       "      <td>36</td>\n",
       "    </tr>\n",
       "    <tr>\n",
       "      <th>Rural Surface Transportation Grant Program</th>\n",
       "      <th>35</th>\n",
       "      <td>12</td>\n",
       "    </tr>\n",
       "    <tr>\n",
       "      <th>SMART Grants Notice of Funding</th>\n",
       "      <th>50</th>\n",
       "      <td>34</td>\n",
       "    </tr>\n",
       "    <tr>\n",
       "      <th>Safe Streets and Roads for All Discretionary Grant Program</th>\n",
       "      <th>39</th>\n",
       "      <td>37</td>\n",
       "    </tr>\n",
       "    <tr>\n",
       "      <th>Safe Streets and Roads for All Funding Opportunity</th>\n",
       "      <th>49</th>\n",
       "      <td>385</td>\n",
       "    </tr>\n",
       "    <tr>\n",
       "      <th>Solicitation of Project Proposals for the Low or No Emission (Low-No) Program</th>\n",
       "      <th>3</th>\n",
       "      <td>38</td>\n",
       "    </tr>\n",
       "    <tr>\n",
       "      <th>Strengthening Mobility and Revolutionizing Transportation (SMART) Grants Program</th>\n",
       "      <th>40</th>\n",
       "      <td>59</td>\n",
       "    </tr>\n",
       "    <tr>\n",
       "      <th>The Infrastructure Investment and Jobs Act (IIJA) Notice of Funding Opportunity for America&amp;#;s Marine Highway Program</th>\n",
       "      <th>32</th>\n",
       "      <td>12</td>\n",
       "    </tr>\n",
       "    <tr>\n",
       "      <th>United States Marine Highway Grants</th>\n",
       "      <th>51</th>\n",
       "      <td>8</td>\n",
       "    </tr>\n",
       "  </tbody>\n",
       "</table>\n",
       "</div>"
      ],
      "text/plain": [
       "                                                          project_profile\n",
       "opportunitytitle                                   label                 \n",
       " Competitive Funding Opportunity: Pilot Program... 14                  20\n",
       " Tribal Transportation Program Safety Fund         8                  175\n",
       "*FY  Notice of Funding Opportunity: Bipartisan ... 33                 187\n",
       "*FY  Notice of Funding Opportunity: Bipartisan ... 36                  53\n",
       "*Grants for Buses and Bus Facilities Program       54                   2\n",
       "*INFRA Grants                                      12                  20\n",
       "Advanced Transportation Technologies and  Innov... 17                   8\n",
       "Bridge Investment Program - Planning, Bridge Pr... 19                  37\n",
       "FY  Competitive Funding Opportunity:  Public Tr... 15                  39\n",
       "FY  Competitive Funding Opportunity: Airport Im... 1                 1086\n",
       "FY  Competitive Funding Opportunity: All Statio... 21                  15\n",
       "FY  Competitive Funding Opportunity: Areas of P... 45                  47\n",
       "FY  Competitive Funding Opportunity: Buses and ... 22                  49\n",
       "FY  Competitive Funding Opportunity: Electric o... 23                  15\n",
       "FY  Competitive Funding Opportunity: Ferry Serv... 46                   6\n",
       "FY  Competitive Funding Opportunity: Passenger ... 4                   35\n",
       "FY  Competitive Funding Opportunity: Public Tra... 11                  25\n",
       "FY  Competitive Funding Opportunity: Public Tra... 25                  25\n",
       "FY  Competitive Funding Opportunity: Rail Vehic... 53                   6\n",
       "FY  Competitive Funding Opportunity; Buses and ... 43                  47\n",
       "FY  Competitive Funding Opportunity; Low or No ... 20                 100\n",
       "FY  Competitive Funding Opportunity; Low or No ... 44                  83\n",
       "FY  National Infrastructure Investments            30                 328\n",
       "FY  Natural Gas Distribution Infrastructure Saf... 31                  37\n",
       "FY  Notice of Funding Opportunity for Small Shi... 48                  27\n",
       "FY  Notice of Funding Opportunity: Bipartisan I... 0                  168\n",
       "FY  Pilot Program for Transit-Oriented Developm... 24                  19\n",
       "FY  and FY  Competitive Funding Opportunity: Co... 18                   6\n",
       "FY Consolidated Rail Infrastructure and Safety ... 26                  70\n",
       "FY Corridor Identification and Development Gran... 27                  69\n",
       "FY Federal-State Partnership for Intercity Pass... 28                  10\n",
       "FY Railroad Crossing Elimination Grant Program     37                  63\n",
       "FY Tribal Transportation Program Safety Fund (T... 16                  58\n",
       "FY- Federal-State Partnership for Intercity Pas... 41                  25\n",
       "Fiscal Year  Competitive Funding Opportunity; G... 13                  70\n",
       "Fiscal Year  National Culvert Removal, Replacem... 29                  59\n",
       "Fiscal Years - Wildlife Crossings Pilot Program... 42                  19\n",
       "Grants for Buses and Bus Facilities Program        2                  189\n",
       "INFRA Grants                                       7                  188\n",
       "Low or No Emission Program (Low-No Program)        9                   90\n",
       "Mega Grants                                        34                  20\n",
       "Neighborhood Access and Equity (NAE) Program       47                 139\n",
       "Passenger Ferry Grant Program                      10                  12\n",
       "Pilot Program for Transit-Oriented Development ... 5                   33\n",
       "Public Transportation on Indian Reservations Pr... 6                   39\n",
       "Reconnecting Communities Pilot Discretionary Gr... 38                  45\n",
       "Rural Surface Transportation Grant Progam          52                  36\n",
       "Rural Surface Transportation Grant Program         35                  12\n",
       "SMART Grants Notice of Funding                     50                  34\n",
       "Safe Streets and Roads for All Discretionary Gr... 39                  37\n",
       "Safe Streets and Roads for All Funding Opportunity 49                 385\n",
       "Solicitation of Project Proposals for the Low o... 3                   38\n",
       "Strengthening Mobility and Revolutionizing Tran... 40                  59\n",
       "The Infrastructure Investment and Jobs Act (IIJ... 32                  12\n",
       "United States Marine Highway Grants                51                   8"
      ]
     },
     "execution_count": 14,
     "metadata": {},
     "output_type": "execute_result"
    }
   ],
   "source": [
    "# Create new dataset of project + project name and grant title\n",
    "simple_df = clean_dataset[['Project Name', 'Project Description', 'Applicants', 'opportunitytitle']]\n",
    "simple_df['project_profile'] =  simple_df['Applicants'] + ': ' + simple_df['Project Description'] + ' ' + simple_df['Project Name'] \n",
    "simple_df = simple_df[['project_profile','opportunitytitle'] ]\n",
    "possible_grants = simple_df['opportunitytitle'].unique()\n",
    "\n",
    "#substitute label with number instead\n",
    "label_dict = {}\n",
    "for index, possible_label in enumerate(possible_grants):\n",
    "    label_dict[possible_label] = index\n",
    "\n",
    "simple_df['label'] = simple_df['opportunitytitle'].replace(label_dict)\n",
    "simple_df.groupby(['opportunitytitle', 'label']).count()\n"
   ]
  },
  {
   "cell_type": "code",
   "execution_count": 90,
   "metadata": {},
   "outputs": [
    {
     "data": {
      "text/plain": [
       "'Fairbanks International Airport: This award funds the replacement of the passenger boarding bridge at Gate 3. Fairbanks International Airport'"
      ]
     },
     "execution_count": 90,
     "metadata": {},
     "output_type": "execute_result"
    }
   ],
   "source": [
    "simple_df['project_profile'][0]"
   ]
  },
  {
   "attachments": {},
   "cell_type": "markdown",
   "metadata": {},
   "source": [
    "# Experiment 2: Classification of project <> grant name (multi-class text classification) (with description of program)"
   ]
  },
  {
   "cell_type": "code",
   "execution_count": null,
   "metadata": {},
   "outputs": [],
   "source": [
    "def remove_year(string):\n",
    "    return re.sub(r'\\s20\\d{2}(\\s|\\-\\d{2})?', ' ', string)"
   ]
  },
  {
   "cell_type": "code",
   "execution_count": 41,
   "metadata": {},
   "outputs": [
    {
     "name": "stdout",
     "output_type": "stream",
     "text": [
      "79\n",
      "55\n"
     ]
    },
    {
     "name": "stderr",
     "output_type": "stream",
     "text": [
      "/var/folders/zn/y177ccm95vncshh465c0l2200000gn/T/ipykernel_43610/2315656795.py:13: SettingWithCopyWarning: \n",
      "A value is trying to be set on a copy of a slice from a DataFrame.\n",
      "Try using .loc[row_indexer,col_indexer] = value instead\n",
      "\n",
      "See the caveats in the documentation: https://pandas.pydata.org/pandas-docs/stable/user_guide/indexing.html#returning-a-view-versus-a-copy\n",
      "  clean_dataset['description'] = clean_dataset['description'].apply(remove_numbers)\n",
      "/var/folders/zn/y177ccm95vncshh465c0l2200000gn/T/ipykernel_43610/2315656795.py:14: SettingWithCopyWarning: \n",
      "A value is trying to be set on a copy of a slice from a DataFrame.\n",
      "Try using .loc[row_indexer,col_indexer] = value instead\n",
      "\n",
      "See the caveats in the documentation: https://pandas.pydata.org/pandas-docs/stable/user_guide/indexing.html#returning-a-view-versus-a-copy\n",
      "  clean_dataset['opportunitytitle'] = clean_dataset['opportunitytitle'].apply(remove_numbers)\n",
      "/var/folders/zn/y177ccm95vncshh465c0l2200000gn/T/ipykernel_43610/2315656795.py:20: SettingWithCopyWarning: \n",
      "A value is trying to be set on a copy of a slice from a DataFrame.\n",
      "Try using .loc[row_indexer,col_indexer] = value instead\n",
      "\n",
      "See the caveats in the documentation: https://pandas.pydata.org/pandas-docs/stable/user_guide/indexing.html#returning-a-view-versus-a-copy\n",
      "  simple_df['project_profile'] =  simple_df['Applicants'] + ': ' + simple_df['Project Description'] + ' ' + simple_df['Project Name']\n",
      "/var/folders/zn/y177ccm95vncshh465c0l2200000gn/T/ipykernel_43610/2315656795.py:21: SettingWithCopyWarning: \n",
      "A value is trying to be set on a copy of a slice from a DataFrame.\n",
      "Try using .loc[row_indexer,col_indexer] = value instead\n",
      "\n",
      "See the caveats in the documentation: https://pandas.pydata.org/pandas-docs/stable/user_guide/indexing.html#returning-a-view-versus-a-copy\n",
      "  simple_df['grant_profile'] =  simple_df['opportunitytitle'] + ': ' + simple_df['description']\n",
      "/var/folders/zn/y177ccm95vncshh465c0l2200000gn/T/ipykernel_43610/2315656795.py:30: FutureWarning: Downcasting behavior in `replace` is deprecated and will be removed in a future version. To retain the old behavior, explicitly call `result.infer_objects(copy=False)`. To opt-in to the future behavior, set `pd.set_option('future.no_silent_downcasting', True)`\n",
      "  simple_df['label'] = simple_df['grant_profile'].replace(label_dict)\n",
      "/var/folders/zn/y177ccm95vncshh465c0l2200000gn/T/ipykernel_43610/2315656795.py:30: SettingWithCopyWarning: \n",
      "A value is trying to be set on a copy of a slice from a DataFrame.\n",
      "Try using .loc[row_indexer,col_indexer] = value instead\n",
      "\n",
      "See the caveats in the documentation: https://pandas.pydata.org/pandas-docs/stable/user_guide/indexing.html#returning-a-view-versus-a-copy\n",
      "  simple_df['label'] = simple_df['grant_profile'].replace(label_dict)\n"
     ]
    },
    {
     "data": {
      "text/plain": [
       "<pandas.core.groupby.generic.DataFrameGroupBy object at 0x7fe512818490>"
      ]
     },
     "execution_count": 41,
     "metadata": {},
     "output_type": "execute_result"
    }
   ],
   "source": [
    "dataset = pd.read_csv('/Users/bhumikornkongtaveelert/Documents/Spring 2024/CS 224N/final project/BERT-based classifier/BIL Launchpad Case studies - Sheet1.csv')\n",
    "\n",
    "\"\"\"\n",
    "Cleaning the data:\n",
    "- only include columns we will use: 'Project Name', 'Project Description', 'Applicants', 'opportunitytitle', 'description'\n",
    "- drop column with missing information\n",
    "- currently, the grant opportunities include years, i will omit this from their title to group recurring grants together\n",
    "\"\"\"\n",
    "dataset = dataset[['Project Name', 'Project Description', 'Applicants', 'opportunitytitle', 'description']]\n",
    "clean_dataset = dataset.dropna()\n",
    "print(len(clean_dataset['opportunitytitle'].unique()))\n",
    "# print(dataset['opportunitytitle'].unique())\n",
    "clean_dataset['description'] = clean_dataset['description'].apply(remove_numbers)\n",
    "clean_dataset['opportunitytitle'] = clean_dataset['opportunitytitle'].apply(remove_numbers)\n",
    "\n",
    "print(len(clean_dataset['opportunitytitle'].unique()))\n",
    "# print(dataset['opportunitytitle'].unique())\n",
    "\n",
    "simple_df = clean_dataset\n",
    "simple_df['project_profile'] =  simple_df['Applicants'] + ': ' + simple_df['Project Description'] + ' ' + simple_df['Project Name'] \n",
    "simple_df['grant_profile'] =  simple_df['opportunitytitle'] + ': ' + simple_df['description'] \n",
    "simple_df = simple_df[['project_profile','grant_profile'] ]\n",
    "possible_grants = simple_df['grant_profile'].unique()\n",
    "\n",
    "#substitute label with number instead\n",
    "label_dict = {}\n",
    "for index, possible_label in enumerate(possible_grants):\n",
    "    label_dict[possible_label] = index\n",
    "\n",
    "simple_df['label'] = simple_df['grant_profile'].replace(label_dict)\n",
    "simple_df['grant_profile'].unique()[0]\n",
    "simple_df.groupby(['grant_profile']) #.to_csv('file.csv')"
   ]
  },
  {
   "cell_type": "code",
   "execution_count": 43,
   "metadata": {},
   "outputs": [
    {
     "data": {
      "text/plain": [
       "array(['Fairbanks International Airport: This award funds the replacement of the passenger boarding bridge at Gate 3. Fairbanks International Airport',\n",
       "       'Ted Stevens Anchorage International Airport: This award funds the installation of 110 audio and visual monitors/stations in the terminal to better serve the passengers. Ted Stevens Anchorage International Airport',\n",
       "       'Ted Stevens Anchorage International Airport: This award funds the installation of a new passenger boarding bridge at gate B4. Ted Stevens Anchorage International Airport',\n",
       "       ...,\n",
       "       \"Southeastern Pennsylvania Transportation Authority: The Southeastern Pennsylvania Transportation Authority (SEPTA) will receive funding to buy up to 200 new rail cars to replace older rail cars that have been in service for nearly 25 years, operating along the Market Frankford Line, the most heavily used line in SEPTA's system. buy up to 200 new rail cars to replace older rail cars\",\n",
       "       \"Colorado Department of Transportation: The Colorado Department of Transportation, on behalf of Summit Stage, a rural transit agency serving Summit, Park and Lake counties, will receive funding to build a new charging and operation bus facility, which will include 100% electrification, fleet storage, and electric vehicle charging. The new facility will replace Summit Stage's current aging facility. Colorado Department of Transportation_CO_Buses and Bus Facilities Competitive Program\",\n",
       "       'Bi-State Development Agency: The Bi-State Development Agency of St. Louis will receive funding to transform bus stops into mobility hubs to improve safety and create a more welcoming experience for riders. The hubs will improve accessibility and include amenities such as benches, lighting and community information, at key transit transfer points. The BiState Development Agency of St Louis to transform bus stops into mobility hubs to improve safety and create a more welcoming experience for ride_MO'],\n",
       "      dtype=object)"
      ]
     },
     "execution_count": 43,
     "metadata": {},
     "output_type": "execute_result"
    }
   ],
   "source": [
    "simple_df['project_profile'].unique()"
   ]
  },
  {
   "attachments": {},
   "cell_type": "markdown",
   "metadata": {},
   "source": [
    "# Train validation split"
   ]
  },
  {
   "cell_type": "code",
   "execution_count": 22,
   "metadata": {},
   "outputs": [
    {
     "ename": "KeyError",
     "evalue": "'grant_profile'",
     "output_type": "error",
     "traceback": [
      "\u001b[0;31m---------------------------------------------------------------------------\u001b[0m",
      "\u001b[0;31mKeyError\u001b[0m                                  Traceback (most recent call last)",
      "Cell \u001b[0;32mIn[22], line 14\u001b[0m\n\u001b[1;32m     11\u001b[0m simple_df\u001b[39m.\u001b[39mloc[X_train, \u001b[39m'\u001b[39m\u001b[39mdata_type\u001b[39m\u001b[39m'\u001b[39m] \u001b[39m=\u001b[39m \u001b[39m'\u001b[39m\u001b[39mtrain\u001b[39m\u001b[39m'\u001b[39m\n\u001b[1;32m     12\u001b[0m simple_df\u001b[39m.\u001b[39mloc[X_val, \u001b[39m'\u001b[39m\u001b[39mdata_type\u001b[39m\u001b[39m'\u001b[39m] \u001b[39m=\u001b[39m \u001b[39m'\u001b[39m\u001b[39mval\u001b[39m\u001b[39m'\u001b[39m\n\u001b[0;32m---> 14\u001b[0m simple_df\u001b[39m.\u001b[39;49mgroupby([\u001b[39m'\u001b[39;49m\u001b[39mgrant_profile\u001b[39;49m\u001b[39m'\u001b[39;49m])\u001b[39m.\u001b[39mcount()\n",
      "File \u001b[0;32m~/miniconda3/envs/cs224n/lib/python3.10/site-packages/pandas/core/frame.py:9170\u001b[0m, in \u001b[0;36mDataFrame.groupby\u001b[0;34m(self, by, axis, level, as_index, sort, group_keys, observed, dropna)\u001b[0m\n\u001b[1;32m   9167\u001b[0m \u001b[39mif\u001b[39;00m level \u001b[39mis\u001b[39;00m \u001b[39mNone\u001b[39;00m \u001b[39mand\u001b[39;00m by \u001b[39mis\u001b[39;00m \u001b[39mNone\u001b[39;00m:\n\u001b[1;32m   9168\u001b[0m     \u001b[39mraise\u001b[39;00m \u001b[39mTypeError\u001b[39;00m(\u001b[39m\"\u001b[39m\u001b[39mYou have to supply one of \u001b[39m\u001b[39m'\u001b[39m\u001b[39mby\u001b[39m\u001b[39m'\u001b[39m\u001b[39m and \u001b[39m\u001b[39m'\u001b[39m\u001b[39mlevel\u001b[39m\u001b[39m'\u001b[39m\u001b[39m\"\u001b[39m)\n\u001b[0;32m-> 9170\u001b[0m \u001b[39mreturn\u001b[39;00m DataFrameGroupBy(\n\u001b[1;32m   9171\u001b[0m     obj\u001b[39m=\u001b[39;49m\u001b[39mself\u001b[39;49m,\n\u001b[1;32m   9172\u001b[0m     keys\u001b[39m=\u001b[39;49mby,\n\u001b[1;32m   9173\u001b[0m     axis\u001b[39m=\u001b[39;49maxis,\n\u001b[1;32m   9174\u001b[0m     level\u001b[39m=\u001b[39;49mlevel,\n\u001b[1;32m   9175\u001b[0m     as_index\u001b[39m=\u001b[39;49mas_index,\n\u001b[1;32m   9176\u001b[0m     sort\u001b[39m=\u001b[39;49msort,\n\u001b[1;32m   9177\u001b[0m     group_keys\u001b[39m=\u001b[39;49mgroup_keys,\n\u001b[1;32m   9178\u001b[0m     observed\u001b[39m=\u001b[39;49mobserved,\n\u001b[1;32m   9179\u001b[0m     dropna\u001b[39m=\u001b[39;49mdropna,\n\u001b[1;32m   9180\u001b[0m )\n",
      "File \u001b[0;32m~/miniconda3/envs/cs224n/lib/python3.10/site-packages/pandas/core/groupby/groupby.py:1329\u001b[0m, in \u001b[0;36mGroupBy.__init__\u001b[0;34m(self, obj, keys, axis, level, grouper, exclusions, selection, as_index, sort, group_keys, observed, dropna)\u001b[0m\n\u001b[1;32m   1326\u001b[0m \u001b[39mself\u001b[39m\u001b[39m.\u001b[39mdropna \u001b[39m=\u001b[39m dropna\n\u001b[1;32m   1328\u001b[0m \u001b[39mif\u001b[39;00m grouper \u001b[39mis\u001b[39;00m \u001b[39mNone\u001b[39;00m:\n\u001b[0;32m-> 1329\u001b[0m     grouper, exclusions, obj \u001b[39m=\u001b[39m get_grouper(\n\u001b[1;32m   1330\u001b[0m         obj,\n\u001b[1;32m   1331\u001b[0m         keys,\n\u001b[1;32m   1332\u001b[0m         axis\u001b[39m=\u001b[39;49maxis,\n\u001b[1;32m   1333\u001b[0m         level\u001b[39m=\u001b[39;49mlevel,\n\u001b[1;32m   1334\u001b[0m         sort\u001b[39m=\u001b[39;49msort,\n\u001b[1;32m   1335\u001b[0m         observed\u001b[39m=\u001b[39;49m\u001b[39mFalse\u001b[39;49;00m \u001b[39mif\u001b[39;49;00m observed \u001b[39mis\u001b[39;49;00m lib\u001b[39m.\u001b[39;49mno_default \u001b[39melse\u001b[39;49;00m observed,\n\u001b[1;32m   1336\u001b[0m         dropna\u001b[39m=\u001b[39;49m\u001b[39mself\u001b[39;49m\u001b[39m.\u001b[39;49mdropna,\n\u001b[1;32m   1337\u001b[0m     )\n\u001b[1;32m   1339\u001b[0m \u001b[39mif\u001b[39;00m observed \u001b[39mis\u001b[39;00m lib\u001b[39m.\u001b[39mno_default:\n\u001b[1;32m   1340\u001b[0m     \u001b[39mif\u001b[39;00m \u001b[39many\u001b[39m(ping\u001b[39m.\u001b[39m_passed_categorical \u001b[39mfor\u001b[39;00m ping \u001b[39min\u001b[39;00m grouper\u001b[39m.\u001b[39mgroupings):\n",
      "File \u001b[0;32m~/miniconda3/envs/cs224n/lib/python3.10/site-packages/pandas/core/groupby/grouper.py:1043\u001b[0m, in \u001b[0;36mget_grouper\u001b[0;34m(obj, key, axis, level, sort, observed, validate, dropna)\u001b[0m\n\u001b[1;32m   1041\u001b[0m         in_axis, level, gpr \u001b[39m=\u001b[39m \u001b[39mFalse\u001b[39;00m, gpr, \u001b[39mNone\u001b[39;00m\n\u001b[1;32m   1042\u001b[0m     \u001b[39melse\u001b[39;00m:\n\u001b[0;32m-> 1043\u001b[0m         \u001b[39mraise\u001b[39;00m \u001b[39mKeyError\u001b[39;00m(gpr)\n\u001b[1;32m   1044\u001b[0m \u001b[39melif\u001b[39;00m \u001b[39misinstance\u001b[39m(gpr, Grouper) \u001b[39mand\u001b[39;00m gpr\u001b[39m.\u001b[39mkey \u001b[39mis\u001b[39;00m \u001b[39mnot\u001b[39;00m \u001b[39mNone\u001b[39;00m:\n\u001b[1;32m   1045\u001b[0m     \u001b[39m# Add key to exclusions\u001b[39;00m\n\u001b[1;32m   1046\u001b[0m     exclusions\u001b[39m.\u001b[39madd(gpr\u001b[39m.\u001b[39mkey)\n",
      "\u001b[0;31mKeyError\u001b[0m: 'grant_profile'"
     ]
    }
   ],
   "source": [
    "from sklearn.model_selection import train_test_split\n",
    "\n",
    "X_train, X_val, y_train, y_val = train_test_split(simple_df.index.values, \n",
    "                                                  simple_df.label.values, \n",
    "                                                  test_size=0.15, \n",
    "                                                  random_state=42, \n",
    "                                                  stratify=simple_df.label.values)\n",
    "\n",
    "simple_df['data_type'] = ['not_set']*simple_df.shape[0]\n",
    "\n",
    "simple_df.loc[X_train, 'data_type'] = 'train'\n",
    "simple_df.loc[X_val, 'data_type'] = 'val'\n",
    "\n",
    "simple_df.groupby(['grant_profile']).count()"
   ]
  },
  {
   "attachments": {},
   "cell_type": "markdown",
   "metadata": {},
   "source": [
    "# Tokenisation"
   ]
  },
  {
   "cell_type": "code",
   "execution_count": 7,
   "metadata": {},
   "outputs": [
    {
     "name": "stderr",
     "output_type": "stream",
     "text": [
      "/Users/bhumikornkongtaveelert/miniconda3/envs/cs224n/lib/python3.10/site-packages/transformers/tokenization_utils_base.py:2645: FutureWarning: The `pad_to_max_length` argument is deprecated and will be removed in a future version, use `padding=True` or `padding='longest'` to pad to the longest sequence in the batch, or use `padding='max_length'` to pad to a max length. In this case, you can give a specific length with `max_length` (e.g. `max_length=45`) or leave max_length to None to pad to the maximal input size of the model (e.g. 512 for Bert).\n",
      "  warnings.warn(\n"
     ]
    }
   ],
   "source": [
    "\"\"\"\n",
    "Constructs a BERT tokenizer. Based on WordPiece.\n",
    "Instantiate a pre-trained BERT model configuration to encode our data.\n",
    "To convert all the titles from text into encoded form, we use a function called batch_encode_plus , and we will proceed train and validation data separately.\n",
    "The 1st parameter inside the above function is the title text.\n",
    "add_special_tokens=True means the sequences will be encoded with the special tokens relative to their model.\n",
    "When batching sequences together, we set return_attention_mask=True, so it will return the attention mask according to the specific tokenizer defined by the max_length attribute.\n",
    "We also want to pad all the titles to certain maximum length.\n",
    "We actually do not need to set max_length=256, but just to play it safe.\n",
    "return_tensors='pt' to return PyTorch.\n",
    "And then we need to split the data into input_ids, attention_masks and labels.\n",
    "Finally, after we get encoded data set, we can create training data and validation data.\n",
    "\"\"\"\n",
    "\n",
    "tokenizer = BertTokenizer.from_pretrained('bert-base-uncased', \n",
    "                                          do_lower_case=True)\n",
    "                                          \n",
    "encoded_data_train = tokenizer.batch_encode_plus(\n",
    "    simple_df[simple_df.data_type=='train'].project_profile.values, \n",
    "    add_special_tokens=True, \n",
    "    return_attention_mask=True, \n",
    "    pad_to_max_length=True, \n",
    "    # max_length=256, \n",
    "    return_tensors='pt'\n",
    ")\n",
    "\n",
    "encoded_data_val = tokenizer.batch_encode_plus(\n",
    "    simple_df[simple_df.data_type=='val'].project_profile.values, \n",
    "    add_special_tokens=True, \n",
    "    return_attention_mask=True, \n",
    "    pad_to_max_length=True, \n",
    "    # max_length=256, \n",
    "    return_tensors='pt'\n",
    ")\n",
    "\n",
    "input_ids_train = encoded_data_train['input_ids']\n",
    "attention_masks_train = encoded_data_train['attention_mask']\n",
    "labels_train = torch.tensor(simple_df[simple_df.data_type=='train'].label.values)\n",
    "\n",
    "input_ids_val = encoded_data_val['input_ids']\n",
    "attention_masks_val = encoded_data_val['attention_mask']\n",
    "labels_val = torch.tensor(simple_df[simple_df.data_type=='val'].label.values)\n",
    "\n",
    "dataset_train = TensorDataset(input_ids_train, attention_masks_train, labels_train)\n",
    "dataset_val = TensorDataset(input_ids_val, attention_masks_val, labels_val)\n"
   ]
  },
  {
   "cell_type": "code",
   "execution_count": 21,
   "metadata": {},
   "outputs": [
    {
     "data": {
      "text/plain": [
       "tensor([[1, 1, 1,  ..., 0, 0, 0],\n",
       "        [1, 1, 1,  ..., 0, 0, 0],\n",
       "        [1, 1, 1,  ..., 0, 0, 0],\n",
       "        ...,\n",
       "        [1, 1, 1,  ..., 0, 0, 0],\n",
       "        [1, 1, 1,  ..., 0, 0, 0],\n",
       "        [1, 1, 1,  ..., 0, 0, 0]])"
      ]
     },
     "execution_count": 21,
     "metadata": {},
     "output_type": "execute_result"
    }
   ],
   "source": [
    "attention_masks_train"
   ]
  },
  {
   "attachments": {},
   "cell_type": "markdown",
   "metadata": {},
   "source": [
    "# BERT"
   ]
  },
  {
   "cell_type": "code",
   "execution_count": 8,
   "metadata": {},
   "outputs": [
    {
     "name": "stderr",
     "output_type": "stream",
     "text": [
      "Some weights of BertForSequenceClassification were not initialized from the model checkpoint at bert-base-uncased and are newly initialized: ['classifier.bias', 'classifier.weight']\n",
      "You should probably TRAIN this model on a down-stream task to be able to use it for predictions and inference.\n"
     ]
    }
   ],
   "source": [
    "model = BertForSequenceClassification.from_pretrained(\"bert-base-uncased\",\n",
    "                                                      num_labels=len(label_dict),\n",
    "                                                      output_attentions=False,\n",
    "                                                      output_hidden_states=False)\n"
   ]
  },
  {
   "cell_type": "code",
   "execution_count": 9,
   "metadata": {},
   "outputs": [],
   "source": [
    "from torch.utils.data import DataLoader, RandomSampler, SequentialSampler\n",
    "\n",
    "batch_size = 3\n",
    "\n",
    "dataloader_train = DataLoader(dataset_train, \n",
    "                              sampler=RandomSampler(dataset_train), \n",
    "                              batch_size=batch_size)\n",
    "\n",
    "dataloader_validation = DataLoader(dataset_val, \n",
    "                                   sampler=SequentialSampler(dataset_val), \n",
    "                                   batch_size=batch_size)"
   ]
  },
  {
   "cell_type": "code",
   "execution_count": 10,
   "metadata": {},
   "outputs": [
    {
     "name": "stderr",
     "output_type": "stream",
     "text": [
      "/Users/bhumikornkongtaveelert/miniconda3/envs/cs224n/lib/python3.10/site-packages/transformers/optimization.py:429: FutureWarning: This implementation of AdamW is deprecated and will be removed in a future version. Use the PyTorch implementation torch.optim.AdamW instead, or set `no_deprecation_warning=True` to disable this warning\n",
      "  warnings.warn(\n"
     ]
    }
   ],
   "source": [
    "from transformers import AdamW, get_linear_schedule_with_warmup\n",
    "\n",
    "optimizer = AdamW(model.parameters(),\n",
    "                  lr=1e-5, \n",
    "                  eps=1e-8)\n",
    "                  \n",
    "epochs = 5\n",
    "\n",
    "scheduler = get_linear_schedule_with_warmup(optimizer, \n",
    "                                            num_warmup_steps=0,\n",
    "                                            num_training_steps=len(dataloader_train)*epochs)"
   ]
  },
  {
   "cell_type": "code",
   "execution_count": 11,
   "metadata": {},
   "outputs": [],
   "source": [
    "from sklearn.metrics import f1_score\n",
    "import numpy as np\n",
    "\n",
    "def f1_score_func(preds, labels):\n",
    "    preds_flat = np.argmax(preds, axis=1).flatten()\n",
    "    labels_flat = labels.flatten()\n",
    "    return f1_score(labels_flat, preds_flat, average='weighted')\n",
    "\n",
    "def accuracy_per_class(preds, labels, label_dict):\n",
    "    label_dict_inverse = {v: k for k, v in label_dict.items()}\n",
    "    \n",
    "    preds_flat = np.argmax(preds, axis=1).flatten()\n",
    "    labels_flat = labels.flatten()\n",
    "\n",
    "    class_accuracies = {}\n",
    "    for label in np.unique(labels_flat):\n",
    "        y_preds = preds_flat[labels_flat == label]\n",
    "        y_true = labels_flat[labels_flat == label]\n",
    "        accuracy = len(y_preds[y_preds == label]) / len(y_true)\n",
    "        class_accuracies[label_dict_inverse[label]] = accuracy\n",
    "        print(f'Class: {label_dict_inverse[label]}')\n",
    "        print(f'Accuracy: {len(y_preds[y_preds == label])}/{len(y_true)} ({accuracy:.4f})\\n')\n",
    "\n",
    "    return class_accuracies\n",
    "\n",
    "def recall_at_k(y_true, y_pred, k=5):\n",
    "    num_samples = len(y_true)\n",
    "    recall_count = 0\n",
    "    \n",
    "    for true_label, predictions in zip(y_true, y_pred):\n",
    "        top_k_predictions = np.argsort(predictions)[-k:]  # Get indices of the top k predictions\n",
    "        if true_label in top_k_predictions:\n",
    "            recall_count += 1\n",
    "    \n",
    "    recall_at_k_score = recall_count / num_samples\n",
    "    return recall_at_k_score\n",
    "\n",
    "def evaluate(dataloader_val):\n",
    "    model.eval()\n",
    "    \n",
    "    loss_val_total = 0\n",
    "    predictions, true_vals = [], []\n",
    "    \n",
    "    for batch in dataloader_val:\n",
    "        \n",
    "        batch = tuple(b.to(device) for b in batch)\n",
    "        \n",
    "        inputs = {'input_ids':      batch[0],\n",
    "                  'attention_mask': batch[1],\n",
    "                  'labels':         batch[2],\n",
    "                 }\n",
    "\n",
    "        with torch.no_grad():        \n",
    "            outputs = model(**inputs)\n",
    "            \n",
    "        loss = outputs[0]\n",
    "        logits = outputs[1]\n",
    "        loss_val_total += loss.item()\n",
    "\n",
    "        logits = logits.detach().cpu().numpy()\n",
    "        label_ids = inputs['labels'].cpu().numpy()\n",
    "        predictions.append(logits)\n",
    "        true_vals.append(label_ids)\n",
    "    \n",
    "    loss_val_avg = loss_val_total / len(dataloader_val)\n",
    "    \n",
    "    predictions = np.concatenate(predictions, axis=0)\n",
    "    true_vals = np.concatenate(true_vals, axis=0)\n",
    "    \n",
    "    recall_at_5 = recall_at_k(true_vals, predictions, k=5)\n",
    "    \n",
    "    return loss_val_avg, predictions, true_vals, recall_at_5\n"
   ]
  },
  {
   "cell_type": "code",
   "execution_count": 13,
   "metadata": {},
   "outputs": [
    {
     "data": {
      "application/vnd.jupyter.widget-view+json": {
       "model_id": "287758894ce84003b73cc8706e5c8921",
       "version_major": 2,
       "version_minor": 0
      },
      "text/plain": [
       "  0%|          | 0/5 [00:00<?, ?it/s]"
      ]
     },
     "metadata": {},
     "output_type": "display_data"
    },
    {
     "data": {
      "application/vnd.jupyter.widget-view+json": {
       "model_id": "cc4d9c25fd7044a0a0e17948ca30663b",
       "version_major": 2,
       "version_minor": 0
      },
      "text/plain": [
       "Epoch 1:   0%|          | 0/1271 [00:00<?, ?it/s]"
      ]
     },
     "metadata": {},
     "output_type": "display_data"
    },
    {
     "name": "stdout",
     "output_type": "stream",
     "text": [
      "\n",
      "Epoch 1\n",
      "Training loss: 2.3909019886286687\n",
      "Validation loss: 1.5648361675441265\n",
      "F1 Score (Weighted): 0.5774398178794486\n",
      "Recall@5: 0.8826151560178306\n"
     ]
    },
    {
     "data": {
      "application/vnd.jupyter.widget-view+json": {
       "model_id": "a03ed7b2740f4626a0cd37c336ad0c2d",
       "version_major": 2,
       "version_minor": 0
      },
      "text/plain": [
       "Epoch 2:   0%|          | 0/1271 [00:00<?, ?it/s]"
      ]
     },
     "metadata": {},
     "output_type": "display_data"
    },
    {
     "name": "stdout",
     "output_type": "stream",
     "text": [
      "\n",
      "Epoch 2\n",
      "Training loss: 1.287690200938174\n",
      "Validation loss: 1.046124068022602\n",
      "F1 Score (Weighted): 0.6552218122748082\n",
      "Recall@5: 0.9479940564635958\n"
     ]
    },
    {
     "data": {
      "application/vnd.jupyter.widget-view+json": {
       "model_id": "c7e31e1dea4f4b41972a166d0e24708c",
       "version_major": 2,
       "version_minor": 0
      },
      "text/plain": [
       "Epoch 3:   0%|          | 0/1271 [00:00<?, ?it/s]"
      ]
     },
     "metadata": {},
     "output_type": "display_data"
    },
    {
     "ename": "KeyboardInterrupt",
     "evalue": "",
     "output_type": "error",
     "traceback": [
      "\u001b[0;31m---------------------------------------------------------------------------\u001b[0m",
      "\u001b[0;31mKeyboardInterrupt\u001b[0m                         Traceback (most recent call last)",
      "Cell \u001b[0;32mIn[13], line 37\u001b[0m\n\u001b[1;32m     35\u001b[0m loss \u001b[39m=\u001b[39m outputs[\u001b[39m0\u001b[39m]\n\u001b[1;32m     36\u001b[0m loss_train_total \u001b[39m+\u001b[39m\u001b[39m=\u001b[39m loss\u001b[39m.\u001b[39mitem()\n\u001b[0;32m---> 37\u001b[0m loss\u001b[39m.\u001b[39;49mbackward()\n\u001b[1;32m     39\u001b[0m torch\u001b[39m.\u001b[39mnn\u001b[39m.\u001b[39mutils\u001b[39m.\u001b[39mclip_grad_norm_(model\u001b[39m.\u001b[39mparameters(), \u001b[39m1.0\u001b[39m)\n\u001b[1;32m     41\u001b[0m optimizer\u001b[39m.\u001b[39mstep()\n",
      "File \u001b[0;32m~/miniconda3/envs/cs224n/lib/python3.10/site-packages/torch/_tensor.py:488\u001b[0m, in \u001b[0;36mTensor.backward\u001b[0;34m(self, gradient, retain_graph, create_graph, inputs)\u001b[0m\n\u001b[1;32m    478\u001b[0m \u001b[39mif\u001b[39;00m has_torch_function_unary(\u001b[39mself\u001b[39m):\n\u001b[1;32m    479\u001b[0m     \u001b[39mreturn\u001b[39;00m handle_torch_function(\n\u001b[1;32m    480\u001b[0m         Tensor\u001b[39m.\u001b[39mbackward,\n\u001b[1;32m    481\u001b[0m         (\u001b[39mself\u001b[39m,),\n\u001b[0;32m   (...)\u001b[0m\n\u001b[1;32m    486\u001b[0m         inputs\u001b[39m=\u001b[39minputs,\n\u001b[1;32m    487\u001b[0m     )\n\u001b[0;32m--> 488\u001b[0m torch\u001b[39m.\u001b[39;49mautograd\u001b[39m.\u001b[39;49mbackward(\n\u001b[1;32m    489\u001b[0m     \u001b[39mself\u001b[39;49m, gradient, retain_graph, create_graph, inputs\u001b[39m=\u001b[39;49minputs\n\u001b[1;32m    490\u001b[0m )\n",
      "File \u001b[0;32m~/miniconda3/envs/cs224n/lib/python3.10/site-packages/torch/autograd/__init__.py:197\u001b[0m, in \u001b[0;36mbackward\u001b[0;34m(tensors, grad_tensors, retain_graph, create_graph, grad_variables, inputs)\u001b[0m\n\u001b[1;32m    192\u001b[0m     retain_graph \u001b[39m=\u001b[39m create_graph\n\u001b[1;32m    194\u001b[0m \u001b[39m# The reason we repeat same the comment below is that\u001b[39;00m\n\u001b[1;32m    195\u001b[0m \u001b[39m# some Python versions print out the first line of a multi-line function\u001b[39;00m\n\u001b[1;32m    196\u001b[0m \u001b[39m# calls in the traceback and some print out the last line\u001b[39;00m\n\u001b[0;32m--> 197\u001b[0m Variable\u001b[39m.\u001b[39;49m_execution_engine\u001b[39m.\u001b[39;49mrun_backward(  \u001b[39m# Calls into the C++ engine to run the backward pass\u001b[39;49;00m\n\u001b[1;32m    198\u001b[0m     tensors, grad_tensors_, retain_graph, create_graph, inputs,\n\u001b[1;32m    199\u001b[0m     allow_unreachable\u001b[39m=\u001b[39;49m\u001b[39mTrue\u001b[39;49;00m, accumulate_grad\u001b[39m=\u001b[39;49m\u001b[39mTrue\u001b[39;49;00m)\n",
      "\u001b[0;31mKeyboardInterrupt\u001b[0m: "
     ]
    }
   ],
   "source": [
    "import random\n",
    "\n",
    "seed_val = 17\n",
    "random.seed(seed_val)\n",
    "np.random.seed(seed_val)\n",
    "torch.manual_seed(seed_val)\n",
    "torch.cuda.manual_seed_all(seed_val)\n",
    "device = 'cpu'\n",
    "# !pip install ipywidgets\n",
    "# ! pip install jupyter\n",
    "# ! pip install ipywidgets widgetsnbextension pandas-profiling\n",
    "# ! pip install jupyter_contrib_nbextensions\n",
    "# ! jupyter contrib nbextension install --user\n",
    "# !jupyter nbextension enable --py widgetsnbextension\n",
    "for epoch in tqdm(range(1, epochs+1)):\n",
    "    \n",
    "    model.train()\n",
    "    \n",
    "    loss_train_total = 0\n",
    "\n",
    "    progress_bar = tqdm(dataloader_train, desc='Epoch {:1d}'.format(epoch), leave=False, disable=False)\n",
    "    for batch in progress_bar:\n",
    "\n",
    "        model.zero_grad()\n",
    "        \n",
    "        batch = tuple(b.to(device) for b in batch)\n",
    "        \n",
    "        inputs = {'input_ids':      batch[0],\n",
    "                  'attention_mask': batch[1],\n",
    "                  'labels':         batch[2],\n",
    "                 }       \n",
    "\n",
    "        outputs = model(**inputs)\n",
    "        \n",
    "        loss = outputs[0]\n",
    "        loss_train_total += loss.item()\n",
    "        loss.backward()\n",
    "\n",
    "        torch.nn.utils.clip_grad_norm_(model.parameters(), 1.0)\n",
    "\n",
    "        optimizer.step()\n",
    "        scheduler.step()\n",
    "        \n",
    "        progress_bar.set_postfix({'training_loss': '{:.3f}'.format(loss.item()/len(batch))})\n",
    "\n",
    "    torch.save(model.state_dict(), f'data_volume/finetuned_BERT_epoch_{epoch}.model')\n",
    "        \n",
    "    tqdm.write(f'\\nEpoch {epoch}')\n",
    "    \n",
    "    loss_train_avg = loss_train_total/len(dataloader_train)            \n",
    "    tqdm.write(f'Training loss: {loss_train_avg}')\n",
    "     \n",
    "    loss_val_avg, predictions, true_vals, recall_at_5 = evaluate(dataloader_validation)\n",
    "    val_f1 = f1_score_func(predictions, true_vals)\n",
    "    tqdm.write(f'Validation loss: {loss_val_avg}')\n",
    "    tqdm.write(f'F1 Score (Weighted): {val_f1}')\n",
    "    tqdm.write(f'Recall@5: {recall_at_5}')"
   ]
  },
  {
   "attachments": {},
   "cell_type": "markdown",
   "metadata": {},
   "source": [
    "# Evaluate"
   ]
  },
  {
   "cell_type": "code",
   "execution_count": null,
   "metadata": {},
   "outputs": [],
   "source": []
  },
  {
   "attachments": {},
   "cell_type": "markdown",
   "metadata": {},
   "source": [
    "# Predict"
   ]
  },
  {
   "cell_type": "code",
   "execution_count": 35,
   "metadata": {},
   "outputs": [
    {
     "name": "stderr",
     "output_type": "stream",
     "text": [
      "Some weights of BertForSequenceClassification were not initialized from the model checkpoint at bert-base-uncased and are newly initialized: ['classifier.bias', 'classifier.weight']\n",
      "You should probably TRAIN this model on a down-stream task to be able to use it for predictions and inference.\n"
     ]
    },
    {
     "name": "stdout",
     "output_type": "stream",
     "text": [
      "Text: \"This is the first example sentence.\" - Predicted class: 8\n",
      "Text: \"This is the second example sentence.\" - Predicted class: 8\n"
     ]
    }
   ],
   "source": [
    "from transformers import BertTokenizer, BertForSequenceClassification\n",
    "import torch\n",
    "\n",
    "model = BertForSequenceClassification.from_pretrained(\"bert-base-uncased\",\n",
    "                                                      num_labels=len(label_dict),\n",
    "                                                      output_attentions=False,\n",
    "                                                      output_hidden_states=False)\n",
    "device = 'cpu'\n",
    "model.to(device)\n",
    "\n",
    "model.load_state_dict(torch.load('data_volume/finetuned_BERT_epoch_2.model', map_location=torch.device('cpu')))\n",
    "# Example input texts\n",
    "input_texts = [\"This is the first example sentence.\", \"This is the second example sentence.\"]\n",
    "\n",
    "# Tokenize the input texts\n",
    "inputs = tokenizer(input_texts, return_tensors='pt', truncation=True, padding=True, max_length=512)\n",
    "inputs = {key: value.to(device) for key, value in inputs.items()}\n",
    "with torch.no_grad():\n",
    "    outputs = model(**inputs)\n",
    "\n",
    "logits = outputs.logits\n",
    "probabilities = torch.nn.functional.softmax(logits, dim=-1)\n",
    "predicted_classes = torch.argmax(probabilities, dim=1).cpu().numpy()\n",
    "# Print the predicted classes\n",
    "for text, predicted_class in zip(input_texts, predicted_classes):\n",
    "    print(f'Text: \"{text}\" - Predicted class: {predicted_class}')\n"
   ]
  },
  {
   "cell_type": "code",
   "execution_count": 45,
   "metadata": {},
   "outputs": [
    {
     "name": "stderr",
     "output_type": "stream",
     "text": [
      "Some weights of BertForSequenceClassification were not initialized from the model checkpoint at bert-base-uncased and are newly initialized: ['classifier.bias', 'classifier.weight']\n",
      "You should probably TRAIN this model on a down-stream task to be able to use it for predictions and inference.\n"
     ]
    },
    {
     "name": "stdout",
     "output_type": "stream",
     "text": [
      "Text: \"Fairbanks International Airport: This award funds the replacement of the passenger boarding bridge at Gate 3. Fairbanks International Airport\"\n",
      "  Top 1: FY  Notice of Funding Opportunity: Bipartisan Infrastructure Law (BIL) Airport Terminal Program (ATP) Grants: The Department of Transportation (DOT), Federal Aviation Administration (FAA) announces the opportunity to apply for approximately $ billion in FY  discretionary funds for the Airport Terminal Program (ATP), made available under the Infrastructure Investment and Jobs Act of  (IIJA), Pub. L. -, herein referred to as the Bipartisan Infrastructure Law (BIL). The purpose of the ATP is to make annual grants available to eligible airports for airport terminal and airport-owned Airport Traffic Control Towers development projects that address the aging infrastructure of our nation&#;s airports. In addition, ATP grants will align with DOT&#;s Strategic Framework FY- at https://www.transportation.gov/administrations/office-policy/fy--strategic-framework. The FY  ATP will be implemented consistent with law and in alignment with the priorities in Executive Order , Implementation of the Infrastructure Investments and Jobs Act ( FR ), which are to invest efficiently and equitably; promote the competitiveness of the U.S. economy; improve job opportunities by focusing on high labor standards; strengthen infrastructure resilience to all hazards including climate change; and to effectively coordinate with State, local, Tribal, and territorial government partners.  (Probability: 0.2519)\n",
      "  Top 2: FY  Competitive Funding Opportunity: Airport Improvement Program Discretionary Grants: The U.S. Department of Transportation&#;s Federal Aviation Administration (FAA) announces the opportunity to apply for an estimated $. billion in Fiscal Year (FY)  discretionary grants under the Airport Improvement Program (AIP), per  U.S.C. &#; . The FAA awards these annually appropriated discretionary funds through the FAA&#;s long-standing iterative, competitive grant process. Prior to the publication of this Notice of Funding Opportunity (NOFO), the FAA identified eligible applicants in its National Plan of Integrated Airport Systems (NPIAS) and compiled potentially eligible projects through the -year Airports Capital Improvement Plan (ACIP). Both of these processes are described in FAA Order ., &#;Formulation of NPIAS and ACIP,&#; adhering to  U.S.C. &#; , which authorizes discretionary funds. The AIP funds airport capital improvements and rehabilitation projects. All discretionary grant funding is subject to appropriations, statutory requirements, and related program funding availability.  (Probability: 0.1564)\n",
      "  Top 3: FY  Competitive Funding Opportunity; Low or No Emission Grant Program: Low-No ProgramThe Federal Transit Administration (FTA) announces the opportunity to apply for approximately $. billion in competitive grants under the fiscal year (FY)  Low or No Emission Grant Program (Low-No Program) (Federal Assistance Listing: .) and approximately $ million in FY  funds under the Grants for Buses and Bus Facilities Program (Buses and Bus Facilities Program) (Federal Assistance Listing .), subject to availability of appropriated funding. Synopses and full announcement will be posted on Grants.gov as funding opportunity ID FTA--TPM for Low-No applications and FTA--TPM for Buses and Bus Facilities applications. Proposals must be submitted electronically through Grants.gov website by : PM Eastern Time May , . (Probability: 0.0576)\n",
      "  Top 4: Neighborhood Access and Equity (NAE) Program: The Department of Transportation is combining two major discretionary grant programs, the Reconnecting Communities Pilot (RCP) and Neighborhood Access and Equity (NAE) programs, into one Notice of Funding Opportunity (NOFO). Together, this combined program is known as the Reconnecting Communities and Neighborhoods (RCN) Program. The primary goal of the NAE Program is to assist economically disadvantaged or undeserved communities for planning and construction activities. Funds for the fiscal year (FY)  NAE grant program are to be awarded on a competitive basis to support planning, capital construction, and regional partnership activities that aim to restore community connectivity through the removal, retrofit, mitigation or replacement of highways, roadways, or other infrastructure facilities that create barriers to mobility, access or economic development. Applicants must submit their applications via Valid Eval at the links below: Community Planning Grants: https://usg.valideval.com/teams/rcn_planning/signup Capital Construction Grants: https://usg.valideval.com/teams/rcn_capitalconstruction/signup Do not submit applications through Grants.gov. Applications must be submitted by : PM Eastern Time on Thursday, September , . Late applications will not be accepted.  (Probability: 0.0350)\n",
      "  Top 5: Safe Streets and Roads for All Funding Opportunity: The purpose of this notice is to solicit applications for Safe Streets and Roads for All (SSA) grants. Funds for the fiscal year (FY)  SSA grant program are to be awarded on a competitive basis to support planning and demonstration activities, as well as projects and strategies to prevent death and serious injury on roads and streets involving all roadway users, including pedestrians; bicyclists; public transportation, personal conveyance, and micromobility users; motorists; and commercial vehicle operators. Applicants must submit their applications via Valid Eval at https://usg.valideval.com/teams/usdot_ssa__implementation/signup for Implementation Grant applicants, and https://usg.valideval.com/teams/usdot_ssa__planning_demo/signup for Planning and Demonstration Grants. Do not submit your applications through Grants.Gov. Applications must be submitted by : PM Eastern Time on Monday, July , . Late applications will not be accepted. (Probability: 0.0282)\n",
      "Text: \"Ted Stevens Anchorage International Airport: This award funds the installation of 110 audio and visual monitors/stations in the terminal to better serve the passengers. Ted Stevens Anchorage International Airport\"\n",
      "  Top 1: FY  Notice of Funding Opportunity: Bipartisan Infrastructure Law (BIL) Airport Terminal Program (ATP) Grants: The Department of Transportation (DOT), Federal Aviation Administration (FAA) announces the opportunity to apply for approximately $ billion in FY  discretionary funds for the Airport Terminal Program (ATP), made available under the Infrastructure Investment and Jobs Act of  (IIJA), Pub. L. -, herein referred to as the Bipartisan Infrastructure Law (BIL). The purpose of the ATP is to make annual grants available to eligible airports for airport terminal and airport-owned Airport Traffic Control Towers development projects that address the aging infrastructure of our nation&#;s airports. In addition, ATP grants will align with DOT&#;s Strategic Framework FY- at https://www.transportation.gov/administrations/office-policy/fy--strategic-framework. The FY  ATP will be implemented consistent with law and in alignment with the priorities in Executive Order , Implementation of the Infrastructure Investments and Jobs Act ( FR ), which are to invest efficiently and equitably; promote the competitiveness of the U.S. economy; improve job opportunities by focusing on high labor standards; strengthen infrastructure resilience to all hazards including climate change; and to effectively coordinate with State, local, Tribal, and territorial government partners.  (Probability: 0.2535)\n",
      "  Top 2: FY  Competitive Funding Opportunity: Airport Improvement Program Discretionary Grants: The U.S. Department of Transportation&#;s Federal Aviation Administration (FAA) announces the opportunity to apply for an estimated $. billion in Fiscal Year (FY)  discretionary grants under the Airport Improvement Program (AIP), per  U.S.C. &#; . The FAA awards these annually appropriated discretionary funds through the FAA&#;s long-standing iterative, competitive grant process. Prior to the publication of this Notice of Funding Opportunity (NOFO), the FAA identified eligible applicants in its National Plan of Integrated Airport Systems (NPIAS) and compiled potentially eligible projects through the -year Airports Capital Improvement Plan (ACIP). Both of these processes are described in FAA Order ., &#;Formulation of NPIAS and ACIP,&#; adhering to  U.S.C. &#; , which authorizes discretionary funds. The AIP funds airport capital improvements and rehabilitation projects. All discretionary grant funding is subject to appropriations, statutory requirements, and related program funding availability.  (Probability: 0.1151)\n",
      "  Top 3: FY  Competitive Funding Opportunity; Low or No Emission Grant Program: Low-No ProgramThe Federal Transit Administration (FTA) announces the opportunity to apply for approximately $. billion in competitive grants under the fiscal year (FY)  Low or No Emission Grant Program (Low-No Program) (Federal Assistance Listing: .) and approximately $ million in FY  funds under the Grants for Buses and Bus Facilities Program (Buses and Bus Facilities Program) (Federal Assistance Listing .), subject to availability of appropriated funding. Synopses and full announcement will be posted on Grants.gov as funding opportunity ID FTA--TPM for Low-No applications and FTA--TPM for Buses and Bus Facilities applications. Proposals must be submitted electronically through Grants.gov website by : PM Eastern Time May , . (Probability: 0.0637)\n",
      "  Top 4: Neighborhood Access and Equity (NAE) Program: The Department of Transportation is combining two major discretionary grant programs, the Reconnecting Communities Pilot (RCP) and Neighborhood Access and Equity (NAE) programs, into one Notice of Funding Opportunity (NOFO). Together, this combined program is known as the Reconnecting Communities and Neighborhoods (RCN) Program. The primary goal of the NAE Program is to assist economically disadvantaged or undeserved communities for planning and construction activities. Funds for the fiscal year (FY)  NAE grant program are to be awarded on a competitive basis to support planning, capital construction, and regional partnership activities that aim to restore community connectivity through the removal, retrofit, mitigation or replacement of highways, roadways, or other infrastructure facilities that create barriers to mobility, access or economic development. Applicants must submit their applications via Valid Eval at the links below: Community Planning Grants: https://usg.valideval.com/teams/rcn_planning/signup Capital Construction Grants: https://usg.valideval.com/teams/rcn_capitalconstruction/signup Do not submit applications through Grants.gov. Applications must be submitted by : PM Eastern Time on Thursday, September , . Late applications will not be accepted.  (Probability: 0.0411)\n",
      "  Top 5: Safe Streets and Roads for All Funding Opportunity: The purpose of this notice is to solicit applications for Safe Streets and Roads for All (SSA) grants. Funds for the fiscal year (FY)  SSA grant program are to be awarded on a competitive basis to support planning and demonstration activities, as well as projects and strategies to prevent death and serious injury on roads and streets involving all roadway users, including pedestrians; bicyclists; public transportation, personal conveyance, and micromobility users; motorists; and commercial vehicle operators. Applicants must submit their applications via Valid Eval at https://usg.valideval.com/teams/usdot_ssa__implementation/signup for Implementation Grant applicants, and https://usg.valideval.com/teams/usdot_ssa__planning_demo/signup for Planning and Demonstration Grants. Do not submit your applications through Grants.Gov. Applications must be submitted by : PM Eastern Time on Monday, July , . Late applications will not be accepted. (Probability: 0.0355)\n",
      "Text: \"Ted Stevens Anchorage International Airport: This award funds the installation of a new passenger boarding bridge at gate B4. Ted Stevens Anchorage International Airport\"\n",
      "  Top 1: FY  Notice of Funding Opportunity: Bipartisan Infrastructure Law (BIL) Airport Terminal Program (ATP) Grants: The Department of Transportation (DOT), Federal Aviation Administration (FAA) announces the opportunity to apply for approximately $ billion in FY  discretionary funds for the Airport Terminal Program (ATP), made available under the Infrastructure Investment and Jobs Act of  (IIJA), Pub. L. -, herein referred to as the Bipartisan Infrastructure Law (BIL). The purpose of the ATP is to make annual grants available to eligible airports for airport terminal and airport-owned Airport Traffic Control Towers development projects that address the aging infrastructure of our nation&#;s airports. In addition, ATP grants will align with DOT&#;s Strategic Framework FY- at https://www.transportation.gov/administrations/office-policy/fy--strategic-framework. The FY  ATP will be implemented consistent with law and in alignment with the priorities in Executive Order , Implementation of the Infrastructure Investments and Jobs Act ( FR ), which are to invest efficiently and equitably; promote the competitiveness of the U.S. economy; improve job opportunities by focusing on high labor standards; strengthen infrastructure resilience to all hazards including climate change; and to effectively coordinate with State, local, Tribal, and territorial government partners.  (Probability: 0.2530)\n",
      "  Top 2: FY  Competitive Funding Opportunity: Airport Improvement Program Discretionary Grants: The U.S. Department of Transportation&#;s Federal Aviation Administration (FAA) announces the opportunity to apply for an estimated $. billion in Fiscal Year (FY)  discretionary grants under the Airport Improvement Program (AIP), per  U.S.C. &#; . The FAA awards these annually appropriated discretionary funds through the FAA&#;s long-standing iterative, competitive grant process. Prior to the publication of this Notice of Funding Opportunity (NOFO), the FAA identified eligible applicants in its National Plan of Integrated Airport Systems (NPIAS) and compiled potentially eligible projects through the -year Airports Capital Improvement Plan (ACIP). Both of these processes are described in FAA Order ., &#;Formulation of NPIAS and ACIP,&#; adhering to  U.S.C. &#; , which authorizes discretionary funds. The AIP funds airport capital improvements and rehabilitation projects. All discretionary grant funding is subject to appropriations, statutory requirements, and related program funding availability.  (Probability: 0.1546)\n",
      "  Top 3: FY  Competitive Funding Opportunity; Low or No Emission Grant Program: Low-No ProgramThe Federal Transit Administration (FTA) announces the opportunity to apply for approximately $. billion in competitive grants under the fiscal year (FY)  Low or No Emission Grant Program (Low-No Program) (Federal Assistance Listing: .) and approximately $ million in FY  funds under the Grants for Buses and Bus Facilities Program (Buses and Bus Facilities Program) (Federal Assistance Listing .), subject to availability of appropriated funding. Synopses and full announcement will be posted on Grants.gov as funding opportunity ID FTA--TPM for Low-No applications and FTA--TPM for Buses and Bus Facilities applications. Proposals must be submitted electronically through Grants.gov website by : PM Eastern Time May , . (Probability: 0.0580)\n",
      "  Top 4: Neighborhood Access and Equity (NAE) Program: The Department of Transportation is combining two major discretionary grant programs, the Reconnecting Communities Pilot (RCP) and Neighborhood Access and Equity (NAE) programs, into one Notice of Funding Opportunity (NOFO). Together, this combined program is known as the Reconnecting Communities and Neighborhoods (RCN) Program. The primary goal of the NAE Program is to assist economically disadvantaged or undeserved communities for planning and construction activities. Funds for the fiscal year (FY)  NAE grant program are to be awarded on a competitive basis to support planning, capital construction, and regional partnership activities that aim to restore community connectivity through the removal, retrofit, mitigation or replacement of highways, roadways, or other infrastructure facilities that create barriers to mobility, access or economic development. Applicants must submit their applications via Valid Eval at the links below: Community Planning Grants: https://usg.valideval.com/teams/rcn_planning/signup Capital Construction Grants: https://usg.valideval.com/teams/rcn_capitalconstruction/signup Do not submit applications through Grants.gov. Applications must be submitted by : PM Eastern Time on Thursday, September , . Late applications will not be accepted.  (Probability: 0.0365)\n",
      "  Top 5: Safe Streets and Roads for All Funding Opportunity: The purpose of this notice is to solicit applications for Safe Streets and Roads for All (SSA) grants. Funds for the fiscal year (FY)  SSA grant program are to be awarded on a competitive basis to support planning and demonstration activities, as well as projects and strategies to prevent death and serious injury on roads and streets involving all roadway users, including pedestrians; bicyclists; public transportation, personal conveyance, and micromobility users; motorists; and commercial vehicle operators. Applicants must submit their applications via Valid Eval at https://usg.valideval.com/teams/usdot_ssa__implementation/signup for Implementation Grant applicants, and https://usg.valideval.com/teams/usdot_ssa__planning_demo/signup for Planning and Demonstration Grants. Do not submit your applications through Grants.Gov. Applications must be submitted by : PM Eastern Time on Monday, July , . Late applications will not be accepted. (Probability: 0.0290)\n",
      "Text: \"Southeastern Pennsylvania Transportation Authority: The Southeastern Pennsylvania Transportation Authority (SEPTA) will receive funding to buy up to 200 new rail cars to replace older rail cars that have been in service for nearly 25 years, operating along the Market Frankford Line, the most heavily used line in SEPTA's system. buy up to 200 new rail cars to replace older rail cars\"\n",
      "  Top 1: INFRA Grants: The U.S. Department of Transportation (USDOT) is seeking applicants for the FY  round of the Infrastructure for Rebuilding America (INFRA) discretionary grant program to fund transportation projects of national and regional significance that result in good-paying jobs, improve safety, apply transformative technology, and explicitly address climate change and racial equity. The funding available for this year&#;s grants totals approximately $ million.The Department recognizes the role that infrastructure investment plays in economic development and job creation, and the added urgency of this funding at time when the COVID- pandemic has put stress on state and local budgets.For the first time, the USDOT seeks INFRA projects that address climate change and environmental justice. Projects will be evaluated on whether they were planned as part of a comprehensive strategy to address climate change, or whether they support strategies to reduce greenhouse gas emissions such as deploying zero-emission-vehicle infrastructure or encouraging modal shift and a reduction in vehicle-miles-traveled. Racial equity will also be considered as a selection criterion, to the extent that project sponsors have completed equity-focused community outreach, and projects are designed to benefit underserved communities. The Department will also consider whether the project is located in a federally designated community development zone, including qualified Opportunity Zones, Empowerment Zones, Promise Zones, or Choice Neighborhoods.USDOT seeks projects that apply innovative technology, delivery, or financing methods with proven outcomes to deliver projects in a cost effective manner. The Department will make awards under the INFRA program to both large and small projects. For a large project, the INFRA grant must be at least $ million. For a small project, the grant must be at least $ million. Under statutory requirements,  percent of available funds are reserved for small projects, and the Department must award at least  percent of funding for rural projects. INFRA grants may be used to fund a variety of components of an infrastructure project, however, the Department is specifically focused on projects in which the local sponsor is significantly invested and is positioned to proceed rapidly to construction. Eligible INFRA project costs may include: reconstruction, rehabilitation, acquisition of property (including land related to the project and improvements to the land), environmental mitigation, construction contingencies, equipment acquisition, and operational improvements directly related to system performance. The INFRA NOFO also announces the creation of the &#;INFRA Extra&#; Program, which will identify competitive INFRA applicants who do not receive an INFRA award and authorize them to seek a Transportation Infrastructure Finance and Innovation Act of  (TIFIA) loan up to  percent of their project cost. (Probability: 0.0506)\n",
      "  Top 2: FY  National Infrastructure Investments: Agency Name: Department of TransportationDescription: The Infrastructure Investment and Jobs Act (Pub. L. -, November , , &#;Bipartisan Infrastructure Law,&#; or &#;BIL&#;) authorized and appropriated $. billion to be awarded by the Department of Transportation (&#;DOT&#;) for FY  for Local and Regional Project Assistance Program Grants under National Infrastructure Investments. This Notice of Funding Opportunity (NOFO) solicits applications for projects to be funded under the Local and Regional Project Assistance Program, known as the RAISE Grants program, including any additional funding appropriated for the RAISE Grants program under the FY  Appropriations Act. On March , , the Consolidated Appropriations Act,  (Pub. L. -, &#;FY  Appropriations Act&#;) appropriated an additional $ million for the FY  RAISE Grant Program. Therefore, a total of $. billion in funding is now available for the FY  RAISE Grant Program. Applicants should note that the two funding streams (BIL funding and FY  Appropriations Act funding) have slightly different funding restrictions and requirements that may affect competitiveness. Please see the Notice of Funding Opportunity Amendment No. for details.As with previous rounds, funds for the FY  RAISE Transportation program are to be awarded on a competitive basis for projects that will have a significant local or regional impact. (Probability: 0.0447)\n",
      "  Top 3: FY  National Infrastructure Investments: The Infrastructure Investment and Jobs Act of  (&#;Bipartisan Infrastructure Law,&#; or &#;BIL&#;) authorized and appropriated $. billion to be awarded by the Department of Transportation (&#;DOT&#;) for Local and Regional Project Assistance Program Grants under National Infrastructure Investments in FY . This Notice of Funding Opportunity (NOFO) solicits applications for projects funded under the Local and Regional Project Assistance Program, known as the RAISE Grants program. If the FY  Appropriations Act provides additional funding for the RAISE grants program and/or significantly different requirements for National Infrastructure Investment funds, the Department will amend this Notice with guidance on additional requirements.As with previous rounds, funds for the FY  RAISE Transportation program are to be awarded on a competitive basis for projects that will have a significant local or regional impact. (Probability: 0.0426)\n",
      "  Top 4: Low or No Emission Program (Low-No Program): The main purpose of the Low-No Program is to support the transition of the nation&#;s transit fleet to the lowest polluting and most energy efficient transit vehicles. The Low-No Program provides funding to State and local governmental authorities for the purchase or lease of zero-emission and low-emission transit buses, including acquisition, construction, and leasing of required supporting facilities. (Probability: 0.0335)\n",
      "  Top 5: Grants for Buses and Bus Facilities Program: The Federal Transit Administration (FTA) announces the availability of approximately $. million of Fiscal Year  funds for buses, bus facilities, and bus equipment. The purpose of the Grants for Buses and Bus Facilities Program is to assist in the financing of buses and bus facilities capital projects, including replacing, rehabilitating, purchasing or leasing buses or related equipment, and rehabilitating, purchasing, constructing or leasing bus-related facilities.  (Probability: 0.0304)\n",
      "Text: \"Colorado Department of Transportation: The Colorado Department of Transportation, on behalf of Summit Stage, a rural transit agency serving Summit, Park and Lake counties, will receive funding to build a new charging and operation bus facility, which will include 100% electrification, fleet storage, and electric vehicle charging. The new facility will replace Summit Stage's current aging facility. Colorado Department of Transportation_CO_Buses and Bus Facilities Competitive Program\"\n",
      "  Top 1: FY  Competitive Funding Opportunity: Buses and Bus Facilities Competitive Program: Bus and Bus Facilities ProgramThe Federal Transit Administration (FTA) announces the opportunity to apply for approximately $. billion in competitive grants under the fiscal year (FY)  Low or No Emission Grant Program (Low-No Program) (Federal Assistance Listing: .) and approximately $ million in FY  funds under the Grants for Buses and Bus Facilities Program (Buses and Bus Facilities Program) (Federal Assistance Listing .), subject to availability of appropriated funding. Synopses and full announcement will be posted on Grants.gov as funding opportunity ID FTA--TPM for Low-No applications and FTA--TPM for Buses and Bus Facilities applications. Proposals must be submitted electronically through Grants.gov website by : PM Eastern Time May ,  (Probability: 0.0882)\n",
      "  Top 2: FY  Competitive Funding Opportunity; Buses and Bus Facilities Program: The Federal Transit Administration (FTA) announces the availability of approximately $ million in competitive grants under the Buses and Bus Facilities Program is to assist in the financing of buses and bus facilities capital projects, including replacing, rehabilitating, purchasing or leasing buses or related equipment, and rehabilitating, purchasing, constructing or leasing bus-related facilities. Synopses and full announcement will be posted on Grants.gov as opportunity FTA---TPM-BUS. Proposals must be submitted electronically through Grants.gov website by : PM Eastern Time April , . (Probability: 0.0863)\n",
      "  Top 3: *FY  Notice of Funding Opportunity: Bipartisan Infrastructure Law (BIL) Airport Terminal Program (ATP) Grants: The Department of Transportation (DOT), Federal Aviation Administration (FAA) announces the opportunity to apply for approximately $ billion in FY  discretionary funds for the Airport Terminal Program (ATP), made available under the Infrastructure Investment and Jobs Act of  (IIJA), Pub. L. -, herein referred to as the Bipartisan Infrastructure Law (BIL). The purpose of the ATP is to make annual grants available to eligible airports for airport terminal and airport-owned Airport Traffic Control Towers development projects that address the aging infrastructure of our nation&#;s airports. In addition, ATP grants will align with DOT&#;s Strategic Framework FY- at https://www.transportation.gov/administrations/office-policy/fy--strategic-framework. The FY  ATP will be implemented consistent with law and in alignment with the priorities in Executive Order , Implementation of the Infrastructure Investments and Jobs Act ( FR ), which are to invest efficiently and equitably; promote the competitiveness of the U.S. economy; improve job opportunities by focusing on high labor standards; strengthen infrastructure resilience to all hazards including climate change; and to effectively coordinate with State, local, Tribal, and territorial government partners.  (Probability: 0.0510)\n",
      "  Top 4: *FY  Notice of Funding Opportunity: Bipartisan Infrastructure Law (BIL) FAA Contract Tower (FCT) Competitive Grant Program: The Department of Transportation (DOT), Federal Aviation Administration (FAA) announces the opportunity to apply for $ million in FY  Airport Infrastructure Grant funds for the FCT competitive grant program, made available under the Infrastructure Investment and Jobs Act of  (IIJA), Pub. L. -, herein referred to as the Bipartisan Infrastructure Law (BIL). The purpose of the FCT competitive grant program is to make annual grants available to eligible airports for airport-owned airport traffic control tower (ATCT) projects that address the aging infrastructure of the nation&#;s airports. The FAA will consider ATCT projects that sustain, construct, repair, improve, rehabilitate, modernize, replace, or relocate non-approach control towers; or acquire and install air traffic control, communications, and related equipment to be used in those towers; or construct a remote tower certified by the FAA including acquisition and installation of air traffic control, communications, or related equipment. In addition, FT grants will align with DOT&#;s Strategic Framework FY- at https://www.transportation.gov/administrations/office-policy/fy--strategic-framework. The FY  FCT will be implemented consistent with law and in alignment with the priorities in Executive Order , Implementation of the Infrastructure Investments and Jobs Act ( FR ), which are to invest efficiently and equitably; promote the competitiveness of the U.S. economy; improve job opportunities by focusing on high labor standards; strengthen infrastructure resilience to all hazards including climate change; and to effectively coordinate with State, local, Tribal, and territorial government partners.  (Probability: 0.0494)\n",
      "  Top 5: FY  Competitive Funding Opportunity; Low or No Emission Vehicle Program: The Federal Transit Administration (FTA) announces the availability of approximately $. billion in competitive grants under the Low or No Emission Grant Program (Low-No Program) for the purchase or lease of zero-emission and low-emission transit buses, including acquisition, construction, and leasing of required supporting facilities. Synopses and full announcement will be posted on Grants.gov as opportunity FTA---TPM-LWNO. Proposals must be submitted electronically through Grants.gov website by : PM Eastern Time April , . (Probability: 0.0304)\n",
      "Text: \"Bi-State Development Agency: The Bi-State Development Agency of St. Louis will receive funding to transform bus stops into mobility hubs to improve safety and create a more welcoming experience for riders. The hubs will improve accessibility and include amenities such as benches, lighting and community information, at key transit transfer points. The BiState Development Agency of St Louis to transform bus stops into mobility hubs to improve safety and create a more welcoming experience for ride_MO\"\n",
      "  Top 1: Grants for Buses and Bus Facilities Program: The Federal Transit Administration (FTA) announces the availability of approximately $. million of Fiscal Year  funds for buses, bus facilities, and bus equipment. The purpose of the Grants for Buses and Bus Facilities Program is to assist in the financing of buses and bus facilities capital projects, including replacing, rehabilitating, purchasing or leasing buses or related equipment, and rehabilitating, purchasing, constructing or leasing bus-related facilities.  (Probability: 0.1460)\n",
      "  Top 2: Low or No Emission Program (Low-No Program): The main purpose of the Low-No Program is to support the transition of the nation&#;s transit fleet to the lowest polluting and most energy efficient transit vehicles. The Low-No Program provides funding to State and local governmental authorities for the purchase or lease of zero-emission and low-emission transit buses, including acquisition, construction, and leasing of required supporting facilities. (Probability: 0.1229)\n",
      "  Top 3: FY  Competitive Funding Opportunity:  Public Transportation on Indian Reservations Program; Tribal Transit Program: The Federal Transit Administration (FTA) announces the opportunity to apply for $ million in competitive grants for the Fiscal Year (FY)  Public Transportation on Indian Reservations (Tribal Transit) Program (Federal Assistance Listing: .). As required by Federal public transportation law, funds will be awarded competitively for any purpose eligible under FTA&#;s Formula Grants for Rural Areas Program,  U.S.C. , including planning, capital, and operating assistance for tribal public transit services in rural areas.  (Probability: 0.0325)\n",
      "  Top 4: Solicitation of Project Proposals for the Low or No Emission (Low-No) Program:  Notice of Funding Opportunity (NOFO): Solicitation of Project Proposals for the Low or No Emission Program (Low-No) Program. The Federal Transit Administration (FTA) announces the availability of $ million of Fiscal Year  funds for the purchase or lease of low or no emission vehicles as well as related equipment or facilities. Proposals must be submitted electronically through Grants.gov website by : PM Eastern Time on //. The main purpose of the Low-No Program is to support the transition of the nation&#;s transit fleet to the lowest polluting and most energy efficient transit vehicles. The Low-No Program provides funding to State and local governmental authorities for the purchase or lease of zero-emission and low-emission transit buses, including acquisition, construction, and leasing of required supporting facilities.  (Probability: 0.0314)\n",
      "  Top 5: FY  Competitive Funding Opportunity: Public Transportation on Indian Reservations Program: The Federal Transit Administration (FTA) announces the availability of approximately $ million in funding provided by the Public Transportation on Indian Reservations Program (Tribal Transit Program (TTP)), as authorized by  U.S.C. (c)()(A), as amended by the Fixing America&apos;s Surface Transportation Act (FAST), Public Law - (December , ). This is a national solicitation for project proposals and includes the selection criteria and program eligibility information for Fiscal Year  projects. The primary purpose of these competitively selected grants is to support planning, capital, and, in limited circumstances, operating assistance for tribal public transit services. Funds distributed to Indian tribes under the TTP should not replace or reduce funds that Indian tribes receive from states through FTA&#;s Section  program. (Probability: 0.0314)\n"
     ]
    }
   ],
   "source": [
    "import torch\n",
    "from transformers import BertTokenizer, BertForSequenceClassification\n",
    "\n",
    "# Define device\n",
    "device = torch.device('cuda' if torch.cuda.is_available() else 'cpu')\n",
    "\n",
    "# Load model and tokenizer\n",
    "model = BertForSequenceClassification.from_pretrained(\"bert-base-uncased\",\n",
    "                                                      num_labels=len(label_dict),\n",
    "                                                      output_attentions=False,\n",
    "                                                      output_hidden_states=False)\n",
    "model.load_state_dict(torch.load('data_volume/finetuned_BERT_epoch_1.model', map_location=device))\n",
    "model.to(device)\n",
    "model.eval()\n",
    "\n",
    "tokenizer = BertTokenizer.from_pretrained('bert-base-uncased')\n",
    "\n",
    "# Example input texts\n",
    "input_texts = ['Fairbanks International Airport: This award funds the replacement of the passenger boarding bridge at Gate 3. Fairbanks International Airport',\n",
    "       'Ted Stevens Anchorage International Airport: This award funds the installation of 110 audio and visual monitors/stations in the terminal to better serve the passengers. Ted Stevens Anchorage International Airport',\n",
    "       'Ted Stevens Anchorage International Airport: This award funds the installation of a new passenger boarding bridge at gate B4. Ted Stevens Anchorage International Airport',\n",
    "       \"Southeastern Pennsylvania Transportation Authority: The Southeastern Pennsylvania Transportation Authority (SEPTA) will receive funding to buy up to 200 new rail cars to replace older rail cars that have been in service for nearly 25 years, operating along the Market Frankford Line, the most heavily used line in SEPTA's system. buy up to 200 new rail cars to replace older rail cars\",\n",
    "       \"Colorado Department of Transportation: The Colorado Department of Transportation, on behalf of Summit Stage, a rural transit agency serving Summit, Park and Lake counties, will receive funding to build a new charging and operation bus facility, which will include 100% electrification, fleet storage, and electric vehicle charging. The new facility will replace Summit Stage's current aging facility. Colorado Department of Transportation_CO_Buses and Bus Facilities Competitive Program\",\n",
    "       'Bi-State Development Agency: The Bi-State Development Agency of St. Louis will receive funding to transform bus stops into mobility hubs to improve safety and create a more welcoming experience for riders. The hubs will improve accessibility and include amenities such as benches, lighting and community information, at key transit transfer points. The BiState Development Agency of St Louis to transform bus stops into mobility hubs to improve safety and create a more welcoming experience for ride_MO']\n",
    "\n",
    "# Tokenize and prepare input data\n",
    "inputs = tokenizer(input_texts, return_tensors='pt', truncation=True, padding=True, max_length=512)\n",
    "inputs = {key: value.to(device) for key, value in inputs.items()}\n",
    "\n",
    "# Make predictions\n",
    "with torch.no_grad():\n",
    "    outputs = model(**inputs)\n",
    "\n",
    "logits = outputs.logits\n",
    "probabilities = torch.nn.functional.softmax(logits, dim=-1)\n",
    "\n",
    "# Extract top 5 predicted classes and their probabilities\n",
    "top_k = 5\n",
    "top_k_probabilities, top_k_indices = torch.topk(probabilities, top_k, dim=1)\n",
    "top_k_probabilities = top_k_probabilities.cpu().numpy()\n",
    "top_k_indices = top_k_indices.cpu().numpy()\n",
    "\n",
    "# Print the top 5 predicted classes and their probabilities for each input text\n",
    "for text, indices, probs in zip(input_texts, top_k_indices, top_k_probabilities):\n",
    "    print(f'Text: \"{text}\"')\n",
    "    for idx, (pred_idx, prob) in enumerate(zip(indices, probs)):\n",
    "        print(f'  Top {idx + 1}: {reversed_label_dict[pred_idx]} (Probability: {prob:.4f})')\n"
   ]
  },
  {
   "cell_type": "code",
   "execution_count": 38,
   "metadata": {},
   "outputs": [
    {
     "name": "stdout",
     "output_type": "stream",
     "text": [
      "{0: 'FY  Notice of Funding Opportunity: Bipartisan Infrastructure Law (BIL) Airport Terminal Program (ATP) Grants: The Department of Transportation (DOT), Federal Aviation Administration (FAA) announces the opportunity to apply for approximately $ billion in FY  discretionary funds for the Airport Terminal Program (ATP), made available under the Infrastructure Investment and Jobs Act of  (IIJA), Pub. L. -, herein referred to as the Bipartisan Infrastructure Law (BIL). The purpose of the ATP is to make annual grants available to eligible airports for airport terminal and airport-owned Airport Traffic Control Towers development projects that address the aging infrastructure of our nation&#;s airports. In addition, ATP grants will align with DOT&#;s Strategic Framework FY- at https://www.transportation.gov/administrations/office-policy/fy--strategic-framework. The FY  ATP will be implemented consistent with law and in alignment with the priorities in Executive Order , Implementation of the Infrastructure Investments and Jobs Act ( FR ), which are to invest efficiently and equitably; promote the competitiveness of the U.S. economy; improve job opportunities by focusing on high labor standards; strengthen infrastructure resilience to all hazards including climate change; and to effectively coordinate with State, local, Tribal, and territorial government partners. ', 1: 'FY  Competitive Funding Opportunity: Airport Improvement Program Discretionary Grants: The U.S. Department of Transportation&#;s Federal Aviation Administration (FAA) announces the opportunity to apply for an estimated $. billion in Fiscal Year (FY)  discretionary grants under the Airport Improvement Program (AIP), per  U.S.C. &#; . The FAA awards these annually appropriated discretionary funds through the FAA&#;s long-standing iterative, competitive grant process. Prior to the publication of this Notice of Funding Opportunity (NOFO), the FAA identified eligible applicants in its National Plan of Integrated Airport Systems (NPIAS) and compiled potentially eligible projects through the -year Airports Capital Improvement Plan (ACIP). Both of these processes are described in FAA Order ., &#;Formulation of NPIAS and ACIP,&#; adhering to  U.S.C. &#; , which authorizes discretionary funds. The AIP funds airport capital improvements and rehabilitation projects. All discretionary grant funding is subject to appropriations, statutory requirements, and related program funding availability. ', 2: 'Grants for Buses and Bus Facilities Program: The Federal Transit Administration (FTA) announces the availability of approximately $. million of Fiscal Year  funds for buses, bus facilities, and bus equipment. The purpose of the Grants for Buses and Bus Facilities Program is to assist in the financing of buses and bus facilities capital projects, including replacing, rehabilitating, purchasing or leasing buses or related equipment, and rehabilitating, purchasing, constructing or leasing bus-related facilities. ', 3: 'Solicitation of Project Proposals for the Low or No Emission (Low-No) Program:  Notice of Funding Opportunity (NOFO): Solicitation of Project Proposals for the Low or No Emission Program (Low-No) Program. The Federal Transit Administration (FTA) announces the availability of $ million of Fiscal Year  funds for the purchase or lease of low or no emission vehicles as well as related equipment or facilities. Proposals must be submitted electronically through Grants.gov website by : PM Eastern Time on //. The main purpose of the Low-No Program is to support the transition of the nation&#;s transit fleet to the lowest polluting and most energy efficient transit vehicles. The Low-No Program provides funding to State and local governmental authorities for the purchase or lease of zero-emission and low-emission transit buses, including acquisition, construction, and leasing of required supporting facilities. ', 4: 'FY  Competitive Funding Opportunity: Passenger Ferry Grant Program: The Federal Transit Administration (FTA) announces the opportunity to apply for $ million in Fiscal Year (FY)  Section  Urbanized Area Formula Program funds (Catalog of Federal Domestic Assistance #.) authorized for competitively selected passenger ferry projects. As required by Federal public transportation law and subject to appropriations, funds will be awarded competitively to designated recipients or eligible direct recipients of Section  funds to assist in the financing of capital projects to support existing passenger ferry service, establish new ferry service, and to repair and modernize ferry boats, terminals, and related facilities and equipment. ', 5: 'Pilot Program for Transit-Oriented Development (TOD) Planning: Notice of Funding Opportunity for the Pilot Program for Transit-Oriented Development (TOD) Planning. The Federal Transit Administration (FTA) announces the availability of approximately $. million in Pilot Program for TOD Planning funding to support comprehensive planning associated with new fixed guideway and core capacity improvement projects. FTA may award amounts ranging from $, to $,,. The Pilot Program for TOD Planning provides funding to local communities to integrate land use and transportation planning in new fixed guideway and core capacity transit project corridors. As required by statute, any comprehensive planning funded through the pilot program must examine ways to improve economic development and ridership, foster multimodal connectivity and accessibility, improve transit access for pedestrian and bicycle traffic, engage the private sector, identify infrastructure needs, and enable mixed-use development near transit stations. The statute also requires that the planning work be associated with a new fixed guideway or core capacity transit project as defined in Federal transit statute ( USC (a); also see the NOFO for the definitions). Consistent with statutory direction, FTA is seeking comprehensive planning projects covering an entire transit capital project corridor, rather than proposals that involve planning for individual station areas or only a small section of the corridor. To ensure that planning work reflects the needs and aspirations of the local community and results in concrete, specific deliverables and outcomes, FTA is requiring that transit project sponsors partner with entities with land use planning authority in the transit project corridor. ', 6: 'Public Transportation on Indian Reservations Program: The Federal Transit Administration (FTA) announces the availability of approximately $ million in funding provided by the Public Transportation on Indian Reservations Program (Tribal Transit Program (TTP)), as authorized by  U.S.C. (c)()(A), as amended by the Fixing America&apos;s Surface Transportation Act (FAST), Public Law - (December , ). The primary purpose of these competitively selected grants is to support planning, capital, and, in limited circumstances, operating assistance for tribal public transit services. Funds distributed to Indian tribes under the TTP should not replace or reduce funds that Indian tribes receive from states through FTA&#;s Section  program. ', 7: 'INFRA Grants: The Nationally Significant Freight and Highway Projects (INFRA) program provides Federal financial assistance to highway and freight projects of national or regional significance. This notice solicits applications for awards under the program&#;s fiscal year (FY)  funding, subject to the availability of appropriated funds. The Department is focusing the competition on transportation infrastructure projects that support four key objectives, each of which is discussed in greater detail in the Notice of Funding Opportunity: () Supporting economic vitality at the national and regional level; () Leveraging Federal funding to attract non-Federal sources of infrastructure investment; () Deploying innovative technology, encouraging innovative approaches to project delivery, and incentivizing the use of innovative financing; and () Holding grant recipients accountable for their performance. ', 8: ' Tribal Transportation Program Safety Fund: A Notice of Funding Availability (NOFA) for Tribal Transportation Program Safety Funds (TTPSF) has been published. This notice announces the availability of $. million for projects in three categories: safety plans; data assessment, improvement, and analysis activities; and infrastructure improvement and other eligible activities as listed in  U.S.C.(a)() The deadline for submissions is //. For complete instructions on preparing and submitting an application for TTPSF, please download the application information and NOFO at https://flh.fhwa.dot.gov/programs/ttp/safety/ttpsf.htm Please submit your application directly to FHWA through the &quot;apply now&quot; button at: https://flh.fhwa.dot.gov/programs/ttp/safety/ttpsf.htm ', 9: 'Grants for Buses and Bus Facilities Program: The purpose of the Grants for Buses and Bus Facilities Program is to assist in the financing of buses and bus facilities capital projects, including replacing, rehabilitating, purchasing or leasing buses or related equipment, and rehabilitating, purchasing, constructing or leasing bus-related facilities.', 10: 'Low or No Emission Program (Low-No Program): The main purpose of the Low-No Program is to support the transition of the nation&#;s transit fleet to the lowest polluting and most energy efficient transit vehicles. The Low-No Program provides funding to State and local governmental authorities for the purchase or lease of zero-emission and low-emission transit buses, including acquisition, construction, and leasing of required supporting facilities.', 11: 'Passenger Ferry Grant Program: The Federal Transit Administration (FTA) announces the opportunity to apply for $ million in Fiscal Year (FY)  Section  Urbanized Area Formula Program funds (Catalog of Federal Domestic Assistance #.) authorized for competitively selected passenger ferry projects. As required by Federal public transportation law and subject to appropriations, funds will be awarded competitively to designated recipients or eligible direct recipients of Section  funds to assist in the financing of capital projects to support existing passenger ferry service, establish new ferry service, and to repair and modernize ferry boats, terminals, and related facilities and equipment. ', 12: 'Pilot Program for Transit-Oriented Development (TOD) Planning: Notice of Funding Opportunity for PILOT PROGRAM FOR TRANSIT-ORIENTED DEVELOPMENT (TOD) PLANNING. The Federal Transit Administration (FTA) announces the opportunity to apply for approximately $. million of funding under the Pilot Program for TOD Planning (Catalog of Federal Domestic Assistance #.). As required by federal transit law and subject to funding availability, funds will be awarded competitively to support comprehensive planning associated with new fixed guideway and core capacity improvement projects. FTA anticipates minimum grant awards of $, and maximum grant awards of $,,. The Pilot Program for TOD Planning is intended to fund comprehensive planning that supports economic development, ridership, multimodal connectivity and accessibility, increased transit access for pedestrian and bicycle traffic, and mixed-use development near transit stations. The program also encourages identification of infrastructure needs and engagement with the private sector. Consistent with statutory direction, FTA is seeking comprehensive planning projects covering an entire transit capital project corridor, rather than proposals that involve planning for individual station areas or only a small section of the corridor. To ensure any proposed planning work reflects the needs and aspirations of the local community and results in concrete, specific deliverables and outcomes, transit project sponsors must partner with entities with land use planning authority in the transit project corridor to conduct the planning work.The Pilot Program for TOD Planning helps support FTA&#;s mission of improving public transportation for America&#;s communities by providing funding to local communities to integrate land use and transportation planning around a new fixed guideway or core capacity improvement project. Per statute, any comprehensive planning funded through the program must examine ways to improve economic development and ridership, foster multimodal connectivity and accessibility, improve transit access for pedestrian and bicycle traffic, engage the private sector, identify infrastructure needs, and enable mixed-use development near transit stations.', 13: 'FY  Competitive Funding Opportunity: Public Transportation on Indian Reservations Program: The Federal Transit Administration (FTA) announces the availability of approximately $ million in funding provided by the Public Transportation on Indian Reservations Program (Tribal Transit Program (TTP)), as authorized by  U.S.C. (c)()(A), as amended by the Fixing America&apos;s Surface Transportation Act (FAST), Public Law - (December , ). This is a national solicitation for project proposals and includes the selection criteria and program eligibility information for Fiscal Year  projects. The primary purpose of these competitively selected grants is to support planning, capital, and, in limited circumstances, operating assistance for tribal public transit services. Funds distributed to Indian tribes under the TTP should not replace or reduce funds that Indian tribes receive from states through FTA&#;s Section  program.', 14: '*INFRA Grants: The U.S. Department of Transportation (USDOT) is seeking applicants for the FY  round of the Infrastructure for Rebuilding America (INFRA) discretionary grant program to fund transportation projects of national and regional significance that result in good-paying jobs, improve safety, apply transformative technology, and explicitly address climate change and racial equity. The funding available for this year&#;s grants totals approximately $ million.The Department recognizes the role that infrastructure investment plays in economic development and job creation, and the added urgency of this funding at time when the COVID- pandemic has put stress on state and local budgets.For the first time, the USDOT seeks INFRA projects that address climate change and environmental justice. Projects will be evaluated on whether they were planned as part of a comprehensive strategy to address climate change, or whether they support strategies to reduce greenhouse gas emissions such as deploying zero-emission-vehicle infrastructure or encouraging modal shift and a reduction in vehicle-miles-traveled. Racial equity will also be considered as a selection criterion, to the extent that project sponsors have completed equity-focused community outreach, and projects are designed to benefit underserved communities. The Department will also consider whether the project is located in a federally designated community development zone, including qualified Opportunity Zones, Empowerment Zones, Promise Zones, or Choice Neighborhoods.USDOT seeks projects that apply innovative technology, delivery, or financing methods with proven outcomes to deliver projects in a cost effective manner. The Department will make awards under the INFRA program to both large and small projects. For a large project, the INFRA grant must be at least $ million. For a small project, the grant must be at least $ million. Under statutory requirements,  percent of available funds are reserved for small projects, and the Department must award at least  percent of funding for rural projects. INFRA grants may be used to fund a variety of components of an infrastructure project, however, the Department is specifically focused on projects in which the local sponsor is significantly invested and is positioned to proceed rapidly to construction. Eligible INFRA project costs may include: reconstruction, rehabilitation, acquisition of property (including land related to the project and improvements to the land), environmental mitigation, construction contingencies, equipment acquisition, and operational improvements directly related to system performance. The INFRA NOFO also announces the creation of the &#;INFRA Extra&#; Program, which will identify competitive INFRA applicants who do not receive an INFRA award and authorize them to seek a Transportation Infrastructure Finance and Innovation Act of  (TIFIA) loan up to  percent of their project cost.', 15: 'Fiscal Year  Competitive Funding Opportunity; Grants for Buses and Bus Facilities Program: The Federal Transit Administration (FTA) announces the availability of approximately $. million of Fiscal Year  funds for buses, bus facilities, and bus equipment. Synopses and full announcement will be posted on Grants.gov as opportunity FTA---BUS. Proposals must be submitted electronically through Grants.gov website by : PM Eastern Time November ,.', 16: 'FY  Competitive Funding Opportunity: Passenger Ferry Grant Program: The Federal Transit Administration (FTA) announces the opportunity to apply for $ million in competitive grants under the Fiscal Year (FY)  Passenger Ferry Grant Program (Ferry Program) (Federal Assistance Listing #.). Of that amount, $ million is available only for low or zero-emission ferries or ferries using electric battery or fuel cell components and the infrastructure to support such ferries. As required by Federal public transportation law, funds will be awarded competitively to designated recipients or eligible direct recipients of Urbanized Area Formula funds to support capital projects to improve existing passenger ferry service, establish new ferry service, and repair and modernize ferry boats, terminals, and related facilities and equipment.', 17: ' Competitive Funding Opportunity: Pilot Program for Transit-Oriented Development (TOD) Planning: The Pilot Program for TOD Planning helps support FTA&#;s mission of improving public transportation for America&#;s communities by providing funding to local communities to integrate land use and transportation planning around a new fixed guideway or core capacity improvement project. Per statute, any comprehensive planning funded through the program must examine ways to improve economic development and ridership, foster multimodal connectivity and accessibility, improve transit access for pedestrian and bicycle traffic, engage the private sector, identify infrastructure needs, and enable mixed-use development near transit stations. Additional information is available at: https://www.transit.dot.gov/TODPilot.Notice of Funding Opportunity (NOFO): Notice of Funding Opportunity for PILOT PROGRAM FOR TRANSIT-ORIENTED DEVELOPMENT (TOD) PLANNING. The Federal Transit Administration (FTA) announces the opportunity to apply for $,, of funding under the Pilot Program for TOD Planning (Catalog of Federal Domestic Assistance #.). As required by federal transit law and subject to funding availability, funds will be awarded competitively to support comprehensive planning associated with new fixed guideway and core capacity improvement projects. FTA anticipates minimum grant awards of $, and maximum grant awards of $,,. Synopses and full announcement are posted on Grants.gov as opportunity FTA---TPE-TODP. The Pilot Program for TOD Planning is intended to fund comprehensive planning that supports economic development, ridership, multimodal connectivity and accessibility, increased transit access for pedestrian and bicycle traffic, and mixed-use development near transit stations. The program also encourages identification of infrastructure needs and engagement with the private sector.Consistent with statutory direction, FTA is seeking comprehensive planning projects covering an entire transit capital project corridor, rather than proposals that involve planning for individual station areas or only a small section of the corridor. To ensure any proposed planning work reflects the needs and aspirations of the local community and results in concrete, specific deliverables and outcomes, transit project sponsors must partner with entities with land use planning authority in the transit project corridor to conduct the planning work.Link and Instructions for attaching the supplemental form to the SF-: All applicants must complete a supplemental form (PDF) specific to the Pilot Program for TOD Planning and attach it to their submission in Grants.gov. See section D of the NOFO for information about additional required application contents.Webinar: FTA will conduct a webinar for prospective applicants after the NOFO is published in the Federal Register. Further information will be posted on FTA&#;s website (https://www.transit.dot.gov/TODPilot) when available. Dates: An applicant must submit a proposal electronically by : p.m. Eastern Daylight Time on June , . Any agency intending to apply should initiate the process of registering on the Grants.gov site immediately to ensure completion of registration before the submission deadline. ', 18: 'FY  Competitive Funding Opportunity:  Public Transportation on Indian Reservations Program; Tribal Transit Program: The Federal Transit Administration (FTA) announces the opportunity to apply for $ million in competitive grants for the Fiscal Year (FY)  Public Transportation on Indian Reservations (Tribal Transit) Program (Federal Assistance Listing: .). As required by Federal public transportation law, funds will be awarded competitively for any purpose eligible under FTA&#;s Formula Grants for Rural Areas Program,  U.S.C. , including planning, capital, and operating assistance for tribal public transit services in rural areas. ', 19: 'INFRA Grants: The U.S. Department of Transportation (USDOT) is seeking applicants for the FY  round of the Infrastructure for Rebuilding America (INFRA) discretionary grant program to fund transportation projects of national and regional significance that result in good-paying jobs, improve safety, apply transformative technology, and explicitly address climate change and racial equity. The funding available for this year&#;s grants totals approximately $ million.The Department recognizes the role that infrastructure investment plays in economic development and job creation, and the added urgency of this funding at time when the COVID- pandemic has put stress on state and local budgets.For the first time, the USDOT seeks INFRA projects that address climate change and environmental justice. Projects will be evaluated on whether they were planned as part of a comprehensive strategy to address climate change, or whether they support strategies to reduce greenhouse gas emissions such as deploying zero-emission-vehicle infrastructure or encouraging modal shift and a reduction in vehicle-miles-traveled. Racial equity will also be considered as a selection criterion, to the extent that project sponsors have completed equity-focused community outreach, and projects are designed to benefit underserved communities. The Department will also consider whether the project is located in a federally designated community development zone, including qualified Opportunity Zones, Empowerment Zones, Promise Zones, or Choice Neighborhoods.USDOT seeks projects that apply innovative technology, delivery, or financing methods with proven outcomes to deliver projects in a cost effective manner. The Department will make awards under the INFRA program to both large and small projects. For a large project, the INFRA grant must be at least $ million. For a small project, the grant must be at least $ million. Under statutory requirements,  percent of available funds are reserved for small projects, and the Department must award at least  percent of funding for rural projects. INFRA grants may be used to fund a variety of components of an infrastructure project, however, the Department is specifically focused on projects in which the local sponsor is significantly invested and is positioned to proceed rapidly to construction. Eligible INFRA project costs may include: reconstruction, rehabilitation, acquisition of property (including land related to the project and improvements to the land), environmental mitigation, construction contingencies, equipment acquisition, and operational improvements directly related to system performance. The INFRA NOFO also announces the creation of the &#;INFRA Extra&#; Program, which will identify competitive INFRA applicants who do not receive an INFRA award and authorize them to seek a Transportation Infrastructure Finance and Innovation Act of  (TIFIA) loan up to  percent of their project cost.', 20: 'FY Tribal Transportation Program Safety Fund (TTPSF): A Notice of Funding Opportunity (NOFO) for Tribal Transportation Program Safety Funds (TTPSF) has been published. This notice announces the availability of approximately $. million for projects in four categories: safety plans; data assessment, improvement, and analysis activities; systemic roadway departure countermeasures; and infrastructure improvement and other eligible activities as listed in  U.S.C.(a)(). The goal of these projects is to reduce fatalities and serious injuries from transportation incidents, such as motor vehicle crashes. For complete instructions on preparing and submitting an application for TTPSF, please download the application, application information, systemic roadway departure risk assessment form (if applicable) and NOFO at https://highways.dot.gov/federal-lands/programs-tribal/safety/funds. Applications will NOT be submitted on Grants.gov. Instead, please use the &quot;apply now&quot; button on the program web page.', 21: 'Advanced Transportation Technologies and  Innovative Mobility Deployment (ATTIMD) Program: AMENDMENT  (//): This amendment is for the purpose of correcting a typo contained in Table D. on page  of . This table, contained in Section D. for CONTENT AND FORM OF APPLICATION SUBMISSION, erroneously omitted the Project Outcome Criteria from that table&#;s submission requirements for Volume . This amendment also revises the verbiage included on page  of the NOFO to clarify that all resumes for key personnel should be included in item f) Appendix &#; R&#;sum&#;s for Key Personnel. Please note that Resumes do not count against the page limitations for Volume . Please refer to Amendment  in the &#;Related Documents&#; tab for more information. -- END OF AMENDMENT  -- AMENDMENT  (//): This amendment adds the weblink to the recording of the October , , informational webinar for this opportunity. The weblink is included in the attachments page for this opportunity as well as below: LINK: https://usdot.zoomgov.com/rec/share/eQNNRGISy-UxfqGpSDzINRbzvcdkAjDdoulZvwRCt-sARp.kdAJIUFsFZZEpf PASSCODE: c@X*&amp;@ -- END OF AMENDMENT  -- AMENDMENT  (//): This amendment adds the registration information for the October , , informational webinar for this opportunity. Please refer to the &quot;Related Documents&quot; tab for more information. -- END OF AMENDMENT  -- BASE NOFO (//): The Advanced Transportation Technologies and Innovative Mobility Deployment Program (ATTIMD), established in Section (c)() of title , United States Code (U.S.C.), also known as the Advanced Transportation Technology and Innovation (ATTAIN) Program, directs FHWA to award grants to eligible entities to deploy, install, and operate advanced transportation technologies to improve safety, mobility, efficiency, system performance, intermodal connectivity, and infrastructure return on investment. FHWA intends for these model technology deployments to help demonstrate how emerging transportation technologies, data, and their applications can be effectively deployed and integrated with existing systems to provide access to essential services and other destinations. This also includes efforts to increase connectivity to employment, education, services, and other opportunities; support workforce development; or contribute to increased mobility, particularly for persons with visible and hidden disabilities and elderly individuals. The Assistance Listing Number for this opportunity is . &#; Highway Research and Development. The Federal Highway Administration (FHWA) hereby requests applications to result in awards to eligible entities to deploy, install, and operate advanced transportation technologies to improve safety, mobility, efficiency, system performance, intermodal connectivity, and infrastructure return on investment. These model deployments are expected to provide benefits in the form of: reduced traffic-related fatalities and injuries; reduced traffic congestion and improved travel time reliability; reduced transportation-related emissions; optimized multimodal system performance; improved access to transportation alternatives, including for underserved populations; improved integration of payment systems; public access to real-time integrated traffic, transit, and multimodal transportation information to make informed travel decisions; cost savings to transportation agencies, businesses, and the traveling public; or other benefits to transportation users and the general public. This competitive ATTAIN Program will promote the use of innovative transportation solutions. The deployment of these technologies will provide Congress and FHWA with valuable real-life data and feedback to inform future decision-making. Cost Sharing: Cost-sharing or matching is required, with the maximum Federal share being  percent; hence, this NOFO requires a minimum non-Federal cost share of  percent. Cost sharing or matching means the portion of project costs not paid by Federal funds. NOTE: FHWA previously issued six NOFOs for the Advanced Transportation and Congestion Management Technologies Deployment (ATCMTD) Grant Program before the program was amended and renamed to the Advanced Transportation Technologies and Innovative Mobility Deployment Program by Section  of the Infrastructure Investment and Jobs Act (IIJA) (Public Law -, also known as the &#;Bipartisan Infrastructure Law&#; (BIL)).', 22: 'FY  and FY  Competitive Funding Opportunity: Competitive Grants for Rail Vehicle Replacement Program (Rail Program): The Federal Transit Administration (FTA) announces the opportunity to apply for $ million in Fiscal Year (FY)  and  Section  State of Good Repair Program funds (Catalog of Federal Domestic Assistance #.) authorized for competitively selected rail vehicle replacement projects. As required by Federal public transportation law and subject to appropriations, funds will be awarded competitively to States and local governmental authorities to assist in the funding of capital projects to replace rail rolling stock.', 23: 'Bridge Investment Program - Planning, Bridge Projects, and Large Bridge Projects: This Notice of Funding Opportunity (NOFO) is to solicit applications for three categories of Bridge Investment Program (BIP) funding opportunities: () Planning; () Bridge Projects (projects with eligible costs less than $ million); and () Large Bridge Projects (projects with eligible costs greater than $ million). Eligible applicants may submit applications for any of the three funding categories, but each category has distinct eligibility and selection criteria and application deadlines.These funds will be awarded on a competitive basis for planning, feasibility analysis, and revenue forecasting associated with the development of a project that would subsequently be eligible to apply for BIP funding under either the Bridge Projects or Large Bridge Projects funding categories.A total of $. billion in  BIP funds are available for the Bridge Projects and Large Bridge Projects funding opportunities. These funds will be awarded on a competitive basis for bridge replacement, rehabilitation, preservation, and protection projects that: () improve the safety, efficiency, and reliability of the movement of people and freight over bridges; and () improve the condition of bridges in the United States by reducing (a) the number of bridges, and total person miles traveled over bridges, that are in poor condition or that are in fair condition and at risk of falling into poor condition within the next three years, or (b) the number of bridges, and total person miles traveled over bridges, that do not meet current geometric design standards or cannot meet the load and traffic requirements typical of the regional transportation network. In addition, Large Bridge Projects that receive a BIP award of not less than $ million are eligible for multiyear grants, in which DOT can award available funds to a project over the course of several years in accordance with an agreement and in alignment with its schedule. In selecting Bridge Projects and Large Bridge Projects, FHWA will consider the extent to which BIP funds leverage non-Federal contributions from sponsors and stakeholders involved in the planning, design, and construction of eligible projects. ', 24: 'FY  Competitive Funding Opportunity; Low or No Emission Grant Program: Low-No ProgramThe Federal Transit Administration (FTA) announces the opportunity to apply for approximately $. billion in competitive grants under the fiscal year (FY)  Low or No Emission Grant Program (Low-No Program) (Federal Assistance Listing: .) and approximately $ million in FY  funds under the Grants for Buses and Bus Facilities Program (Buses and Bus Facilities Program) (Federal Assistance Listing .), subject to availability of appropriated funding. Synopses and full announcement will be posted on Grants.gov as funding opportunity ID FTA--TPM for Low-No applications and FTA--TPM for Buses and Bus Facilities applications. Proposals must be submitted electronically through Grants.gov website by : PM Eastern Time May , .', 25: 'FY  Competitive Funding Opportunity: All Stations Accessibility Program: The Federal Transit Administration (FTA) announces the opportunity to apply for $ million in competitive grants under the Fiscal Year (FY)  All Stations Accessibility Program (ASAP) (Federal Assistance Listing #.). As required by Federal public transportation law, funds will be awarded competitively to eligible designated recipients that operate or allocate funds to inaccessible pre-ADA&#;or &#;legacy&#; &#; rail fixed guideway public transportation systems, and States (including territories and Washington, D.C.) and local governmental entities that operate or financially support legacy rail fixed guideway public transportation systems and corresponding legacy stations/facilities for capital projects to repair, improve, modify, retrofit, or relocate infrastructure of stations or facilities for passenger use, including load-bearing members that are an essential part of the structural frame; or () for planning projects to develop or modify a plan for pursuing public transportation accessibility projects, assessments of accessibility, or assessments of planned modifications to stations or facilities for passenger use projects; or programs of projects in an eligible area.', 26: 'FY  Competitive Funding Opportunity: Buses and Bus Facilities Competitive Program: Bus and Bus Facilities ProgramThe Federal Transit Administration (FTA) announces the opportunity to apply for approximately $. billion in competitive grants under the fiscal year (FY)  Low or No Emission Grant Program (Low-No Program) (Federal Assistance Listing: .) and approximately $ million in FY  funds under the Grants for Buses and Bus Facilities Program (Buses and Bus Facilities Program) (Federal Assistance Listing .), subject to availability of appropriated funding. Synopses and full announcement will be posted on Grants.gov as funding opportunity ID FTA--TPM for Low-No applications and FTA--TPM for Buses and Bus Facilities applications. Proposals must be submitted electronically through Grants.gov website by : PM Eastern Time May , ', 27: 'FY  Competitive Funding Opportunity: Electric or Low-Emitting Ferry Pilot Program: The Federal Transit Administration (FTA) announces the opportunity to apply for $ million in competitive grants under the Fiscal Year (FY)  Electric or Low-Emitting Ferry Pilot Program (ELEF) (Federal Assistance Listing #.). ELEF makes funding available competitively to assist in the financing of capital projects for the purchase of electric or low-emitting ferry vessels that reduce emissions by using alternative fuels or on-board energy storage systems and related charging infrastructure to reduce emissions or produce zero onboard emissions under normal operation.', 28: 'FY  Competitive Funding Opportunity: Passenger Ferry Grant Program: The Federal Transit Administration (FTA) announces the opportunity to apply for $. million in competitive grants under the Fiscal Year (FY)  Passenger Ferry Grant Program (PFG) (Federal Assistance Listing #.). Of that amount, $. million is available only for low or zero-emission ferries or ferries using electric battery or fuel cell components and the infrastructure to support such ferries. As required by Federal public transportation law, funds will be awarded competitively to designated recipients or eligible direct recipients of Urbanized Area Formula funds to support capital projects to improve existing passenger ferry service, establish new ferry service, and repair and modernize ferry boats, terminals, and related facilities and equipment. ', 29: 'FY  Pilot Program for Transit-Oriented Development (TOD) Planning: The Pilot Program for TOD Planning helps support FTA&#;s mission of improving public transportation for America&#;s communities by providing funding to local communities to integrate land use and transportation planning around a new fixed guideway or core capacity improvement project. Per statute, any comprehensive or site specific planning funded through the program must examine ways to improve economic development and ridership, foster multimodal connectivity and accessibility, improve transit access for pedestrian and bicycle traffic, engage the private sector, identify infrastructure needs, and enable mixed-use development near transit stations.', 30: 'FY  Competitive Funding Opportunity: Public Transportation on Indian Reservations Program; Tribal Transit Program: The Federal Transit Administration (FTA) announces the opportunity to apply for $. million in competitive grants for the Fiscal Year (FY)  Public Transportation on Indian Reservations (Tribal Transit) Program. As required by Federal public transportation law, funds will be awarded competitively for any purpose eligible under FTA&#;s Formula Grants for Rural Areas Program, including planning, capital, and operating assistance for tribal public transit services in rural areas. FTA may award additional funding that is made available to the program prior to the announcement of project selections.', 31: 'FY Consolidated Rail Infrastructure and Safety Improvements Grant Program: This program funds projects that improve the safety, efficiency, and reliability of intercity passenger and freight rail.', 32: 'FY Corridor Identification and Development Grant Program: This program facilitates the development of intercity passenger rail corridors.', 33: 'FY Federal-State Partnership for Intercity Passenger Rail Grant Program for projects not located on the Northeast Corridor: This program funds capital projects that reduce the state of good repair backlog, improve performance, or expand or establish new intercity passenger rail service.', 34: 'Fiscal Year  National Culvert Removal, Replacement, and Restoration Grant Program (Culvert AOP Program): -- ORIGINAL NOFO POSTING - // -- The primary goal of the Culvert AOP Program is to improve or restore anadromous fish passage through the replacement, removal, repair, or improvement of culverts or weirs. The grant program prioritizes projects that would improve fish passage for: (A) anadromous fish stocks listed as an endangered species or a threatened species under section  of the Endangered Species Act of  ( U.S.C. &#; ); (B) anadromous fish stocks identified by the National Marine Fisheries Service (NMFS) or the U.S. Fish and Wildlife Service (USFWS) that could reasonably become listed as an endangered species or a threatened species under that section; (C) anadromous fish stocks identified by the NMFS or the USFWS as prey for endangered species, threatened species, or protected species, including Southern resident orcas (Orcinus orca); or (D) anadromous fish stocks identified by the NMFS or the USFWS as climate resilient stocks ( U.S.C. &#; (e)()). The program also prioritizes projects that would open up more than  meters of upstream (anadromous) habitat before the end of the natural habitat ( U.S.C. &#; (e)()). ', 35: 'FY  National Infrastructure Investments: Agency Name: Department of TransportationDescription: The Infrastructure Investment and Jobs Act (Pub. L. -, November , , &#;Bipartisan Infrastructure Law,&#; or &#;BIL&#;) authorized and appropriated $. billion to be awarded by the Department of Transportation (&#;DOT&#;) for FY  for Local and Regional Project Assistance Program Grants under National Infrastructure Investments. This Notice of Funding Opportunity (NOFO) solicits applications for projects to be funded under the Local and Regional Project Assistance Program, known as the RAISE Grants program, including any additional funding appropriated for the RAISE Grants program under the FY  Appropriations Act. On March , , the Consolidated Appropriations Act,  (Pub. L. -, &#;FY  Appropriations Act&#;) appropriated an additional $ million for the FY  RAISE Grant Program. Therefore, a total of $. billion in funding is now available for the FY  RAISE Grant Program. Applicants should note that the two funding streams (BIL funding and FY  Appropriations Act funding) have slightly different funding restrictions and requirements that may affect competitiveness. Please see the Notice of Funding Opportunity Amendment No. for details.As with previous rounds, funds for the FY  RAISE Transportation program are to be awarded on a competitive basis for projects that will have a significant local or regional impact.', 36: 'FY  Natural Gas Distribution Infrastructure Safety and Modernization Grant: FY  Natural Gas Distribution Infrastructure Safety and Modernization Grant', 37: 'The Infrastructure Investment and Jobs Act (IIJA) Notice of Funding Opportunity for America&#;s Marine Highway Program: This notice announces the availability of funding for grants and establishes selection criteria and application requirements for the America&#;s Marine Highway Program (&#;AMHP&#;). The purpose of this program is to make grants available to previously designated Marine Highway Projects that support the development and expansion of documented vessels or port and landside infrastructure. The Department also seeks eligible grant projects that will strengthen American supply chains. The U.S. Department of Transportation (&#;DOT&#; or &#;Department&#;) will award Marine Highway Grants to implement projects or components of projects previously designated by the Secretary of Transportation (&#;Secretary&#;) under the AMHP. Only Marine Highway Projects the Secretary designates before the Notice of Funding Opportunity (&#;NOFO&#;) closing date are eligible for funding as described in this notice. TIMING OF GRANT APPLICATIONS: Applications must be received by the Maritime Administration (&#;MARAD&#;) by : p.m. E.D.T. on April , . ADDRESSES: Grant applications must be submitted electronically using Grants.gov (https://www.grants.gov). Please be aware that you must complete the Grants.gov registration process before submitting your application and that the registration process usually takes  to  weeks to complete. Applicants are strongly encouraged to make submissions in advance of the deadline. FOR FURTHER INFORMATION CONTACT: Fred Jones, Office of Ports &amp; Waterways Planning, Room W&#;, Maritime Administration, U.S. Department of Transportation,  New Jersey Avenue S.E., Washington, D.C. , phone --, or email Fred.Jones@dot.gov. Persons who use a telecommunications device for the deaf (TDD) may call the Federal Information Relay Service (FIRS) at --- to contact the above individual during business hours. The FIRS is available twenty-four hours a day, seven days a week, to leave a message or question with the above individual. You will receive a reply during regular business hours.', 38: '*FY  Notice of Funding Opportunity: Bipartisan Infrastructure Law (BIL) Airport Terminal Program (ATP) Grants: The Department of Transportation (DOT), Federal Aviation Administration (FAA) announces the opportunity to apply for approximately $ billion in FY  discretionary funds for the Airport Terminal Program (ATP), made available under the Infrastructure Investment and Jobs Act of  (IIJA), Pub. L. -, herein referred to as the Bipartisan Infrastructure Law (BIL). The purpose of the ATP is to make annual grants available to eligible airports for airport terminal and airport-owned Airport Traffic Control Towers development projects that address the aging infrastructure of our nation&#;s airports. In addition, ATP grants will align with DOT&#;s Strategic Framework FY- at https://www.transportation.gov/administrations/office-policy/fy--strategic-framework. The FY  ATP will be implemented consistent with law and in alignment with the priorities in Executive Order , Implementation of the Infrastructure Investments and Jobs Act ( FR ), which are to invest efficiently and equitably; promote the competitiveness of the U.S. economy; improve job opportunities by focusing on high labor standards; strengthen infrastructure resilience to all hazards including climate change; and to effectively coordinate with State, local, Tribal, and territorial government partners. ', 39: 'INFRA Grants: The Department is combining three major discretionary grant programs into one Multimodal Projects Discretionary Grant (MPDG) opportunity to reduce the burden for state and local applicants and increase the pipeline of &#;shovel-worthy&#; projects that are now possible because of the Bipartisan Infrastructure Law. These investments will create good-paying jobs, grow the economy, reduce emissions, improve safety, make our transportation more sustainable and resilient, and expand transportation options in rural America and other underserved communities. Thanks to the Bipartisan Infrastructure Law, this funding will help enable more communities to build vital infrastructure projects that also strengthen supply chains and reduce costs for American families. The Infrastructure for Rebuilding America (INFRA) program is an existing competitive program that will see a more than  percent increase in this year&#;s funding due to the Bipartisan Infrastructure Law. These grants advance the Administration&#;s priorities of rebuilding America&#;s infrastructure and creating jobs by funding highway, multimodal freight and rail projects that position America to win the st century. Projects will improve safety, generate economic benefits, reduce congestion, enhance resiliency, and hold the greatest promise to eliminate supply chain bottlenecks and improve critical freight movements. Last year, DOT received over $ billion of project applications, but could only fund around $ billion of projects. To see last year&#;s INFRA grants, click here. The Bipartisan Infrastructure Law provides approximately $ billion for INFRA over  years, of which approximately $. billion will be made available through this NOFO. ', 40: 'Mega Grants: The Department is combining three major discretionary grant programs into one Multimodal Projects Discretionary Grant (MPDG) opportunity to reduce the burden for state and local applicants and increase the pipeline of &#;shovel-worthy&#; projects that are now possible because of the Bipartisan Infrastructure Law. These investments will create good-paying jobs, grow the economy, reduce emissions, improve safety, make our transportation more sustainable and resilient, and expand transportation options in rural America and other underserved communities. Thanks to the Bipartisan Infrastructure Law, this funding will help enable more communities to build vital infrastructure projects that also strengthen supply chains and reduce costs for American families.The National Infrastructure Project Assistance (MEGA) program was created in the Bipartisan Infrastructure Law to fund major projects that are too large or complex for traditional funding programs. The program will provide grants on a competitive basis to support multijurisdictional or regional projects of significance that may also cut across multiple modes of transportation. Eligible projects could include highway, bridge, freight, port, passenger rail, and public transportation projects of national and regional significance. These could be bridges or tunnels connecting two states; new rail and transit lines that improve equity and reduce emissions; and freight hubs integrating ship, train and truck traffic while improving environmental justice. DOT will award  percent of funding to projects greater than $ million in cost, and  percent to projects greater than $ million but less than $ million in cost. The program will receive up to $ billion this year alone and be able to provide multi-year funding to projects.', 41: 'Rural Surface Transportation Grant Program: The Department is combining three major discretionary grant programs into one Multimodal Projects Discretionary Grant (MPDG) opportunity to reduce the burden for state and local applicants and increase the pipeline of &#;shovel-worthy&#; projects that are now possible because of the Bipartisan Infrastructure Law. These investments will create good-paying jobs, grow the economy, reduce emissions, improve safety, make our transportation more sustainable and resilient, and expand transportation options in rural America and other underserved communities. Thanks to the Bipartisan Infrastructure Law, this funding will help enable more communities to build vital infrastructure projects that also strengthen supply chains and reduce costs for American families.The Rural Surface Transportation Grant Program (RURAL) was created in the Bipartisan Infrastructure Law and will support projects to improve and expand the surface transportation infrastructure in rural areas to increase connectivity, improve the safety and reliability of the movement of people and freight, and generate regional economic growth and improve quality of life. Eligible projects for Rural grants include highway, bridge, and tunnel projects that help improve freight, safety, and provide or increase access to an agricultural, commercial, energy, or transportation facilities that support the economy of a rural area. This year alone, DOT will award up to $ million in grants through the rural program&#;part of the $ billion included in the Bipartisan Infrastructure Law over five years.', 42: '*FY  Notice of Funding Opportunity: Bipartisan Infrastructure Law (BIL) FAA Contract Tower (FCT) Competitive Grant Program: The Department of Transportation (DOT), Federal Aviation Administration (FAA) announces the opportunity to apply for $ million in FY  Airport Infrastructure Grant funds for the FCT competitive grant program, made available under the Infrastructure Investment and Jobs Act of  (IIJA), Pub. L. -, herein referred to as the Bipartisan Infrastructure Law (BIL). The purpose of the FCT competitive grant program is to make annual grants available to eligible airports for airport-owned airport traffic control tower (ATCT) projects that address the aging infrastructure of the nation&#;s airports. The FAA will consider ATCT projects that sustain, construct, repair, improve, rehabilitate, modernize, replace, or relocate non-approach control towers; or acquire and install air traffic control, communications, and related equipment to be used in those towers; or construct a remote tower certified by the FAA including acquisition and installation of air traffic control, communications, or related equipment. In addition, FT grants will align with DOT&#;s Strategic Framework FY- at https://www.transportation.gov/administrations/office-policy/fy--strategic-framework. The FY  FCT will be implemented consistent with law and in alignment with the priorities in Executive Order , Implementation of the Infrastructure Investments and Jobs Act ( FR ), which are to invest efficiently and equitably; promote the competitiveness of the U.S. economy; improve job opportunities by focusing on high labor standards; strengthen infrastructure resilience to all hazards including climate change; and to effectively coordinate with State, local, Tribal, and territorial government partners. ', 43: 'FY Railroad Crossing Elimination Grant Program: The purpose of the RCE Program is to provide funding for highway-rail and pathway-rail grade crossing improvement projects that focus on improving the safety and mobility of people and goods.', 44: 'Reconnecting Communities Pilot Discretionary Grant Program: The Reconnecting Communities Pilot Program notice of funding opportunity was amended on September ,  to include technical corrections to the Key Information Table. See updated materials in the &quot;Manage Related Documents&quot; section, as well as on our website at https://www.transportation.gov/grants/reconnecting-communitiesThe purpose of this notice is to solicit applications for Reconnecting Communities Pilot (RCP) Program grants. Funds for the Fiscal Year (FY)  RCP Program are to be awarded on a competitive basis for projects that reconnect communities by removing, retrofitting, or mitigating highways or other transportation facilities that create barriers to community connectivity, including to mobility, access, or economic development.The variety of transformative solutions to knit communities back together can include: high-quality public transportation, infrastructure removal, pedestrian walkways and overpasses, capping over roadways, linear parks and trail connectors, roadway redesigns and complete streets conversions, and main street revitalization. The program will award two types of grants: Planning Grants and Capital Construction Grants. Please consult the full Notice of Funding Opportunity for full details about the application process, requirements, and forms.', 45: 'Safe Streets and Roads for All Discretionary Grant Program: THIS NOTICE OF FUNDING OPPORTUNITY WAS AMENDED ON AUGUST , . PLEASE SEE THE GRANTS.GOV PACKAGE UPDATES, AND THE SAFE STREETS AND ROADS FOR ALL (SSA) WEBSITE IN THE LINK PROVIDED BELOW FOR MORE INFORMATION. DEADLINE REMAINS SEPTEMBER , .The purpose of this notice is to solicit applications for SSA grants. Funds for the fiscal year (FY)  SSA grant program are to be awarded on a competitive basis to support planning, infrastructure, behavioral, and operational initiatives to prevent death and serious injury on roads and streets involving all roadway users, including pedestrians; bicyclists; public transportation, personal conveyance, and micromobility users; motorists; and commercial vehicle operators. Those interested in applying for Implementation Grants should use the application materials in PKG; those interested in applying for Action Plan Grants should use the application materials in PKG. See application instructions to determine which grant to apply for in this funding round.', 46: 'Strengthening Mobility and Revolutionizing Transportation (SMART) Grants Program: The purpose of this notice is to solicit applications for Strengthening Mobility and Revolutionizing Transportation (SMART) grants. Funds for the fiscal year (FY)  SMART Grants Program are to be awarded on a competitive basis to conduct demonstration projects focused on advanced smart city or community technologies and systems to improve transportation efficiency and safety.', 47: 'FY- Federal-State Partnership for Intercity Passenger Rail Grant Program for projects located on the Northeast Corridor: This program funds capital projects on the Northeast Corridor that reduce the state of good repair backlog, improve performance, or expand or establish new intercity passenger rail service.', 48: 'Fiscal Years - Wildlife Crossings Pilot Program (WCPP): The primary goals of the WCPP are to save lives, prevent serious injuries, and protect motorists and wildlife by reducing WVCs, and improve habitat connectivity for terrestrial and aquatic species. Reduction of wildlife vehicle collisions and improvement of terrestrial and aquatic habitat connectivity are the primary merit criteria that will be used in reviewing applications, and each of the primary merit criteria are of equal importance.', 49: 'FY  Competitive Funding Opportunity; Buses and Bus Facilities Program: The Federal Transit Administration (FTA) announces the availability of approximately $ million in competitive grants under the Buses and Bus Facilities Program is to assist in the financing of buses and bus facilities capital projects, including replacing, rehabilitating, purchasing or leasing buses or related equipment, and rehabilitating, purchasing, constructing or leasing bus-related facilities. Synopses and full announcement will be posted on Grants.gov as opportunity FTA---TPM-BUS. Proposals must be submitted electronically through Grants.gov website by : PM Eastern Time April , .', 50: 'FY  Competitive Funding Opportunity; Low or No Emission Vehicle Program: The Federal Transit Administration (FTA) announces the availability of approximately $. billion in competitive grants under the Low or No Emission Grant Program (Low-No Program) for the purchase or lease of zero-emission and low-emission transit buses, including acquisition, construction, and leasing of required supporting facilities. Synopses and full announcement will be posted on Grants.gov as opportunity FTA---TPM-LWNO. Proposals must be submitted electronically through Grants.gov website by : PM Eastern Time April , .', 51: 'FY  Competitive Funding Opportunity: Areas of Persistent Poverty Program: To create new opportunities for those experiencing poverty, the U.S. Department of Transportation&#;s Federal Transit Administration (FTA) today announced a new Notice of Funding Opportunity (NOFO) to help improve transit in areas experiencing long-term economic distress. The $ million in competitive grant funding through FTA&#;s Areas of Persistent Poverty (AoPP) Program provides more resources to underserved and disadvantaged communities seeking to expand or improve transit. ', 52: 'FY  Competitive Funding Opportunity: Ferry Service for Rural Communities Program: The Federal Transit Administration (FTA) announces the opportunity to apply for $ million in competitive grants under the Fiscal Year (FY)  Ferry Service for Rural Communities Program (FSRC) (Federal Assistance Listing #.). FSRC makes funding available competitively to assist in the financing of capital, planning, and operating assistance for eligible ferry services.', 53: 'FY  Competitive Funding Opportunity: Passenger Ferry Grant Program: The Federal Transit Administration (FTA) announces the opportunity to apply for $. million in competitive grants under the Fiscal Year (FY)  Passenger Ferry Grant Program (PFG) (Federal Assistance Listing #.). Of that amount, $ million is available only for low or zero-emission ferries or ferries using electric battery or fuel cell components and the infrastructure to support such ferries. As required by Federal public transportation law, funds will be awarded competitively to designated recipients or eligible direct recipients of Urbanized Area Formula funds to support capital projects to improve existing passenger ferry service, establish new ferry service, and repair and modernize ferry boats, terminals, and related facilities and equipment. ', 54: 'FY  National Infrastructure Investments: The Infrastructure Investment and Jobs Act of  (&#;Bipartisan Infrastructure Law,&#; or &#;BIL&#;) authorized and appropriated $. billion to be awarded by the Department of Transportation (&#;DOT&#;) for Local and Regional Project Assistance Program Grants under National Infrastructure Investments in FY . This Notice of Funding Opportunity (NOFO) solicits applications for projects funded under the Local and Regional Project Assistance Program, known as the RAISE Grants program. If the FY  Appropriations Act provides additional funding for the RAISE grants program and/or significantly different requirements for National Infrastructure Investment funds, the Department will amend this Notice with guidance on additional requirements.As with previous rounds, funds for the FY  RAISE Transportation program are to be awarded on a competitive basis for projects that will have a significant local or regional impact.', 55: 'Neighborhood Access and Equity (NAE) Program: The Department of Transportation is combining two major discretionary grant programs, the Reconnecting Communities Pilot (RCP) and Neighborhood Access and Equity (NAE) programs, into one Notice of Funding Opportunity (NOFO). Together, this combined program is known as the Reconnecting Communities and Neighborhoods (RCN) Program. The primary goal of the NAE Program is to assist economically disadvantaged or undeserved communities for planning and construction activities. Funds for the fiscal year (FY)  NAE grant program are to be awarded on a competitive basis to support planning, capital construction, and regional partnership activities that aim to restore community connectivity through the removal, retrofit, mitigation or replacement of highways, roadways, or other infrastructure facilities that create barriers to mobility, access or economic development. Applicants must submit their applications via Valid Eval at the links below: Community Planning Grants: https://usg.valideval.com/teams/rcn_planning/signup Capital Construction Grants: https://usg.valideval.com/teams/rcn_capitalconstruction/signup Do not submit applications through Grants.gov. Applications must be submitted by : PM Eastern Time on Thursday, September , . Late applications will not be accepted. ', 56: 'FY  Notice of Funding Opportunity for Small Shipyard Grants: This notice announces the intention of the Maritime Administration to provide grants to small shipyards. Under the Small Shipyard Grant Program, there is currently $,, available for grants for capital and related improvements to qualified shipyard facilities that will be effective in fostering efficiency, competitive operations, and quality ship construction, repair, and reconfiguration. Potential applicants are advised that it is expected, based on experience, that the number of applications will far exceed the funds available and that only a small percentage of applicants will be funded. Applications (SF- and the Addendum) will be accepted online through Grants.gov by  pm on the closing date (February , ). See full text under Related Documents Tab (FY  SSG NOFO) or the MARAD Web Page for detailed submission instructions.', 57: 'Safe Streets and Roads for All Funding Opportunity: The purpose of this notice is to solicit applications for Safe Streets and Roads for All (SSA) grants. Funds for the fiscal year (FY)  SSA grant program are to be awarded on a competitive basis to support planning and demonstration activities, as well as projects and strategies to prevent death and serious injury on roads and streets involving all roadway users, including pedestrians; bicyclists; public transportation, personal conveyance, and micromobility users; motorists; and commercial vehicle operators. Applicants must submit their applications via Valid Eval at https://usg.valideval.com/teams/usdot_ssa__implementation/signup for Implementation Grant applicants, and https://usg.valideval.com/teams/usdot_ssa__planning_demo/signup for Planning and Demonstration Grants. Do not submit your applications through Grants.Gov. Applications must be submitted by : PM Eastern Time on Monday, July , . Late applications will not be accepted.', 58: 'SMART Grants Notice of Funding: The purpose of this notice is to solicit applications for Strengthening Mobility and Revolutionizing Transportation (SMART) Stage  Planning and Prototyping grants. Funds for the fiscal year (FY)  SMART Grants Program are to be awarded on a competitive basis to conduct demonstration projects focused on advanced smart city or community technologies and systems to improve transportation efficiency and safety. Applications must be submitted via Valid Eval, an online submission proposal system used by USDOT, at https://usg.valideval.com/teams/USDOT_SMART_/signup. USDOT will not accept or review application materials submitted via Grants.gov. ', 59: ' Tribal Transportation Program Safety Fund: Eligible projects described in section (a)() are strategies, activities, and projects on a public road that are consistent with a transportation safety plan and that (i) correct or improve a hazardous road location or feature, or (ii) address a highway safety problem. TTPSF emphasizes the development of strategic transportation safety plans using a data-driven process as a means for Tribes to identify transportation safety needs and determine how those needs will be addressed in Tribal communities. FHWA has identified four eligibility categories: transportation safety plans; data assessment, improvement, and analysis activities; systemic roadway departure countermeasures; and infrastructure improvements and other eligible activities as listed in  U.S.C. &#; (a)().', 60: 'United States Marine Highway Grants: This funding opportunity solicits applications for fiscal year (FY)  United States Marine Highway Program (USMHP) grants. Funds for FY  USMHP grants will be awarded on a competitive basis to assist in funding eligible projects for the purpose of developing, expanding, or promoting marine highway transportation. This opportunity announces the availability of up to $,, million in funding for grants under this program and establishes selection criteria and application requirements. All USMHP grant recipients must meet all applicable Federal requirements, including domestic content (&#;Buy America&#;) requirements. This program was formerly known as the America&#;s Marine Highway Program', 61: 'INFRA Grants: The Department is combining three major discretionary grant programs into one Multimodal Projects Discretionary Grant (MPDG) opportunity to reduce the burden for state and local applicants and increase the pipeline of &#;shovel-worthy&#; projects that are now possible because of the Bipartisan Infrastructure Law. These investments will create good-paying jobs, grow the economy, reduce emissions, improve safety, make our transportation more sustainable and resilient, and expand transportation options in rural America and other underserved communities. Thanks to the Bipartisan Infrastructure Law, this funding will help enable more communities to build vital infrastructure projects that also strengthen supply chains and reduce costs for American families. The Infrastructure for Rebuilding America (INFRA) program is an existing competitive program that will see a more than  percent increase in this year&#;s funding due to the Bipartisan Infrastructure Law. These grants advance the Administration&#;s priorities of rebuilding America&#;s infrastructure and creating jobs by funding highway, multimodal freight and rail projects that position America to win the st century. Projects will improve safety, generate economic benefits, reduce congestion, enhance resiliency, and hold the greatest promise to eliminate supply chain bottlenecks and improve critical freight movements. Last year, DOT received over $ billion in application requests, but could only fund around $. billion of projects. To see last year&#;s INFRA grants, click here. The Bipartisan Infrastructure Law provides approximately $ billion for INFRA over  years, of which approximately $. billion will be made available through this NOFO. ', 62: 'Mega Grants: The Department is combining three major discretionary grant programs into one Multimodal Projects Discretionary Grant (MPDG) opportunity to reduce the burden for state and local applicants and increase the pipeline of &#;shovel-worthy&#; projects that are now possible because of the Bipartisan Infrastructure Law. These investments will create good-paying jobs, grow the economy, reduce emissions, improve safety, make our transportation more sustainable and resilient, and expand transportation options in rural America and other underserved communities. Thanks to the Bipartisan Infrastructure Law, this funding will help enable more communities to build vital infrastructure projects that also strengthen supply chains and reduce costs for American families.The National Infrastructure Project Assistance (MEGA) program was created in the Bipartisan Infrastructure Law to fund major projects that are too large or complex for traditional funding programs. The program will provide grants on a competitive basis to support multijurisdictional or regional projects of significance that may also cut across multiple modes of transportation. Eligible projects could include highway, bridge, freight, port, passenger rail, and related public transportation projects of national and regional significance. DOT will award approximately  percent of funding to projects greater than $ million in cost, and approximately  percent to projects greater than $ million but less than $ million in cost.For more information about last year&apos;s Mega awards, visit here: https://www.transportation.gov/grants/mega-grant-program/FYawards', 63: 'Rural Surface Transportation Grant Progam: The Department is combining three major discretionary grant programs into one Multimodal Projects Discretionary Grant (MPDG) opportunity to reduce the burden for state and local applicants and increase the pipeline of &#;shovel-worthy&#; projects that are now possible because of the Bipartisan Infrastructure Law. These investments will create good-paying jobs, grow the economy, reduce emissions, improve safety, make our transportation more sustainable and resilient, and expand transportation options in rural America and other underserved communities. Thanks to the Bipartisan Infrastructure Law, this funding will help enable more communities to build vital infrastructure projects that also strengthen supply chains and reduce costs for American families.The Rural Surface Transportation Grant Program (RURAL) was created in the Bipartisan Infrastructure Law and will support projects to improve and expand the surface transportation infrastructure in rural areas to increase connectivity, improve the safety and reliability of the movement of people and freight, and generate regional economic growth and improve quality of life. Eligible projects for Rural grants include highway, bridge, and tunnel projects that help improve freight, safety, and provide or increase access to an agricultural, commercial, energy, or transportation facilities that support the economy of a rural area. This year alone, DOT will award up to $ million in grants through the rural program&#;part of the $ billion included in the Bipartisan Infrastructure Law over five years. At least % of rural funding must be awarded in amounts of $ million or more. If you are seeking less than $ million, you are competing for only about $. million nationwide.For more information on last year&apos;s rural awards, see: https://www.transportation.gov/grants/rural--fact-sheets', 64: 'FY  Competitive Funding Opportunity: Rail Vehicle Replacement Grant Program (RAIL): The Federal Transit Administration (FTA) announces the opportunity to apply for approximately $ million in Fiscal Year (FY)  Section  State of Good Repair Program funds (Catalog of Federal Domestic Assistance #.) authorized for competitively selected rail vehicle replacement projects. As required by Federal public transportation law and subject to appropriations, funds will be awarded competitively to States and local governmental authorities to assist in the funding of capital projects to replace rail rolling stock.', 65: '*Grants for Buses and Bus Facilities Program: The Federal Transit Administration (FTA) announces the availability of approximately $. million of Fiscal Year  funds for buses, bus facilities, and bus equipment. The purpose of the Grants for Buses and Bus Facilities Program is to assist in the financing of buses and bus facilities capital projects, including replacing, rehabilitating, purchasing or leasing buses or related equipment, and rehabilitating, purchasing, constructing or leasing bus-related facilities. '}\n"
     ]
    }
   ],
   "source": [
    "reversed_label_dict = {v: k for k, v in label_dict.items()}\n",
    "\n",
    "# Print the reversed dictionary\n",
    "print(reversed_label_dict)"
   ]
  }
 ],
 "metadata": {
  "kernelspec": {
   "display_name": "cs224n-cpu",
   "language": "python",
   "name": "python3"
  },
  "language_info": {
   "codemirror_mode": {
    "name": "ipython",
    "version": 3
   },
   "file_extension": ".py",
   "mimetype": "text/x-python",
   "name": "python",
   "nbconvert_exporter": "python",
   "pygments_lexer": "ipython3",
   "version": "3.10.14"
  },
  "orig_nbformat": 4
 },
 "nbformat": 4,
 "nbformat_minor": 2
}
