{
 "cells": [
  {
   "cell_type": "code",
   "execution_count": 1,
   "metadata": {},
   "outputs": [],
   "source": [
    "import os\n",
    "import torch\n",
    "from torch import nn\n",
    "from torch.utils.data import DataLoader, Dataset\n",
    "from sklearn.model_selection import train_test_split\n",
    "from sklearn.metrics import accuracy_score, classification_report\n",
    "import pandas as pd\n",
    "from transformers import BertTokenizer, BertModel, AdamW, get_linear_schedule_with_warmup\n",
    "\n",
    "\n",
    "import torch\n",
    "from tqdm.notebook import tqdm\n",
    "\n",
    "from transformers import BertTokenizer\n",
    "from torch.utils.data import TensorDataset\n",
    "\n",
    "from transformers import BertForSequenceClassification\n"
   ]
  },
  {
   "attachments": {},
   "cell_type": "markdown",
   "metadata": {},
   "source": [
    "# Helper Function"
   ]
  },
  {
   "cell_type": "code",
   "execution_count": 2,
   "metadata": {},
   "outputs": [],
   "source": [
    "import re\n",
    "def remove_numbers(text):\n",
    "    if isinstance(text, str):\n",
    "        return re.sub(r'\\d+', '', text)\n",
    "    return text\n",
    "\n",
    "\n",
    "def remove_year(string):\n",
    "    return re.sub(r'\\s20\\d{2}(\\s|\\-\\d{2})?', ' ', string)"
   ]
  },
  {
   "attachments": {},
   "cell_type": "markdown",
   "metadata": {},
   "source": [
    "# Import Data "
   ]
  },
  {
   "cell_type": "code",
   "execution_count": 3,
   "metadata": {},
   "outputs": [
    {
     "name": "stdout",
     "output_type": "stream",
     "text": [
      "79\n",
      "55\n"
     ]
    },
    {
     "name": "stderr",
     "output_type": "stream",
     "text": [
      "/var/folders/zn/y177ccm95vncshh465c0l2200000gn/T/ipykernel_43610/2104849965.py:13: SettingWithCopyWarning: \n",
      "A value is trying to be set on a copy of a slice from a DataFrame.\n",
      "Try using .loc[row_indexer,col_indexer] = value instead\n",
      "\n",
      "See the caveats in the documentation: https://pandas.pydata.org/pandas-docs/stable/user_guide/indexing.html#returning-a-view-versus-a-copy\n",
      "  clean_dataset['description'] = clean_dataset['description'].apply(remove_numbers)\n",
      "/var/folders/zn/y177ccm95vncshh465c0l2200000gn/T/ipykernel_43610/2104849965.py:14: SettingWithCopyWarning: \n",
      "A value is trying to be set on a copy of a slice from a DataFrame.\n",
      "Try using .loc[row_indexer,col_indexer] = value instead\n",
      "\n",
      "See the caveats in the documentation: https://pandas.pydata.org/pandas-docs/stable/user_guide/indexing.html#returning-a-view-versus-a-copy\n",
      "  clean_dataset['opportunitytitle'] = clean_dataset['opportunitytitle'].apply(remove_numbers)\n"
     ]
    }
   ],
   "source": [
    "\n",
    "dataset = pd.read_csv('/Users/bhumikornkongtaveelert/Documents/Spring 2024/CS 224N/final project/BERT-based classifier/BIL Launchpad Case studies - Sheet1.csv')\n",
    "\n",
    "\"\"\"\n",
    "Cleaning the data:\n",
    "- only include columns we will use: 'Project Name', 'Project Description', 'Applicants', 'opportunitytitle', 'description'\n",
    "- drop column with missing information\n",
    "- currently, the grant opportunities include years, i will omit this from their title to group recurring grants together\n",
    "\"\"\"\n",
    "dataset = dataset[['Project Name', 'Project Description', 'Applicants', 'opportunitytitle', 'description']]\n",
    "clean_dataset = dataset.dropna()\n",
    "print(len(clean_dataset['opportunitytitle'].unique()))\n",
    "# print(dataset['opportunitytitle'].unique())\n",
    "clean_dataset['description'] = clean_dataset['description'].apply(remove_numbers)\n",
    "clean_dataset['opportunitytitle'] = clean_dataset['opportunitytitle'].apply(remove_numbers)\n",
    "\n",
    "print(len(clean_dataset['opportunitytitle'].unique()))\n",
    "# print(dataset['opportunitytitle'].unique())"
   ]
  },
  {
   "attachments": {},
   "cell_type": "markdown",
   "metadata": {},
   "source": [
    "# Experiment 1: Classification of project <> grant name (multi-class text classification) (ignore description of program)"
   ]
  },
  {
   "cell_type": "code",
   "execution_count": 17,
   "metadata": {},
   "outputs": [
    {
     "name": "stderr",
     "output_type": "stream",
     "text": [
      "/var/folders/zn/y177ccm95vncshh465c0l2200000gn/T/ipykernel_42492/2475946921.py:3: SettingWithCopyWarning: \n",
      "A value is trying to be set on a copy of a slice from a DataFrame.\n",
      "Try using .loc[row_indexer,col_indexer] = value instead\n",
      "\n",
      "See the caveats in the documentation: https://pandas.pydata.org/pandas-docs/stable/user_guide/indexing.html#returning-a-view-versus-a-copy\n",
      "  simple_df['project_profile'] =  simple_df['Applicants'] + ': ' + simple_df['Project Description'] + ' ' + simple_df['Project Name']\n",
      "/var/folders/zn/y177ccm95vncshh465c0l2200000gn/T/ipykernel_42492/2475946921.py:12: FutureWarning: Downcasting behavior in `replace` is deprecated and will be removed in a future version. To retain the old behavior, explicitly call `result.infer_objects(copy=False)`. To opt-in to the future behavior, set `pd.set_option('future.no_silent_downcasting', True)`\n",
      "  simple_df['label'] = simple_df['opportunitytitle'].replace(label_dict)\n"
     ]
    },
    {
     "data": {
      "text/html": [
       "<div>\n",
       "<style scoped>\n",
       "    .dataframe tbody tr th:only-of-type {\n",
       "        vertical-align: middle;\n",
       "    }\n",
       "\n",
       "    .dataframe tbody tr th {\n",
       "        vertical-align: top;\n",
       "    }\n",
       "\n",
       "    .dataframe thead th {\n",
       "        text-align: right;\n",
       "    }\n",
       "</style>\n",
       "<table border=\"1\" class=\"dataframe\">\n",
       "  <thead>\n",
       "    <tr style=\"text-align: right;\">\n",
       "      <th></th>\n",
       "      <th>project_profile</th>\n",
       "      <th>opportunitytitle</th>\n",
       "      <th>label</th>\n",
       "    </tr>\n",
       "  </thead>\n",
       "  <tbody>\n",
       "    <tr>\n",
       "      <th>0</th>\n",
       "      <td>Fairbanks International Airport: This award fu...</td>\n",
       "      <td>FY  Notice of Funding Opportunity: Bipartisan ...</td>\n",
       "      <td>0</td>\n",
       "    </tr>\n",
       "    <tr>\n",
       "      <th>1</th>\n",
       "      <td>Ted Stevens Anchorage International Airport: T...</td>\n",
       "      <td>FY  Notice of Funding Opportunity: Bipartisan ...</td>\n",
       "      <td>0</td>\n",
       "    </tr>\n",
       "    <tr>\n",
       "      <th>2</th>\n",
       "      <td>Ted Stevens Anchorage International Airport: T...</td>\n",
       "      <td>FY  Notice of Funding Opportunity: Bipartisan ...</td>\n",
       "      <td>0</td>\n",
       "    </tr>\n",
       "    <tr>\n",
       "      <th>3</th>\n",
       "      <td>Phoenix Sky Harbor International Airport: This...</td>\n",
       "      <td>FY  Notice of Funding Opportunity: Bipartisan ...</td>\n",
       "      <td>0</td>\n",
       "    </tr>\n",
       "    <tr>\n",
       "      <th>4</th>\n",
       "      <td>Yuma International Airport: This award funds u...</td>\n",
       "      <td>FY  Notice of Funding Opportunity: Bipartisan ...</td>\n",
       "      <td>0</td>\n",
       "    </tr>\n",
       "    <tr>\n",
       "      <th>...</th>\n",
       "      <td>...</td>\n",
       "      <td>...</td>\n",
       "      <td>...</td>\n",
       "    </tr>\n",
       "    <tr>\n",
       "      <th>5664</th>\n",
       "      <td>Maryland Department of Transportation (Marylan...</td>\n",
       "      <td>FY  Competitive Funding Opportunity: Rail Vehi...</td>\n",
       "      <td>53</td>\n",
       "    </tr>\n",
       "    <tr>\n",
       "      <th>5665</th>\n",
       "      <td>Southeastern Pennsylvania Transportation Autho...</td>\n",
       "      <td>FY  Competitive Funding Opportunity: Rail Vehi...</td>\n",
       "      <td>53</td>\n",
       "    </tr>\n",
       "    <tr>\n",
       "      <th>5666</th>\n",
       "      <td>Southeastern Pennsylvania Transportation Autho...</td>\n",
       "      <td>FY  Competitive Funding Opportunity: Rail Vehi...</td>\n",
       "      <td>53</td>\n",
       "    </tr>\n",
       "    <tr>\n",
       "      <th>5681</th>\n",
       "      <td>Colorado Department of Transportation: The Col...</td>\n",
       "      <td>*Grants for Buses and Bus Facilities Program</td>\n",
       "      <td>54</td>\n",
       "    </tr>\n",
       "    <tr>\n",
       "      <th>5682</th>\n",
       "      <td>Bi-State Development Agency: The Bi-State Deve...</td>\n",
       "      <td>*Grants for Buses and Bus Facilities Program</td>\n",
       "      <td>54</td>\n",
       "    </tr>\n",
       "  </tbody>\n",
       "</table>\n",
       "<p>4484 rows × 3 columns</p>\n",
       "</div>"
      ],
      "text/plain": [
       "                                        project_profile  \\\n",
       "0     Fairbanks International Airport: This award fu...   \n",
       "1     Ted Stevens Anchorage International Airport: T...   \n",
       "2     Ted Stevens Anchorage International Airport: T...   \n",
       "3     Phoenix Sky Harbor International Airport: This...   \n",
       "4     Yuma International Airport: This award funds u...   \n",
       "...                                                 ...   \n",
       "5664  Maryland Department of Transportation (Marylan...   \n",
       "5665  Southeastern Pennsylvania Transportation Autho...   \n",
       "5666  Southeastern Pennsylvania Transportation Autho...   \n",
       "5681  Colorado Department of Transportation: The Col...   \n",
       "5682  Bi-State Development Agency: The Bi-State Deve...   \n",
       "\n",
       "                                       opportunitytitle  label  \n",
       "0     FY  Notice of Funding Opportunity: Bipartisan ...      0  \n",
       "1     FY  Notice of Funding Opportunity: Bipartisan ...      0  \n",
       "2     FY  Notice of Funding Opportunity: Bipartisan ...      0  \n",
       "3     FY  Notice of Funding Opportunity: Bipartisan ...      0  \n",
       "4     FY  Notice of Funding Opportunity: Bipartisan ...      0  \n",
       "...                                                 ...    ...  \n",
       "5664  FY  Competitive Funding Opportunity: Rail Vehi...     53  \n",
       "5665  FY  Competitive Funding Opportunity: Rail Vehi...     53  \n",
       "5666  FY  Competitive Funding Opportunity: Rail Vehi...     53  \n",
       "5681       *Grants for Buses and Bus Facilities Program     54  \n",
       "5682       *Grants for Buses and Bus Facilities Program     54  \n",
       "\n",
       "[4484 rows x 3 columns]"
      ]
     },
     "execution_count": 17,
     "metadata": {},
     "output_type": "execute_result"
    }
   ],
   "source": [
    "# Create new dataset of project + project name and grant title\n",
    "simple_df = clean_dataset[['Project Name', 'Project Description', 'Applicants', 'opportunitytitle']]\n",
    "simple_df['project_profile'] =  simple_df['Applicants'] + ': ' + simple_df['Project Description'] + ' ' + simple_df['Project Name'] \n",
    "simple_df = simple_df[['project_profile','opportunitytitle'] ]\n",
    "possible_grants = simple_df['opportunitytitle'].unique()\n",
    "\n",
    "#substitute label with number instead\n",
    "label_dict = {}\n",
    "for index, possible_label in enumerate(possible_grants):\n",
    "    label_dict[possible_label] = index\n",
    "\n",
    "simple_df['label'] = simple_df['opportunitytitle'].replace(label_dict)\n",
    "simple_df\n"
   ]
  },
  {
   "cell_type": "code",
   "execution_count": 90,
   "metadata": {},
   "outputs": [
    {
     "data": {
      "text/plain": [
       "'Fairbanks International Airport: This award funds the replacement of the passenger boarding bridge at Gate 3. Fairbanks International Airport'"
      ]
     },
     "execution_count": 90,
     "metadata": {},
     "output_type": "execute_result"
    }
   ],
   "source": [
    "simple_df['project_profile'][0]"
   ]
  },
  {
   "attachments": {},
   "cell_type": "markdown",
   "metadata": {},
   "source": [
    "# Experiment 2: Classification of project <> grant name (multi-class text classification) (with description of program)"
   ]
  },
  {
   "cell_type": "code",
   "execution_count": null,
   "metadata": {},
   "outputs": [],
   "source": [
    "def remove_year(string):\n",
    "    return re.sub(r'\\s20\\d{2}(\\s|\\-\\d{2})?', ' ', string)"
   ]
  },
  {
   "cell_type": "code",
   "execution_count": 4,
   "metadata": {},
   "outputs": [
    {
     "name": "stderr",
     "output_type": "stream",
     "text": [
      "/var/folders/zn/y177ccm95vncshh465c0l2200000gn/T/ipykernel_43610/3265337360.py:2: SettingWithCopyWarning: \n",
      "A value is trying to be set on a copy of a slice from a DataFrame.\n",
      "Try using .loc[row_indexer,col_indexer] = value instead\n",
      "\n",
      "See the caveats in the documentation: https://pandas.pydata.org/pandas-docs/stable/user_guide/indexing.html#returning-a-view-versus-a-copy\n",
      "  simple_df['project_profile'] =  simple_df['Applicants'] + ': ' + simple_df['Project Description'] + ' ' + simple_df['Project Name']\n",
      "/var/folders/zn/y177ccm95vncshh465c0l2200000gn/T/ipykernel_43610/3265337360.py:3: SettingWithCopyWarning: \n",
      "A value is trying to be set on a copy of a slice from a DataFrame.\n",
      "Try using .loc[row_indexer,col_indexer] = value instead\n",
      "\n",
      "See the caveats in the documentation: https://pandas.pydata.org/pandas-docs/stable/user_guide/indexing.html#returning-a-view-versus-a-copy\n",
      "  simple_df['grant_profile'] =  simple_df['opportunitytitle'] + ': ' + simple_df['description']\n",
      "/var/folders/zn/y177ccm95vncshh465c0l2200000gn/T/ipykernel_43610/3265337360.py:12: FutureWarning: Downcasting behavior in `replace` is deprecated and will be removed in a future version. To retain the old behavior, explicitly call `result.infer_objects(copy=False)`. To opt-in to the future behavior, set `pd.set_option('future.no_silent_downcasting', True)`\n",
      "  simple_df['label'] = simple_df['grant_profile'].replace(label_dict)\n",
      "/var/folders/zn/y177ccm95vncshh465c0l2200000gn/T/ipykernel_43610/3265337360.py:12: SettingWithCopyWarning: \n",
      "A value is trying to be set on a copy of a slice from a DataFrame.\n",
      "Try using .loc[row_indexer,col_indexer] = value instead\n",
      "\n",
      "See the caveats in the documentation: https://pandas.pydata.org/pandas-docs/stable/user_guide/indexing.html#returning-a-view-versus-a-copy\n",
      "  simple_df['label'] = simple_df['grant_profile'].replace(label_dict)\n"
     ]
    },
    {
     "data": {
      "text/plain": [
       "'FY  Notice of Funding Opportunity: Bipartisan Infrastructure Law (BIL) Airport Terminal Program (ATP) Grants: The Department of Transportation (DOT), Federal Aviation Administration (FAA) announces the opportunity to apply for approximately $ billion in FY  discretionary funds for the Airport Terminal Program (ATP), made available under the Infrastructure Investment and Jobs Act of  (IIJA), Pub. L. -, herein referred to as the Bipartisan Infrastructure Law (BIL). The purpose of the ATP is to make annual grants available to eligible airports for airport terminal and airport-owned Airport Traffic Control Towers development projects that address the aging infrastructure of our nation&#;s airports. In addition, ATP grants will align with DOT&#;s Strategic Framework FY- at https://www.transportation.gov/administrations/office-policy/fy--strategic-framework. The FY  ATP will be implemented consistent with law and in alignment with the priorities in Executive Order , Implementation of the Infrastructure Investments and Jobs Act ( FR ), which are to invest efficiently and equitably; promote the competitiveness of the U.S. economy; improve job opportunities by focusing on high labor standards; strengthen infrastructure resilience to all hazards including climate change; and to effectively coordinate with State, local, Tribal, and territorial government partners. '"
      ]
     },
     "execution_count": 4,
     "metadata": {},
     "output_type": "execute_result"
    }
   ],
   "source": [
    "dataset = pd.read_csv('/Users/bhumikornkongtaveelert/Documents/Spring 2024/CS 224N/final project/BERT-based classifier/BIL Launchpad Case studies - Sheet1.csv')\n",
    "\n",
    "\"\"\"\n",
    "Cleaning the data:\n",
    "- only include columns we will use: 'Project Name', 'Project Description', 'Applicants', 'opportunitytitle', 'description'\n",
    "- drop column with missing information\n",
    "- currently, the grant opportunities include years, i will omit this from their title to group recurring grants together\n",
    "\"\"\"\n",
    "dataset = dataset[['Project Name', 'Project Description', 'Applicants', 'opportunitytitle', 'description']]\n",
    "clean_dataset = dataset.dropna()\n",
    "print(len(clean_dataset['opportunitytitle'].unique()))\n",
    "# print(dataset['opportunitytitle'].unique())\n",
    "clean_dataset['description'] = clean_dataset['description'].apply(remove_numbers)\n",
    "clean_dataset['opportunitytitle'] = clean_dataset['opportunitytitle'].apply(remove_numbers)\n",
    "\n",
    "print(len(clean_dataset['opportunitytitle'].unique()))\n",
    "# print(dataset['opportunitytitle'].unique())\n",
    "\n",
    "simple_df = clean_dataset\n",
    "simple_df['project_profile'] =  simple_df['Applicants'] + ': ' + simple_df['Project Description'] + ' ' + simple_df['Project Name'] \n",
    "simple_df['grant_profile'] =  simple_df['opportunitytitle'] + ': ' + simple_df['description'] \n",
    "simple_df = simple_df[['project_profile','grant_profile'] ]\n",
    "possible_grants = simple_df['grant_profile'].unique()\n",
    "\n",
    "#substitute label with number instead\n",
    "label_dict = {}\n",
    "for index, possible_label in enumerate(possible_grants):\n",
    "    label_dict[possible_label] = index\n",
    "\n",
    "simple_df['label'] = simple_df['grant_profile'].replace(label_dict)\n",
    "simple_df['grant_profile'].unique()[0]"
   ]
  },
  {
   "attachments": {},
   "cell_type": "markdown",
   "metadata": {},
   "source": [
    "# Train validation split"
   ]
  },
  {
   "cell_type": "code",
   "execution_count": 6,
   "metadata": {},
   "outputs": [
    {
     "name": "stderr",
     "output_type": "stream",
     "text": [
      "/var/folders/zn/y177ccm95vncshh465c0l2200000gn/T/ipykernel_43610/311715853.py:9: SettingWithCopyWarning: \n",
      "A value is trying to be set on a copy of a slice from a DataFrame.\n",
      "Try using .loc[row_indexer,col_indexer] = value instead\n",
      "\n",
      "See the caveats in the documentation: https://pandas.pydata.org/pandas-docs/stable/user_guide/indexing.html#returning-a-view-versus-a-copy\n",
      "  simple_df['data_type'] = ['not_set']*simple_df.shape[0]\n"
     ]
    },
    {
     "data": {
      "text/html": [
       "<div>\n",
       "<style scoped>\n",
       "    .dataframe tbody tr th:only-of-type {\n",
       "        vertical-align: middle;\n",
       "    }\n",
       "\n",
       "    .dataframe tbody tr th {\n",
       "        vertical-align: top;\n",
       "    }\n",
       "\n",
       "    .dataframe thead th {\n",
       "        text-align: right;\n",
       "    }\n",
       "</style>\n",
       "<table border=\"1\" class=\"dataframe\">\n",
       "  <thead>\n",
       "    <tr style=\"text-align: right;\">\n",
       "      <th></th>\n",
       "      <th></th>\n",
       "      <th></th>\n",
       "      <th>project_profile</th>\n",
       "    </tr>\n",
       "    <tr>\n",
       "      <th>grant_profile</th>\n",
       "      <th>label</th>\n",
       "      <th>data_type</th>\n",
       "      <th></th>\n",
       "    </tr>\n",
       "  </thead>\n",
       "  <tbody>\n",
       "    <tr>\n",
       "      <th rowspan=\"2\" valign=\"top\">Competitive Funding Opportunity: Pilot Program for Transit-Oriented Development (TOD) Planning: The Pilot Program for TOD Planning helps support FTA&amp;#;s mission of improving public transportation for America&amp;#;s communities by providing funding to local communities to integrate land use and transportation planning around a new fixed guideway or core capacity improvement project. Per statute, any comprehensive planning funded through the program must examine ways to improve economic development and ridership, foster multimodal connectivity and accessibility, improve transit access for pedestrian and bicycle traffic, engage the private sector, identify infrastructure needs, and enable mixed-use development near transit stations. Additional information is available at: https://www.transit.dot.gov/TODPilot.Notice of Funding Opportunity (NOFO): Notice of Funding Opportunity for PILOT PROGRAM FOR TRANSIT-ORIENTED DEVELOPMENT (TOD) PLANNING. The Federal Transit Administration (FTA) announces the opportunity to apply for $,, of funding under the Pilot Program for TOD Planning (Catalog of Federal Domestic Assistance #.). As required by federal transit law and subject to funding availability, funds will be awarded competitively to support comprehensive planning associated with new fixed guideway and core capacity improvement projects. FTA anticipates minimum grant awards of $, and maximum grant awards of $,,. Synopses and full announcement are posted on Grants.gov as opportunity FTA---TPE-TODP. The Pilot Program for TOD Planning is intended to fund comprehensive planning that supports economic development, ridership, multimodal connectivity and accessibility, increased transit access for pedestrian and bicycle traffic, and mixed-use development near transit stations. The program also encourages identification of infrastructure needs and engagement with the private sector.Consistent with statutory direction, FTA is seeking comprehensive planning projects covering an entire transit capital project corridor, rather than proposals that involve planning for individual station areas or only a small section of the corridor. To ensure any proposed planning work reflects the needs and aspirations of the local community and results in concrete, specific deliverables and outcomes, transit project sponsors must partner with entities with land use planning authority in the transit project corridor to conduct the planning work.Link and Instructions for attaching the supplemental form to the SF-: All applicants must complete a supplemental form (PDF) specific to the Pilot Program for TOD Planning and attach it to their submission in Grants.gov. See section D of the NOFO for information about additional required application contents.Webinar: FTA will conduct a webinar for prospective applicants after the NOFO is published in the Federal Register. Further information will be posted on FTA&amp;#;s website (https://www.transit.dot.gov/TODPilot) when available. Dates: An applicant must submit a proposal electronically by : p.m. Eastern Daylight Time on June , . Any agency intending to apply should initiate the process of registering on the Grants.gov site immediately to ensure completion of registration before the submission deadline.</th>\n",
       "      <th rowspan=\"2\" valign=\"top\">17</th>\n",
       "      <th>train</th>\n",
       "      <td>17</td>\n",
       "    </tr>\n",
       "    <tr>\n",
       "      <th>val</th>\n",
       "      <td>3</td>\n",
       "    </tr>\n",
       "    <tr>\n",
       "      <th rowspan=\"2\" valign=\"top\">Tribal Transportation Program Safety Fund: A Notice of Funding Availability (NOFA) for Tribal Transportation Program Safety Funds (TTPSF) has been published. This notice announces the availability of $. million for projects in three categories: safety plans; data assessment, improvement, and analysis activities; and infrastructure improvement and other eligible activities as listed in  U.S.C.(a)() The deadline for submissions is //. For complete instructions on preparing and submitting an application for TTPSF, please download the application information and NOFO at https://flh.fhwa.dot.gov/programs/ttp/safety/ttpsf.htm Please submit your application directly to FHWA through the &amp;quot;apply now&amp;quot; button at: https://flh.fhwa.dot.gov/programs/ttp/safety/ttpsf.htm</th>\n",
       "      <th rowspan=\"2\" valign=\"top\">8</th>\n",
       "      <th>train</th>\n",
       "      <td>76</td>\n",
       "    </tr>\n",
       "    <tr>\n",
       "      <th>val</th>\n",
       "      <td>14</td>\n",
       "    </tr>\n",
       "    <tr>\n",
       "      <th>Tribal Transportation Program Safety Fund: Eligible projects described in section (a)() are strategies, activities, and projects on a public road that are consistent with a transportation safety plan and that (i) correct or improve a hazardous road location or feature, or (ii) address a highway safety problem. TTPSF emphasizes the development of strategic transportation safety plans using a data-driven process as a means for Tribes to identify transportation safety needs and determine how those needs will be addressed in Tribal communities. FHWA has identified four eligibility categories: transportation safety plans; data assessment, improvement, and analysis activities; systemic roadway departure countermeasures; and infrastructure improvements and other eligible activities as listed in  U.S.C. &amp;#; (a)().</th>\n",
       "      <th>59</th>\n",
       "      <th>train</th>\n",
       "      <td>72</td>\n",
       "    </tr>\n",
       "    <tr>\n",
       "      <th>...</th>\n",
       "      <th>...</th>\n",
       "      <th>...</th>\n",
       "      <td>...</td>\n",
       "    </tr>\n",
       "    <tr>\n",
       "      <th>Strengthening Mobility and Revolutionizing Transportation (SMART) Grants Program: The purpose of this notice is to solicit applications for Strengthening Mobility and Revolutionizing Transportation (SMART) grants. Funds for the fiscal year (FY)  SMART Grants Program are to be awarded on a competitive basis to conduct demonstration projects focused on advanced smart city or community technologies and systems to improve transportation efficiency and safety.</th>\n",
       "      <th>46</th>\n",
       "      <th>val</th>\n",
       "      <td>9</td>\n",
       "    </tr>\n",
       "    <tr>\n",
       "      <th rowspan=\"2\" valign=\"top\">The Infrastructure Investment and Jobs Act (IIJA) Notice of Funding Opportunity for America&amp;#;s Marine Highway Program: This notice announces the availability of funding for grants and establishes selection criteria and application requirements for the America&amp;#;s Marine Highway Program (&amp;#;AMHP&amp;#;). The purpose of this program is to make grants available to previously designated Marine Highway Projects that support the development and expansion of documented vessels or port and landside infrastructure. The Department also seeks eligible grant projects that will strengthen American supply chains. The U.S. Department of Transportation (&amp;#;DOT&amp;#; or &amp;#;Department&amp;#;) will award Marine Highway Grants to implement projects or components of projects previously designated by the Secretary of Transportation (&amp;#;Secretary&amp;#;) under the AMHP. Only Marine Highway Projects the Secretary designates before the Notice of Funding Opportunity (&amp;#;NOFO&amp;#;) closing date are eligible for funding as described in this notice. TIMING OF GRANT APPLICATIONS: Applications must be received by the Maritime Administration (&amp;#;MARAD&amp;#;) by : p.m. E.D.T. on April , . ADDRESSES: Grant applications must be submitted electronically using Grants.gov (https://www.grants.gov). Please be aware that you must complete the Grants.gov registration process before submitting your application and that the registration process usually takes  to  weeks to complete. Applicants are strongly encouraged to make submissions in advance of the deadline. FOR FURTHER INFORMATION CONTACT: Fred Jones, Office of Ports &amp;amp; Waterways Planning, Room W&amp;#;, Maritime Administration, U.S. Department of Transportation,  New Jersey Avenue S.E., Washington, D.C. , phone --, or email Fred.Jones@dot.gov. Persons who use a telecommunications device for the deaf (TDD) may call the Federal Information Relay Service (FIRS) at --- to contact the above individual during business hours. The FIRS is available twenty-four hours a day, seven days a week, to leave a message or question with the above individual. You will receive a reply during regular business hours.</th>\n",
       "      <th rowspan=\"2\" valign=\"top\">37</th>\n",
       "      <th>train</th>\n",
       "      <td>10</td>\n",
       "    </tr>\n",
       "    <tr>\n",
       "      <th>val</th>\n",
       "      <td>2</td>\n",
       "    </tr>\n",
       "    <tr>\n",
       "      <th rowspan=\"2\" valign=\"top\">United States Marine Highway Grants: This funding opportunity solicits applications for fiscal year (FY)  United States Marine Highway Program (USMHP) grants. Funds for FY  USMHP grants will be awarded on a competitive basis to assist in funding eligible projects for the purpose of developing, expanding, or promoting marine highway transportation. This opportunity announces the availability of up to $,, million in funding for grants under this program and establishes selection criteria and application requirements. All USMHP grant recipients must meet all applicable Federal requirements, including domestic content (&amp;#;Buy America&amp;#;) requirements. This program was formerly known as the America&amp;#;s Marine Highway Program</th>\n",
       "      <th rowspan=\"2\" valign=\"top\">60</th>\n",
       "      <th>train</th>\n",
       "      <td>7</td>\n",
       "    </tr>\n",
       "    <tr>\n",
       "      <th>val</th>\n",
       "      <td>1</td>\n",
       "    </tr>\n",
       "  </tbody>\n",
       "</table>\n",
       "<p>131 rows × 1 columns</p>\n",
       "</div>"
      ],
      "text/plain": [
       "                                                                    project_profile\n",
       "grant_profile                                      label data_type                 \n",
       " Competitive Funding Opportunity: Pilot Program... 17    train                   17\n",
       "                                                         val                      3\n",
       " Tribal Transportation Program Safety Fund: A N... 8     train                   76\n",
       "                                                         val                     14\n",
       " Tribal Transportation Program Safety Fund: Eli... 59    train                   72\n",
       "...                                                                             ...\n",
       "Strengthening Mobility and Revolutionizing Tran... 46    val                      9\n",
       "The Infrastructure Investment and Jobs Act (IIJ... 37    train                   10\n",
       "                                                         val                      2\n",
       "United States Marine Highway Grants: This fundi... 60    train                    7\n",
       "                                                         val                      1\n",
       "\n",
       "[131 rows x 1 columns]"
      ]
     },
     "execution_count": 6,
     "metadata": {},
     "output_type": "execute_result"
    }
   ],
   "source": [
    "from sklearn.model_selection import train_test_split\n",
    "\n",
    "X_train, X_val, y_train, y_val = train_test_split(simple_df.index.values, \n",
    "                                                  simple_df.label.values, \n",
    "                                                  test_size=0.15, \n",
    "                                                  random_state=42, \n",
    "                                                  stratify=simple_df.label.values)\n",
    "\n",
    "simple_df['data_type'] = ['not_set']*simple_df.shape[0]\n",
    "\n",
    "simple_df.loc[X_train, 'data_type'] = 'train'\n",
    "simple_df.loc[X_val, 'data_type'] = 'val'\n",
    "\n",
    "simple_df.groupby(['grant_profile', 'label', 'data_type']).count()"
   ]
  },
  {
   "attachments": {},
   "cell_type": "markdown",
   "metadata": {},
   "source": [
    "# Tokenisation"
   ]
  },
  {
   "cell_type": "code",
   "execution_count": 7,
   "metadata": {},
   "outputs": [
    {
     "name": "stderr",
     "output_type": "stream",
     "text": [
      "/Users/bhumikornkongtaveelert/miniconda3/envs/cs224n/lib/python3.10/site-packages/transformers/tokenization_utils_base.py:2645: FutureWarning: The `pad_to_max_length` argument is deprecated and will be removed in a future version, use `padding=True` or `padding='longest'` to pad to the longest sequence in the batch, or use `padding='max_length'` to pad to a max length. In this case, you can give a specific length with `max_length` (e.g. `max_length=45`) or leave max_length to None to pad to the maximal input size of the model (e.g. 512 for Bert).\n",
      "  warnings.warn(\n"
     ]
    }
   ],
   "source": [
    "\"\"\"\n",
    "Constructs a BERT tokenizer. Based on WordPiece.\n",
    "Instantiate a pre-trained BERT model configuration to encode our data.\n",
    "To convert all the titles from text into encoded form, we use a function called batch_encode_plus , and we will proceed train and validation data separately.\n",
    "The 1st parameter inside the above function is the title text.\n",
    "add_special_tokens=True means the sequences will be encoded with the special tokens relative to their model.\n",
    "When batching sequences together, we set return_attention_mask=True, so it will return the attention mask according to the specific tokenizer defined by the max_length attribute.\n",
    "We also want to pad all the titles to certain maximum length.\n",
    "We actually do not need to set max_length=256, but just to play it safe.\n",
    "return_tensors='pt' to return PyTorch.\n",
    "And then we need to split the data into input_ids, attention_masks and labels.\n",
    "Finally, after we get encoded data set, we can create training data and validation data.\n",
    "\"\"\"\n",
    "\n",
    "tokenizer = BertTokenizer.from_pretrained('bert-base-uncased', \n",
    "                                          do_lower_case=True)\n",
    "                                          \n",
    "encoded_data_train = tokenizer.batch_encode_plus(\n",
    "    simple_df[simple_df.data_type=='train'].project_profile.values, \n",
    "    add_special_tokens=True, \n",
    "    return_attention_mask=True, \n",
    "    pad_to_max_length=True, \n",
    "    # max_length=256, \n",
    "    return_tensors='pt'\n",
    ")\n",
    "\n",
    "encoded_data_val = tokenizer.batch_encode_plus(\n",
    "    simple_df[simple_df.data_type=='val'].project_profile.values, \n",
    "    add_special_tokens=True, \n",
    "    return_attention_mask=True, \n",
    "    pad_to_max_length=True, \n",
    "    # max_length=256, \n",
    "    return_tensors='pt'\n",
    ")\n",
    "\n",
    "input_ids_train = encoded_data_train['input_ids']\n",
    "attention_masks_train = encoded_data_train['attention_mask']\n",
    "labels_train = torch.tensor(simple_df[simple_df.data_type=='train'].label.values)\n",
    "\n",
    "input_ids_val = encoded_data_val['input_ids']\n",
    "attention_masks_val = encoded_data_val['attention_mask']\n",
    "labels_val = torch.tensor(simple_df[simple_df.data_type=='val'].label.values)\n",
    "\n",
    "dataset_train = TensorDataset(input_ids_train, attention_masks_train, labels_train)\n",
    "dataset_val = TensorDataset(input_ids_val, attention_masks_val, labels_val)\n"
   ]
  },
  {
   "attachments": {},
   "cell_type": "markdown",
   "metadata": {},
   "source": [
    "# BERT"
   ]
  },
  {
   "cell_type": "code",
   "execution_count": 8,
   "metadata": {},
   "outputs": [
    {
     "name": "stderr",
     "output_type": "stream",
     "text": [
      "Some weights of BertForSequenceClassification were not initialized from the model checkpoint at bert-base-uncased and are newly initialized: ['classifier.bias', 'classifier.weight']\n",
      "You should probably TRAIN this model on a down-stream task to be able to use it for predictions and inference.\n"
     ]
    }
   ],
   "source": [
    "model = BertForSequenceClassification.from_pretrained(\"bert-base-uncased\",\n",
    "                                                      num_labels=len(label_dict),\n",
    "                                                      output_attentions=False,\n",
    "                                                      output_hidden_states=False)\n"
   ]
  },
  {
   "cell_type": "code",
   "execution_count": 9,
   "metadata": {},
   "outputs": [],
   "source": [
    "from torch.utils.data import DataLoader, RandomSampler, SequentialSampler\n",
    "\n",
    "batch_size = 3\n",
    "\n",
    "dataloader_train = DataLoader(dataset_train, \n",
    "                              sampler=RandomSampler(dataset_train), \n",
    "                              batch_size=batch_size)\n",
    "\n",
    "dataloader_validation = DataLoader(dataset_val, \n",
    "                                   sampler=SequentialSampler(dataset_val), \n",
    "                                   batch_size=batch_size)"
   ]
  },
  {
   "cell_type": "code",
   "execution_count": 10,
   "metadata": {},
   "outputs": [
    {
     "name": "stderr",
     "output_type": "stream",
     "text": [
      "/Users/bhumikornkongtaveelert/miniconda3/envs/cs224n/lib/python3.10/site-packages/transformers/optimization.py:429: FutureWarning: This implementation of AdamW is deprecated and will be removed in a future version. Use the PyTorch implementation torch.optim.AdamW instead, or set `no_deprecation_warning=True` to disable this warning\n",
      "  warnings.warn(\n"
     ]
    }
   ],
   "source": [
    "from transformers import AdamW, get_linear_schedule_with_warmup\n",
    "\n",
    "optimizer = AdamW(model.parameters(),\n",
    "                  lr=1e-5, \n",
    "                  eps=1e-8)\n",
    "                  \n",
    "epochs = 5\n",
    "\n",
    "scheduler = get_linear_schedule_with_warmup(optimizer, \n",
    "                                            num_warmup_steps=0,\n",
    "                                            num_training_steps=len(dataloader_train)*epochs)"
   ]
  },
  {
   "cell_type": "code",
   "execution_count": 11,
   "metadata": {},
   "outputs": [],
   "source": [
    "from sklearn.metrics import f1_score\n",
    "import numpy as np\n",
    "\n",
    "def f1_score_func(preds, labels):\n",
    "    preds_flat = np.argmax(preds, axis=1).flatten()\n",
    "    labels_flat = labels.flatten()\n",
    "    return f1_score(labels_flat, preds_flat, average='weighted')\n",
    "\n",
    "def accuracy_per_class(preds, labels, label_dict):\n",
    "    label_dict_inverse = {v: k for k, v in label_dict.items()}\n",
    "    \n",
    "    preds_flat = np.argmax(preds, axis=1).flatten()\n",
    "    labels_flat = labels.flatten()\n",
    "\n",
    "    class_accuracies = {}\n",
    "    for label in np.unique(labels_flat):\n",
    "        y_preds = preds_flat[labels_flat == label]\n",
    "        y_true = labels_flat[labels_flat == label]\n",
    "        accuracy = len(y_preds[y_preds == label]) / len(y_true)\n",
    "        class_accuracies[label_dict_inverse[label]] = accuracy\n",
    "        print(f'Class: {label_dict_inverse[label]}')\n",
    "        print(f'Accuracy: {len(y_preds[y_preds == label])}/{len(y_true)} ({accuracy:.4f})\\n')\n",
    "\n",
    "    return class_accuracies\n",
    "\n",
    "def recall_at_k(y_true, y_pred, k=5):\n",
    "    num_samples = len(y_true)\n",
    "    recall_count = 0\n",
    "    \n",
    "    for true_label, predictions in zip(y_true, y_pred):\n",
    "        top_k_predictions = np.argsort(predictions)[-k:]  # Get indices of the top k predictions\n",
    "        if true_label in top_k_predictions:\n",
    "            recall_count += 1\n",
    "    \n",
    "    recall_at_k_score = recall_count / num_samples\n",
    "    return recall_at_k_score\n",
    "\n",
    "def evaluate(dataloader_val):\n",
    "    model.eval()\n",
    "    \n",
    "    loss_val_total = 0\n",
    "    predictions, true_vals = [], []\n",
    "    \n",
    "    for batch in dataloader_val:\n",
    "        \n",
    "        batch = tuple(b.to(device) for b in batch)\n",
    "        \n",
    "        inputs = {'input_ids':      batch[0],\n",
    "                  'attention_mask': batch[1],\n",
    "                  'labels':         batch[2],\n",
    "                 }\n",
    "\n",
    "        with torch.no_grad():        \n",
    "            outputs = model(**inputs)\n",
    "            \n",
    "        loss = outputs[0]\n",
    "        logits = outputs[1]\n",
    "        loss_val_total += loss.item()\n",
    "\n",
    "        logits = logits.detach().cpu().numpy()\n",
    "        label_ids = inputs['labels'].cpu().numpy()\n",
    "        predictions.append(logits)\n",
    "        true_vals.append(label_ids)\n",
    "    \n",
    "    loss_val_avg = loss_val_total / len(dataloader_val)\n",
    "    \n",
    "    predictions = np.concatenate(predictions, axis=0)\n",
    "    true_vals = np.concatenate(true_vals, axis=0)\n",
    "    \n",
    "    recall_at_5 = recall_at_k(true_vals, predictions, k=5)\n",
    "    \n",
    "    return loss_val_avg, predictions, true_vals, recall_at_5\n"
   ]
  },
  {
   "cell_type": "code",
   "execution_count": 13,
   "metadata": {},
   "outputs": [
    {
     "data": {
      "application/vnd.jupyter.widget-view+json": {
       "model_id": "287758894ce84003b73cc8706e5c8921",
       "version_major": 2,
       "version_minor": 0
      },
      "text/plain": [
       "  0%|          | 0/5 [00:00<?, ?it/s]"
      ]
     },
     "metadata": {},
     "output_type": "display_data"
    },
    {
     "data": {
      "application/vnd.jupyter.widget-view+json": {
       "model_id": "cc4d9c25fd7044a0a0e17948ca30663b",
       "version_major": 2,
       "version_minor": 0
      },
      "text/plain": [
       "Epoch 1:   0%|          | 0/1271 [00:00<?, ?it/s]"
      ]
     },
     "metadata": {},
     "output_type": "display_data"
    },
    {
     "name": "stdout",
     "output_type": "stream",
     "text": [
      "\n",
      "Epoch 1\n",
      "Training loss: 2.3909019886286687\n",
      "Validation loss: 1.5648361675441265\n",
      "F1 Score (Weighted): 0.5774398178794486\n",
      "Recall@5: 0.8826151560178306\n"
     ]
    },
    {
     "data": {
      "application/vnd.jupyter.widget-view+json": {
       "model_id": "a03ed7b2740f4626a0cd37c336ad0c2d",
       "version_major": 2,
       "version_minor": 0
      },
      "text/plain": [
       "Epoch 2:   0%|          | 0/1271 [00:00<?, ?it/s]"
      ]
     },
     "metadata": {},
     "output_type": "display_data"
    }
   ],
   "source": [
    "import random\n",
    "\n",
    "seed_val = 17\n",
    "random.seed(seed_val)\n",
    "np.random.seed(seed_val)\n",
    "torch.manual_seed(seed_val)\n",
    "torch.cuda.manual_seed_all(seed_val)\n",
    "device = 'cpu'\n",
    "# !pip install ipywidgets\n",
    "# ! pip install jupyter\n",
    "# ! pip install ipywidgets widgetsnbextension pandas-profiling\n",
    "# ! pip install jupyter_contrib_nbextensions\n",
    "# ! jupyter contrib nbextension install --user\n",
    "# !jupyter nbextension enable --py widgetsnbextension\n",
    "for epoch in tqdm(range(1, epochs+1)):\n",
    "    \n",
    "    model.train()\n",
    "    \n",
    "    loss_train_total = 0\n",
    "\n",
    "    progress_bar = tqdm(dataloader_train, desc='Epoch {:1d}'.format(epoch), leave=False, disable=False)\n",
    "    for batch in progress_bar:\n",
    "\n",
    "        model.zero_grad()\n",
    "        \n",
    "        batch = tuple(b.to(device) for b in batch)\n",
    "        \n",
    "        inputs = {'input_ids':      batch[0],\n",
    "                  'attention_mask': batch[1],\n",
    "                  'labels':         batch[2],\n",
    "                 }       \n",
    "\n",
    "        outputs = model(**inputs)\n",
    "        \n",
    "        loss = outputs[0]\n",
    "        loss_train_total += loss.item()\n",
    "        loss.backward()\n",
    "\n",
    "        torch.nn.utils.clip_grad_norm_(model.parameters(), 1.0)\n",
    "\n",
    "        optimizer.step()\n",
    "        scheduler.step()\n",
    "        \n",
    "        progress_bar.set_postfix({'training_loss': '{:.3f}'.format(loss.item()/len(batch))})\n",
    "\n",
    "    torch.save(model.state_dict(), f'data_volume/finetuned_BERT_epoch_{epoch}.model')\n",
    "        \n",
    "    tqdm.write(f'\\nEpoch {epoch}')\n",
    "    \n",
    "    loss_train_avg = loss_train_total/len(dataloader_train)            \n",
    "    tqdm.write(f'Training loss: {loss_train_avg}')\n",
    "     \n",
    "    loss_val_avg, predictions, true_vals, recall_at_5 = evaluate(dataloader_validation)\n",
    "    val_f1 = f1_score_func(predictions, true_vals)\n",
    "    tqdm.write(f'Validation loss: {loss_val_avg}')\n",
    "    tqdm.write(f'F1 Score (Weighted): {val_f1}')\n",
    "    tqdm.write(f'Recall@5: {recall_at_5}')"
   ]
  },
  {
   "cell_type": "code",
   "execution_count": 93,
   "metadata": {},
   "outputs": [
    {
     "name": "stdout",
     "output_type": "stream",
     "text": [
      "/Users/bhumikornkongtaveelert/miniconda3/envs/cs224n-cpu/bin/python\n",
      "ipywidgets not found\n"
     ]
    }
   ],
   "source": [
    "! which python\n",
    "! which ipywidgets\n"
   ]
  },
  {
   "attachments": {},
   "cell_type": "markdown",
   "metadata": {},
   "source": []
  },
  {
   "cell_type": "code",
   "execution_count": 15,
   "metadata": {},
   "outputs": [
    {
     "name": "stderr",
     "output_type": "stream",
     "text": [
      "/var/folders/zn/y177ccm95vncshh465c0l2200000gn/T/ipykernel_42492/3078709768.py:3: SettingWithCopyWarning: \n",
      "A value is trying to be set on a copy of a slice from a DataFrame.\n",
      "Try using .loc[row_indexer,col_indexer] = value instead\n",
      "\n",
      "See the caveats in the documentation: https://pandas.pydata.org/pandas-docs/stable/user_guide/indexing.html#returning-a-view-versus-a-copy\n",
      "  simple_df['project_profile'] =  simple_df['Applicants'] + ': ' + simple_df['Project Description'] + ' ' + simple_df['Project Name']\n",
      "/var/folders/zn/y177ccm95vncshh465c0l2200000gn/T/ipykernel_42492/3078709768.py:4: SettingWithCopyWarning: \n",
      "A value is trying to be set on a copy of a slice from a DataFrame.\n",
      "Try using .loc[row_indexer,col_indexer] = value instead\n",
      "\n",
      "See the caveats in the documentation: https://pandas.pydata.org/pandas-docs/stable/user_guide/indexing.html#returning-a-view-versus-a-copy\n",
      "  simple_df['grant_profile'] =  simple_df['opportunitytitle'] + ': ' + simple_df['description']\n",
      "/var/folders/zn/y177ccm95vncshh465c0l2200000gn/T/ipykernel_42492/3078709768.py:13: FutureWarning: Downcasting behavior in `replace` is deprecated and will be removed in a future version. To retain the old behavior, explicitly call `result.infer_objects(copy=False)`. To opt-in to the future behavior, set `pd.set_option('future.no_silent_downcasting', True)`\n",
      "  simple_df['label'] = simple_df['grant_profile'].replace(label_dict)\n",
      "/var/folders/zn/y177ccm95vncshh465c0l2200000gn/T/ipykernel_42492/3078709768.py:13: SettingWithCopyWarning: \n",
      "A value is trying to be set on a copy of a slice from a DataFrame.\n",
      "Try using .loc[row_indexer,col_indexer] = value instead\n",
      "\n",
      "See the caveats in the documentation: https://pandas.pydata.org/pandas-docs/stable/user_guide/indexing.html#returning-a-view-versus-a-copy\n",
      "  simple_df['label'] = simple_df['grant_profile'].replace(label_dict)\n"
     ]
    },
    {
     "data": {
      "text/plain": [
       "'FY  Notice of Funding Opportunity: Bipartisan Infrastructure Law (BIL) Airport Terminal Program (ATP) Grants: The Department of Transportation (DOT), Federal Aviation Administration (FAA) announces the opportunity to apply for approximately $ billion in FY  discretionary funds for the Airport Terminal Program (ATP), made available under the Infrastructure Investment and Jobs Act of  (IIJA), Pub. L. -, herein referred to as the Bipartisan Infrastructure Law (BIL). The purpose of the ATP is to make annual grants available to eligible airports for airport terminal and airport-owned Airport Traffic Control Towers development projects that address the aging infrastructure of our nation&#;s airports. In addition, ATP grants will align with DOT&#;s Strategic Framework FY- at https://www.transportation.gov/administrations/office-policy/fy--strategic-framework. The FY  ATP will be implemented consistent with law and in alignment with the priorities in Executive Order , Implementation of the Infrastructure Investments and Jobs Act ( FR ), which are to invest efficiently and equitably; promote the competitiveness of the U.S. economy; improve job opportunities by focusing on high labor standards; strengthen infrastructure resilience to all hazards including climate change; and to effectively coordinate with State, local, Tribal, and territorial government partners. '"
      ]
     },
     "execution_count": 15,
     "metadata": {},
     "output_type": "execute_result"
    }
   ],
   "source": [
    "# Create new dataset of project + project name and grant title\n",
    "simple_df = clean_dataset\n",
    "simple_df['project_profile'] =  simple_df['Applicants'] + ': ' + simple_df['Project Description'] + ' ' + simple_df['Project Name'] \n",
    "simple_df['grant_profile'] =  simple_df['opportunitytitle'] + ': ' + simple_df['description'] \n",
    "simple_df = simple_df[['project_profile','grant_profile'] ]\n",
    "possible_grants = simple_df['grant_profile'].unique()\n",
    "\n",
    "#substitute label with number instead\n",
    "label_dict = {}\n",
    "for index, possible_label in enumerate(possible_grants):\n",
    "    label_dict[possible_label] = index\n",
    "\n",
    "simple_df['label'] = simple_df['grant_profile'].replace(label_dict)\n",
    "simple_df['grant_profile'].unique()[0]\n"
   ]
  }
 ],
 "metadata": {
  "kernelspec": {
   "display_name": "cs224n-cpu",
   "language": "python",
   "name": "python3"
  },
  "language_info": {
   "codemirror_mode": {
    "name": "ipython",
    "version": 3
   },
   "file_extension": ".py",
   "mimetype": "text/x-python",
   "name": "python",
   "nbconvert_exporter": "python",
   "pygments_lexer": "ipython3",
   "version": "3.10.14"
  },
  "orig_nbformat": 4
 },
 "nbformat": 4,
 "nbformat_minor": 2
}
