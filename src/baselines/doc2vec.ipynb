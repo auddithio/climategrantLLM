{
 "cells": [
  {
   "cell_type": "code",
   "execution_count": 90,
   "metadata": {},
   "outputs": [],
   "source": [
    "import pandas as pd\n",
    "import numpy as np\n",
    "\n",
    "from tqdm import tqdm\n",
    "tqdm.pandas(desc=\"progress-bar\")\n",
    "\n",
    "from sklearn import utils\n",
    "from sklearn.model_selection import train_test_split\n",
    "from sklearn.linear_model import LogisticRegression\n",
    "\n",
    "import re\n",
    "\n",
    "from gensim.models import Doc2Vec\n",
    "from gensim.utils import simple_preprocess\n",
    "from gensim.models.doc2vec import TaggedDocument"
   ]
  },
  {
   "cell_type": "code",
   "execution_count": 99,
   "metadata": {},
   "outputs": [],
   "source": [
    "def remove_year(string):\n",
    "    if isinstance(string, str):\n",
    "        return re.sub(r'\\s20\\d{2}(\\s|\\-\\d{2})?', ' ', string)\n",
    "    return string\n",
    "\n",
    "def remove_numbers(text):\n",
    "    if isinstance(text, str):\n",
    "        return re.sub(r'\\d+', '', text)\n",
    "    return text"
   ]
  },
  {
   "cell_type": "code",
   "execution_count": 104,
   "metadata": {},
   "outputs": [
    {
     "name": "stdout",
     "output_type": "stream",
     "text": [
      "79\n",
      "55\n"
     ]
    },
    {
     "name": "stderr",
     "output_type": "stream",
     "text": [
      "/var/folders/_c/4k453cvx1s1c6hs_spyjd06h0000gn/T/ipykernel_90090/1044101550.py:12: SettingWithCopyWarning: \n",
      "A value is trying to be set on a copy of a slice from a DataFrame.\n",
      "Try using .loc[row_indexer,col_indexer] = value instead\n",
      "\n",
      "See the caveats in the documentation: https://pandas.pydata.org/pandas-docs/stable/user_guide/indexing.html#returning-a-view-versus-a-copy\n",
      "  clean_dataset['description'] = clean_dataset['description'].apply(remove_year)\n",
      "/var/folders/_c/4k453cvx1s1c6hs_spyjd06h0000gn/T/ipykernel_90090/1044101550.py:13: SettingWithCopyWarning: \n",
      "A value is trying to be set on a copy of a slice from a DataFrame.\n",
      "Try using .loc[row_indexer,col_indexer] = value instead\n",
      "\n",
      "See the caveats in the documentation: https://pandas.pydata.org/pandas-docs/stable/user_guide/indexing.html#returning-a-view-versus-a-copy\n",
      "  clean_dataset['opportunitytitle'] = clean_dataset['opportunitytitle'].apply(remove_numbers)\n"
     ]
    }
   ],
   "source": [
    "dataset = pd.read_csv(\"case_studies.csv\")\n",
    "\"\"\"\n",
    "Cleaning the data:\n",
    "- only include columns we will use: 'Project Name', 'Project Description', 'Applicants', 'opportunitytitle', 'description'\n",
    "- drop column with missing information\n",
    "- currently, the grant opportunities include years, i will omit this from their title to group recurring grants together\n",
    "\"\"\"\n",
    "dataset = dataset[['Project Name', 'Project Description', 'Applicants', 'opportunitytitle', 'description']]\n",
    "clean_dataset = dataset.dropna()\n",
    "print(len(clean_dataset['opportunitytitle'].unique()))\n",
    "# print(dataset['opportunitytitle'].unique())\n",
    "clean_dataset['description'] = clean_dataset['description'].apply(remove_year)\n",
    "clean_dataset['opportunitytitle'] = clean_dataset['opportunitytitle'].apply(remove_numbers)\n",
    "\n",
    "print(len(clean_dataset['opportunitytitle'].unique()))\n",
    "# print(dataset['opportunitytitle'].unique())"
   ]
  },
  {
   "cell_type": "code",
   "execution_count": 115,
   "metadata": {},
   "outputs": [
    {
     "name": "stdout",
     "output_type": "stream",
     "text": [
      "55\n",
      "55\n"
     ]
    },
    {
     "data": {
      "text/html": [
       "<div>\n",
       "<style scoped>\n",
       "    .dataframe tbody tr th:only-of-type {\n",
       "        vertical-align: middle;\n",
       "    }\n",
       "\n",
       "    .dataframe tbody tr th {\n",
       "        vertical-align: top;\n",
       "    }\n",
       "\n",
       "    .dataframe thead th {\n",
       "        text-align: right;\n",
       "    }\n",
       "</style>\n",
       "<table border=\"1\" class=\"dataframe\">\n",
       "  <thead>\n",
       "    <tr style=\"text-align: right;\">\n",
       "      <th></th>\n",
       "      <th>details</th>\n",
       "    </tr>\n",
       "  </thead>\n",
       "  <tbody>\n",
       "    <tr>\n",
       "      <th>4534</th>\n",
       "      <td>SMART Grants Notice of Funding</td>\n",
       "    </tr>\n",
       "    <tr>\n",
       "      <th>4535</th>\n",
       "      <td>United States Marine Highway Grants</td>\n",
       "    </tr>\n",
       "    <tr>\n",
       "      <th>4536</th>\n",
       "      <td>Rural Surface Transportation Grant Progam</td>\n",
       "    </tr>\n",
       "    <tr>\n",
       "      <th>4537</th>\n",
       "      <td>FY  Competitive Funding Opportunity: Rail Vehi...</td>\n",
       "    </tr>\n",
       "    <tr>\n",
       "      <th>4538</th>\n",
       "      <td>*Grants for Buses and Bus Facilities Program</td>\n",
       "    </tr>\n",
       "  </tbody>\n",
       "</table>\n",
       "</div>"
      ],
      "text/plain": [
       "                                                details\n",
       "4534                     SMART Grants Notice of Funding\n",
       "4535                United States Marine Highway Grants\n",
       "4536          Rural Surface Transportation Grant Progam\n",
       "4537  FY  Competitive Funding Opportunity: Rail Vehi...\n",
       "4538       *Grants for Buses and Bus Facilities Program"
      ]
     },
     "execution_count": 115,
     "metadata": {},
     "output_type": "execute_result"
    }
   ],
   "source": [
    "# import dataset\n",
    "df = clean_dataset.copy()\n",
    "\n",
    "df['opportunitytitle'] = df['opportunitytitle'].apply(remove_year)\n",
    "df['description'] = df['description'].apply(remove_year)\n",
    "\n",
    "# separate and isolate applicant and grant details\n",
    "df['applicant_details'] = df['Applicants'] + ' ' + df['Project Description']\n",
    "df['grant_details'] = df['opportunitytitle']\n",
    "\n",
    "# merge them into one for vector embedding\n",
    "applications = df['applicant_details'].to_list()\n",
    "grants = df['grant_details'].unique()\n",
    "\n",
    "grant_names = df['opportunitytitle'].unique()\n",
    "print(len(grant_names))\n",
    "print(len(grants))\n",
    "\n",
    "all = applications.copy()\n",
    "all.extend(grants)\n",
    "\n",
    "old_df = df.copy()\n",
    "df = pd.DataFrame({'details': all})\n",
    "df.tail(5)"
   ]
  },
  {
   "cell_type": "code",
   "execution_count": 116,
   "metadata": {},
   "outputs": [
    {
     "data": {
      "text/html": [
       "<div>\n",
       "<style scoped>\n",
       "    .dataframe tbody tr th:only-of-type {\n",
       "        vertical-align: middle;\n",
       "    }\n",
       "\n",
       "    .dataframe tbody tr th {\n",
       "        vertical-align: top;\n",
       "    }\n",
       "\n",
       "    .dataframe thead th {\n",
       "        text-align: right;\n",
       "    }\n",
       "</style>\n",
       "<table border=\"1\" class=\"dataframe\">\n",
       "  <thead>\n",
       "    <tr style=\"text-align: right;\">\n",
       "      <th></th>\n",
       "      <th>details</th>\n",
       "      <th>cleaned_details</th>\n",
       "    </tr>\n",
       "  </thead>\n",
       "  <tbody>\n",
       "    <tr>\n",
       "      <th>0</th>\n",
       "      <td>Fairbanks International Airport This award fun...</td>\n",
       "      <td>[fairbanks, international, airport, this, awar...</td>\n",
       "    </tr>\n",
       "    <tr>\n",
       "      <th>1</th>\n",
       "      <td>Ted Stevens Anchorage International Airport Th...</td>\n",
       "      <td>[ted, stevens, anchorage, international, airpo...</td>\n",
       "    </tr>\n",
       "    <tr>\n",
       "      <th>2</th>\n",
       "      <td>Ted Stevens Anchorage International Airport Th...</td>\n",
       "      <td>[ted, stevens, anchorage, international, airpo...</td>\n",
       "    </tr>\n",
       "    <tr>\n",
       "      <th>3</th>\n",
       "      <td>Phoenix Sky Harbor International Airport This ...</td>\n",
       "      <td>[phoenix, sky, harbor, international, airport,...</td>\n",
       "    </tr>\n",
       "    <tr>\n",
       "      <th>4</th>\n",
       "      <td>Yuma International Airport This award funds up...</td>\n",
       "      <td>[yuma, international, airport, this, award, fu...</td>\n",
       "    </tr>\n",
       "  </tbody>\n",
       "</table>\n",
       "</div>"
      ],
      "text/plain": [
       "                                             details  \\\n",
       "0  Fairbanks International Airport This award fun...   \n",
       "1  Ted Stevens Anchorage International Airport Th...   \n",
       "2  Ted Stevens Anchorage International Airport Th...   \n",
       "3  Phoenix Sky Harbor International Airport This ...   \n",
       "4  Yuma International Airport This award funds up...   \n",
       "\n",
       "                                     cleaned_details  \n",
       "0  [fairbanks, international, airport, this, awar...  \n",
       "1  [ted, stevens, anchorage, international, airpo...  \n",
       "2  [ted, stevens, anchorage, international, airpo...  \n",
       "3  [phoenix, sky, harbor, international, airport,...  \n",
       "4  [yuma, international, airport, this, award, fu...  "
      ]
     },
     "execution_count": 116,
     "metadata": {},
     "output_type": "execute_result"
    }
   ],
   "source": [
    "# prepare dataset for model\n",
    "df['details'] = df['details'].astype(str).fillna('') # remove NaNs and non-strings\n",
    "df['cleaned_details'] = df['details'].apply(lambda x: simple_preprocess(x)) # remove auxiliary stuff\n",
    "df.head(5)"
   ]
  },
  {
   "cell_type": "code",
   "execution_count": 117,
   "metadata": {},
   "outputs": [],
   "source": [
    "# prepare TaggedDocument objects\n",
    "documents = [TaggedDocument(words=row['cleaned_details'], tags=[index]) for index, row in df.iterrows()]\n",
    "\n",
    "# train doc2vec model\n",
    "model = Doc2Vec(vector_size=100, window=5, min_count=2, workers=4, epochs=40)\n",
    "model.build_vocab(documents)\n",
    "model.train(documents, total_examples=model.corpus_count, epochs=model.epochs)\n",
    "\n",
    "# infer vectors for each item\n",
    "df['vector'] = df['cleaned_details'].apply(lambda x: model.infer_vector(x))\n"
   ]
  },
  {
   "cell_type": "code",
   "execution_count": 110,
   "metadata": {},
   "outputs": [
    {
     "data": {
      "text/html": [
       "<div>\n",
       "<style scoped>\n",
       "    .dataframe tbody tr th:only-of-type {\n",
       "        vertical-align: middle;\n",
       "    }\n",
       "\n",
       "    .dataframe tbody tr th {\n",
       "        vertical-align: top;\n",
       "    }\n",
       "\n",
       "    .dataframe thead th {\n",
       "        text-align: right;\n",
       "    }\n",
       "</style>\n",
       "<table border=\"1\" class=\"dataframe\">\n",
       "  <thead>\n",
       "    <tr style=\"text-align: right;\">\n",
       "      <th></th>\n",
       "      <th>details</th>\n",
       "      <th>cleaned_details</th>\n",
       "      <th>vector</th>\n",
       "    </tr>\n",
       "  </thead>\n",
       "  <tbody>\n",
       "    <tr>\n",
       "      <th>0</th>\n",
       "      <td>Fairbanks International Airport This award fun...</td>\n",
       "      <td>[fairbanks, international, airport, this, awar...</td>\n",
       "      <td>[-0.100922406, 0.28740832, -0.13542156, 0.0151...</td>\n",
       "    </tr>\n",
       "    <tr>\n",
       "      <th>1</th>\n",
       "      <td>Ted Stevens Anchorage International Airport Th...</td>\n",
       "      <td>[ted, stevens, anchorage, international, airpo...</td>\n",
       "      <td>[0.42132458, -0.17316939, -0.3352974, 0.096254...</td>\n",
       "    </tr>\n",
       "    <tr>\n",
       "      <th>2</th>\n",
       "      <td>Ted Stevens Anchorage International Airport Th...</td>\n",
       "      <td>[ted, stevens, anchorage, international, airpo...</td>\n",
       "      <td>[0.0013673275, 0.3800731, -0.10873813, 0.12498...</td>\n",
       "    </tr>\n",
       "    <tr>\n",
       "      <th>3</th>\n",
       "      <td>Phoenix Sky Harbor International Airport This ...</td>\n",
       "      <td>[phoenix, sky, harbor, international, airport,...</td>\n",
       "      <td>[-0.14518051, 0.45197237, -0.3929733, -0.30838...</td>\n",
       "    </tr>\n",
       "    <tr>\n",
       "      <th>4</th>\n",
       "      <td>Yuma International Airport This award funds up...</td>\n",
       "      <td>[yuma, international, airport, this, award, fu...</td>\n",
       "      <td>[0.97314936, 0.73296005, -0.21525623, -0.24233...</td>\n",
       "    </tr>\n",
       "  </tbody>\n",
       "</table>\n",
       "</div>"
      ],
      "text/plain": [
       "                                             details  \\\n",
       "0  Fairbanks International Airport This award fun...   \n",
       "1  Ted Stevens Anchorage International Airport Th...   \n",
       "2  Ted Stevens Anchorage International Airport Th...   \n",
       "3  Phoenix Sky Harbor International Airport This ...   \n",
       "4  Yuma International Airport This award funds up...   \n",
       "\n",
       "                                     cleaned_details  \\\n",
       "0  [fairbanks, international, airport, this, awar...   \n",
       "1  [ted, stevens, anchorage, international, airpo...   \n",
       "2  [ted, stevens, anchorage, international, airpo...   \n",
       "3  [phoenix, sky, harbor, international, airport,...   \n",
       "4  [yuma, international, airport, this, award, fu...   \n",
       "\n",
       "                                              vector  \n",
       "0  [-0.100922406, 0.28740832, -0.13542156, 0.0151...  \n",
       "1  [0.42132458, -0.17316939, -0.3352974, 0.096254...  \n",
       "2  [0.0013673275, 0.3800731, -0.10873813, 0.12498...  \n",
       "3  [-0.14518051, 0.45197237, -0.3929733, -0.30838...  \n",
       "4  [0.97314936, 0.73296005, -0.21525623, -0.24233...  "
      ]
     },
     "execution_count": 110,
     "metadata": {},
     "output_type": "execute_result"
    }
   ],
   "source": [
    "df.head(5)"
   ]
  },
  {
   "cell_type": "code",
   "execution_count": 111,
   "metadata": {},
   "outputs": [
    {
     "name": "stdout",
     "output_type": "stream",
     "text": [
      "4484\n",
      "66\n"
     ]
    }
   ],
   "source": [
    "print(len(applications))\n",
    "print(len(grants))"
   ]
  },
  {
   "cell_type": "code",
   "execution_count": 124,
   "metadata": {},
   "outputs": [
    {
     "name": "stdout",
     "output_type": "stream",
     "text": [
      "0.10370205173951828\n"
     ]
    }
   ],
   "source": [
    "from sklearn.metrics.pairwise import cosine_similarity\n",
    "\n",
    "grant_df = df.copy()\n",
    "grant_df = grant_df[len(applications):]\n",
    "\n",
    "# Function to get top K recommendations\n",
    "def get_recommendations(item_vector, k=5):\n",
    "    similarities = cosine_similarity([item_vector], grant_df['vector'].tolist())[0]\n",
    "    similar_indices = similarities.argsort()[-k:][::-1]  # Get top k indices\n",
    "    return grant_df.iloc[similar_indices]['details'].tolist()\n",
    "\n",
    "# Example of getting recommendations for the first item\n",
    "count_correct = 0\n",
    "with open('doc2vec_outputs.txt', 'w') as file:\n",
    "    for i in range(len(applications)):\n",
    "\n",
    "        item_vector = df.iloc[i]['vector']\n",
    "        recommendations = get_recommendations(item_vector)\n",
    "\n",
    "        file.write(f\"Grant: {df.iloc[i]['details'][:200]}:\\n\")\n",
    "        for rec in recommendations:\n",
    "            file.write(rec + '\\n')\n",
    "            if rec == remove_numbers(str(clean_dataset.iloc[i]['opportunitytitle'])):\n",
    "                count_correct += 1\n",
    "        file.write('\\n')\n",
    "\n",
    "print(count_correct / len(applications))"
   ]
  },
  {
   "cell_type": "code",
   "execution_count": null,
   "metadata": {},
   "outputs": [],
   "source": []
  }
 ],
 "metadata": {
  "kernelspec": {
   "display_name": "cs224n",
   "language": "python",
   "name": "cs224n"
  },
  "language_info": {
   "codemirror_mode": {
    "name": "ipython",
    "version": 3
   },
   "file_extension": ".py",
   "mimetype": "text/x-python",
   "name": "python",
   "nbconvert_exporter": "python",
   "pygments_lexer": "ipython3",
   "version": "3.12.2"
  }
 },
 "nbformat": 4,
 "nbformat_minor": 2
}
